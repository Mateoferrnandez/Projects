{
 "cells": [
  {
   "cell_type": "code",
   "execution_count": 2,
   "id": "6f44f40b",
   "metadata": {},
   "outputs": [
    {
     "data": {
      "text/html": [
       "<div>\n",
       "<style scoped>\n",
       "    .dataframe tbody tr th:only-of-type {\n",
       "        vertical-align: middle;\n",
       "    }\n",
       "\n",
       "    .dataframe tbody tr th {\n",
       "        vertical-align: top;\n",
       "    }\n",
       "\n",
       "    .dataframe thead th {\n",
       "        text-align: right;\n",
       "    }\n",
       "</style>\n",
       "<table border=\"1\" class=\"dataframe\">\n",
       "  <thead>\n",
       "    <tr style=\"text-align: right;\">\n",
       "      <th></th>\n",
       "      <th>age</th>\n",
       "      <th>workclass</th>\n",
       "      <th>fnlwgt</th>\n",
       "      <th>education</th>\n",
       "      <th>education-num</th>\n",
       "      <th>marital-status</th>\n",
       "      <th>occupation</th>\n",
       "      <th>relationship</th>\n",
       "      <th>race</th>\n",
       "      <th>sex</th>\n",
       "      <th>capital-gain</th>\n",
       "      <th>capital-loss</th>\n",
       "      <th>hours-per-week</th>\n",
       "      <th>native-country</th>\n",
       "      <th>salary</th>\n",
       "    </tr>\n",
       "  </thead>\n",
       "  <tbody>\n",
       "    <tr>\n",
       "      <th>0</th>\n",
       "      <td>39</td>\n",
       "      <td>State-gov</td>\n",
       "      <td>77516</td>\n",
       "      <td>Bachelors</td>\n",
       "      <td>13</td>\n",
       "      <td>Never-married</td>\n",
       "      <td>Adm-clerical</td>\n",
       "      <td>Not-in-family</td>\n",
       "      <td>White</td>\n",
       "      <td>Male</td>\n",
       "      <td>2174</td>\n",
       "      <td>0</td>\n",
       "      <td>40</td>\n",
       "      <td>United-States</td>\n",
       "      <td>&lt;=50K</td>\n",
       "    </tr>\n",
       "    <tr>\n",
       "      <th>1</th>\n",
       "      <td>50</td>\n",
       "      <td>Self-emp-not-inc</td>\n",
       "      <td>83311</td>\n",
       "      <td>Bachelors</td>\n",
       "      <td>13</td>\n",
       "      <td>Married-civ-spouse</td>\n",
       "      <td>Exec-managerial</td>\n",
       "      <td>Husband</td>\n",
       "      <td>White</td>\n",
       "      <td>Male</td>\n",
       "      <td>0</td>\n",
       "      <td>0</td>\n",
       "      <td>13</td>\n",
       "      <td>United-States</td>\n",
       "      <td>&lt;=50K</td>\n",
       "    </tr>\n",
       "    <tr>\n",
       "      <th>2</th>\n",
       "      <td>38</td>\n",
       "      <td>Private</td>\n",
       "      <td>215646</td>\n",
       "      <td>HS-grad</td>\n",
       "      <td>9</td>\n",
       "      <td>Divorced</td>\n",
       "      <td>Handlers-cleaners</td>\n",
       "      <td>Not-in-family</td>\n",
       "      <td>White</td>\n",
       "      <td>Male</td>\n",
       "      <td>0</td>\n",
       "      <td>0</td>\n",
       "      <td>40</td>\n",
       "      <td>United-States</td>\n",
       "      <td>&lt;=50K</td>\n",
       "    </tr>\n",
       "    <tr>\n",
       "      <th>3</th>\n",
       "      <td>53</td>\n",
       "      <td>Private</td>\n",
       "      <td>234721</td>\n",
       "      <td>11th</td>\n",
       "      <td>7</td>\n",
       "      <td>Married-civ-spouse</td>\n",
       "      <td>Handlers-cleaners</td>\n",
       "      <td>Husband</td>\n",
       "      <td>Black</td>\n",
       "      <td>Male</td>\n",
       "      <td>0</td>\n",
       "      <td>0</td>\n",
       "      <td>40</td>\n",
       "      <td>United-States</td>\n",
       "      <td>&lt;=50K</td>\n",
       "    </tr>\n",
       "    <tr>\n",
       "      <th>4</th>\n",
       "      <td>28</td>\n",
       "      <td>Private</td>\n",
       "      <td>338409</td>\n",
       "      <td>Bachelors</td>\n",
       "      <td>13</td>\n",
       "      <td>Married-civ-spouse</td>\n",
       "      <td>Prof-specialty</td>\n",
       "      <td>Wife</td>\n",
       "      <td>Black</td>\n",
       "      <td>Female</td>\n",
       "      <td>0</td>\n",
       "      <td>0</td>\n",
       "      <td>40</td>\n",
       "      <td>Cuba</td>\n",
       "      <td>&lt;=50K</td>\n",
       "    </tr>\n",
       "  </tbody>\n",
       "</table>\n",
       "</div>"
      ],
      "text/plain": [
       "   age         workclass  fnlwgt  education  education-num  \\\n",
       "0   39         State-gov   77516  Bachelors             13   \n",
       "1   50  Self-emp-not-inc   83311  Bachelors             13   \n",
       "2   38           Private  215646    HS-grad              9   \n",
       "3   53           Private  234721       11th              7   \n",
       "4   28           Private  338409  Bachelors             13   \n",
       "\n",
       "       marital-status         occupation   relationship   race     sex  \\\n",
       "0       Never-married       Adm-clerical  Not-in-family  White    Male   \n",
       "1  Married-civ-spouse    Exec-managerial        Husband  White    Male   \n",
       "2            Divorced  Handlers-cleaners  Not-in-family  White    Male   \n",
       "3  Married-civ-spouse  Handlers-cleaners        Husband  Black    Male   \n",
       "4  Married-civ-spouse     Prof-specialty           Wife  Black  Female   \n",
       "\n",
       "   capital-gain  capital-loss  hours-per-week native-country salary  \n",
       "0          2174             0              40  United-States  <=50K  \n",
       "1             0             0              13  United-States  <=50K  \n",
       "2             0             0              40  United-States  <=50K  \n",
       "3             0             0              40  United-States  <=50K  \n",
       "4             0             0              40           Cuba  <=50K  "
      ]
     },
     "execution_count": 2,
     "metadata": {},
     "output_type": "execute_result"
    }
   ],
   "source": [
    "import pandas as pd\n",
    "# How many of each race are represented in this dataset? This should be a Pandas series with race names as the index labels.\n",
    "df=pd.read_csv('adult.data.csv')\n",
    "#race_df=pd.Series()\n",
    "#df.head()\n",
    "race_count=pd.Series(df['race'].value_counts())\n",
    "#df.groupby('race').count()\n",
    "race_count\n",
    "df.head()"
   ]
  },
  {
   "cell_type": "code",
   "execution_count": 3,
   "id": "30a31dcf",
   "metadata": {},
   "outputs": [
    {
     "data": {
      "text/plain": [
       "age    39.433547\n",
       "dtype: float64"
      ]
     },
     "execution_count": 3,
     "metadata": {},
     "output_type": "execute_result"
    }
   ],
   "source": [
    "# What is the average age of men?\n",
    "#df.head()\n",
    "#df['sex'].value_counts()\n",
    "\n",
    "#hombres=df.loc[df['sex']=='Male',['age']]\n",
    "#hombres.mean()\n",
    "hombres=df.loc[df['sex']=='Male',['age']].mean()\n",
    "a=hombres.loc['age']\n",
    "a\n",
    "hombres"
   ]
  },
  {
   "cell_type": "code",
   "execution_count": 4,
   "id": "eccd0ea9",
   "metadata": {},
   "outputs": [
    {
     "data": {
      "text/plain": [
       "16.44605509658794"
      ]
     },
     "execution_count": 4,
     "metadata": {},
     "output_type": "execute_result"
    }
   ],
   "source": [
    " # What is the percentage of people who have a Bachelor's degree?\n",
    "\n",
    "Bachelors=df.loc[df['education']=='Bachelors',['education']]\n",
    "#len(df['education'])\n",
    "u=len(Bachelors)/len(df) *100\n",
    "u"
   ]
  },
  {
   "cell_type": "code",
   "execution_count": 13,
   "id": "3df3383f",
   "metadata": {},
   "outputs": [
    {
     "data": {
      "text/plain": [
       "46.535843011613935"
      ]
     },
     "execution_count": 13,
     "metadata": {},
     "output_type": "execute_result"
    }
   ],
   "source": [
    "# What percentage of people with advanced education (`Bachelors`, `Masters`, or `Doctorate`) make more than 50K?\n",
    "#FORMA EN LA QUE SE USA OR : filtered_df = df.loc[(df['education'] == 'Bachelors') | (df['education'] == 'Masters') | (df['education'] == 'Doctorate'), ['education', 'salary']]\n",
    "filtered_df = df.loc[df['education'].isin(['Bachelors', 'Masters', 'Doctorate']), ['education', 'salary']]\n",
    "more50K=filtered_df.loc[df['salary'] == '>50K',['education','salary']]\n",
    "#filtered_df.value_counts()\n",
    "len(more50K)/len(filtered_df) *100\n"
   ]
  },
  {
   "cell_type": "code",
   "execution_count": 6,
   "id": "e6aa3f35",
   "metadata": {},
   "outputs": [
    {
     "data": {
      "text/plain": [
       "17.3713601914639"
      ]
     },
     "execution_count": 6,
     "metadata": {},
     "output_type": "execute_result"
    }
   ],
   "source": [
    " # What percentage of people without advanced education make more than 50K?\n",
    "#Forma en la que se usa or : filtered_df = df.loc[(df['education'] != 'Bachelors') | (df['education'] != 'Masters') | (df['education'] != 'Doctorate'), ['education', 'salary']]\n",
    "withoutAE=df.loc[~df['education'].isin(['Bachelors', 'Masters', 'Doctorate']), ['education', 'salary']] #el simbolo '~'es igual a !=\n",
    "more50KAE=withoutAE.loc[df['salary'] == '>50K',['education','salary']]\n",
    "len(more50KAE)/len(withoutAE) *100"
   ]
  },
  {
   "cell_type": "code",
   "execution_count": 7,
   "id": "3e23f750",
   "metadata": {},
   "outputs": [
    {
     "data": {
      "text/plain": [
       "1"
      ]
     },
     "execution_count": 7,
     "metadata": {},
     "output_type": "execute_result"
    }
   ],
   "source": [
    "# What is the minimum number of hours a person works per week (hours-per-week feature)?\n",
    "#print(df['hours-per-week'].describe())\n",
    "df['hours-per-week'].min()"
   ]
  },
  {
   "cell_type": "code",
   "execution_count": 15,
   "id": "fc895d53",
   "metadata": {},
   "outputs": [
    {
     "data": {
      "text/plain": [
       "10.0"
      ]
     },
     "execution_count": 15,
     "metadata": {},
     "output_type": "execute_result"
    }
   ],
   "source": [
    "# What percentage of the people who work the minimum number of hours per week have a salary of >50K?\n",
    "#peoplemin=df.loc[df['hours-per-week']== 1,['age','salary']]\n",
    "#min50K=peoplemin.loc[df['salary']=='>50K',['age','salary']]\n",
    "#len(min50K)/len(peoplemin) *100\n",
    "#OPTIMIZACION CHATGPT\n",
    "# Filtrar las personas que trabajan el número mínimo de horas por semana y ganan más de 50K\n",
    "min_workers_rich = df[(df['hours-per-week'] == 1) & (df['salary'] == '>50K')]\n",
    "\n",
    "# Calcular el número de personas que trabajan el número mínimo de horas por semana\n",
    "num_min_workers = len(df[df['hours-per-week'] == 1])\n",
    "\n",
    "# Calcular el porcentaje de personas que ganan más de 50K entre los que trabajan el mínimo de horas\n",
    "rich_percentage = (len(min_workers_rich) / num_min_workers) * 100\n",
    "rich_percentage"
   ]
  },
  {
   "cell_type": "code",
   "execution_count": 17,
   "id": "db66ebab",
   "metadata": {},
   "outputs": [
    {
     "data": {
      "text/html": [
       "<div>\n",
       "<style scoped>\n",
       "    .dataframe tbody tr th:only-of-type {\n",
       "        vertical-align: middle;\n",
       "    }\n",
       "\n",
       "    .dataframe tbody tr th {\n",
       "        vertical-align: top;\n",
       "    }\n",
       "\n",
       "    .dataframe thead th {\n",
       "        text-align: right;\n",
       "    }\n",
       "</style>\n",
       "<table border=\"1\" class=\"dataframe\">\n",
       "  <thead>\n",
       "    <tr style=\"text-align: right;\">\n",
       "      <th></th>\n",
       "      <th>age</th>\n",
       "      <th>workclass</th>\n",
       "      <th>fnlwgt</th>\n",
       "      <th>education</th>\n",
       "      <th>education-num</th>\n",
       "      <th>marital-status</th>\n",
       "      <th>occupation</th>\n",
       "      <th>relationship</th>\n",
       "      <th>race</th>\n",
       "      <th>sex</th>\n",
       "      <th>capital-gain</th>\n",
       "      <th>capital-loss</th>\n",
       "      <th>hours-per-week</th>\n",
       "      <th>native-country</th>\n",
       "      <th>salary</th>\n",
       "    </tr>\n",
       "  </thead>\n",
       "  <tbody>\n",
       "    <tr>\n",
       "      <th>189</th>\n",
       "      <td>58</td>\n",
       "      <td>State-gov</td>\n",
       "      <td>109567</td>\n",
       "      <td>Doctorate</td>\n",
       "      <td>16</td>\n",
       "      <td>Married-civ-spouse</td>\n",
       "      <td>Prof-specialty</td>\n",
       "      <td>Husband</td>\n",
       "      <td>White</td>\n",
       "      <td>Male</td>\n",
       "      <td>0</td>\n",
       "      <td>0</td>\n",
       "      <td>1</td>\n",
       "      <td>United-States</td>\n",
       "      <td>&gt;50K</td>\n",
       "    </tr>\n",
       "    <tr>\n",
       "      <th>20072</th>\n",
       "      <td>65</td>\n",
       "      <td>?</td>\n",
       "      <td>76043</td>\n",
       "      <td>HS-grad</td>\n",
       "      <td>9</td>\n",
       "      <td>Married-civ-spouse</td>\n",
       "      <td>?</td>\n",
       "      <td>Husband</td>\n",
       "      <td>White</td>\n",
       "      <td>Male</td>\n",
       "      <td>0</td>\n",
       "      <td>0</td>\n",
       "      <td>1</td>\n",
       "      <td>United-States</td>\n",
       "      <td>&gt;50K</td>\n",
       "    </tr>\n",
       "  </tbody>\n",
       "</table>\n",
       "</div>"
      ],
      "text/plain": [
       "       age  workclass  fnlwgt  education  education-num      marital-status  \\\n",
       "189     58  State-gov  109567  Doctorate             16  Married-civ-spouse   \n",
       "20072   65          ?   76043    HS-grad              9  Married-civ-spouse   \n",
       "\n",
       "           occupation relationship   race   sex  capital-gain  capital-loss  \\\n",
       "189    Prof-specialty      Husband  White  Male             0             0   \n",
       "20072               ?      Husband  White  Male             0             0   \n",
       "\n",
       "       hours-per-week native-country salary  \n",
       "189                 1  United-States   >50K  \n",
       "20072               1  United-States   >50K  "
      ]
     },
     "execution_count": 17,
     "metadata": {},
     "output_type": "execute_result"
    }
   ],
   "source": [
    "min_workers_rich = df[(df['hours-per-week'] == 1) & (df['salary'] == '>50K')]\n"
   ]
  },
  {
   "cell_type": "code",
   "execution_count": 9,
   "id": "6955f916",
   "metadata": {},
   "outputs": [
    {
     "name": "stdout",
     "output_type": "stream",
     "text": [
      "7171\n"
     ]
    },
    {
     "data": {
      "text/plain": [
       "91.45517153424308"
      ]
     },
     "execution_count": 9,
     "metadata": {},
     "output_type": "execute_result"
    }
   ],
   "source": [
    "# What country has the highest percentage of people that earn >50K?\n",
    "t=df.loc[df['salary']=='>50K',['native-country']]\n",
    "#countries=pd.Series(t.value_counts())\n",
    "h=pd.Series(t.value_counts())\n",
    "highestn=h.max()\n",
    "print(highestn)\n",
    "h=h.reset_index()\n",
    "highest=h.loc[0]\n",
    "highestcountry=highest['native-country']\n",
    "highestn/len(t) *100\n"
   ]
  },
  {
   "cell_type": "code",
   "execution_count": 10,
   "id": "802f3554",
   "metadata": {},
   "outputs": [
    {
     "data": {
      "text/plain": [
       "'Prof-specialty'"
      ]
     },
     "execution_count": 10,
     "metadata": {},
     "output_type": "execute_result"
    }
   ],
   "source": [
    " # Identify the most popular occupation for those who earn >50K in India.\n",
    "g=df.loc[(df['salary'] == '>50K') & (df['native-country'] == 'India') , ['occupation']]\n",
    "k=g.value_counts().tolist()\n",
    "p=pd.Series(g.value_counts())\n",
    "p=p.reset_index()\n",
    "p.index=g.value_counts().tolist()\n",
    "o=g.value_counts().max()\n",
    "p.loc[o,'occupation']\n",
    "#f=f.reset_index()\n",
    "#print(g)\n",
    "#print(f)\n"
   ]
  },
  {
   "cell_type": "code",
   "execution_count": 11,
   "id": "0d9049f0",
   "metadata": {},
   "outputs": [
    {
     "data": {
      "text/plain": [
       "25"
      ]
     },
     "execution_count": 11,
     "metadata": {},
     "output_type": "execute_result"
    }
   ],
   "source": [
    "df[(df['native-country'] == 'India') & (df['salary'] == '>50K')].groupby('occupation')['occupation'].count().max()"
   ]
  },
  {
   "cell_type": "code",
   "execution_count": 12,
   "id": "ca91aa7c",
   "metadata": {},
   "outputs": [
    {
     "ename": "NameError",
     "evalue": "name 'f' is not defined",
     "output_type": "error",
     "traceback": [
      "\u001b[1;31m---------------------------------------------------------------------------\u001b[0m",
      "\u001b[1;31mNameError\u001b[0m                                 Traceback (most recent call last)",
      "\u001b[1;32m~\\AppData\\Local\\Temp\\ipykernel_11476\\1071869302.py\u001b[0m in \u001b[0;36m<module>\u001b[1;34m\u001b[0m\n\u001b[1;32m----> 1\u001b[1;33m \u001b[0mf\u001b[0m\u001b[1;33m.\u001b[0m\u001b[0mmax\u001b[0m\u001b[1;33m(\u001b[0m\u001b[1;33m)\u001b[0m\u001b[1;33m\u001b[0m\u001b[1;33m\u001b[0m\u001b[0m\n\u001b[0m",
      "\u001b[1;31mNameError\u001b[0m: name 'f' is not defined"
     ]
    }
   ],
   "source": [
    "f.max()"
   ]
  },
  {
   "cell_type": "code",
   "execution_count": null,
   "id": "5695362c",
   "metadata": {},
   "outputs": [],
   "source": []
  }
 ],
 "metadata": {
  "kernelspec": {
   "display_name": "Python 3 (ipykernel)",
   "language": "python",
   "name": "python3"
  },
  "language_info": {
   "codemirror_mode": {
    "name": "ipython",
    "version": 3
   },
   "file_extension": ".py",
   "mimetype": "text/x-python",
   "name": "python",
   "nbconvert_exporter": "python",
   "pygments_lexer": "ipython3",
   "version": "3.9.13"
  }
 },
 "nbformat": 4,
 "nbformat_minor": 5
}
