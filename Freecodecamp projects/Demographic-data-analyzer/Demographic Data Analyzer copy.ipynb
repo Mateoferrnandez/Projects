{
 "cells": [
  {
   "cell_type": "code",
   "execution_count": 1,
   "id": "6f44f40b",
   "metadata": {},
   "outputs": [],
   "source": [
    "import pandas as pd\n"
   ]
  },
  {
   "cell_type": "code",
   "execution_count": 2,
   "metadata": {},
   "outputs": [
    {
     "data": {
      "text/plain": [
       "race\n",
       "White                 27816\n",
       "Black                  3124\n",
       "Asian-Pac-Islander     1039\n",
       "Amer-Indian-Eskimo      311\n",
       "Other                   271\n",
       "Name: count, dtype: int64"
      ]
     },
     "execution_count": 2,
     "metadata": {},
     "output_type": "execute_result"
    }
   ],
   "source": [
    "# How many of each race are represented in this dataset? This should be a Pandas series with race names as the index labels.\n",
    "df=pd.read_csv('adult.data.csv')\n",
    "#race_df=pd.Series()\n",
    "#df.head()\n",
    "race_count=pd.Series(df['race'].value_counts())\n",
    "race_count.head()\n",
    "#df.info()\n"
   ]
  },
  {
   "cell_type": "code",
   "execution_count": 3,
   "id": "30a31dcf",
   "metadata": {},
   "outputs": [
    {
     "data": {
      "text/plain": [
       "39.43354749885268"
      ]
     },
     "execution_count": 3,
     "metadata": {},
     "output_type": "execute_result"
    }
   ],
   "source": [
    "# What is the average age of men?\n",
    "\n",
    "prueba=df[df['sex'] == 'Male']\n",
    "prueba['age'].mean()"
   ]
  },
  {
   "cell_type": "code",
   "execution_count": 4,
   "id": "eccd0ea9",
   "metadata": {},
   "outputs": [
    {
     "name": "stdout",
     "output_type": "stream",
     "text": [
      "there are 5355 persons with bachelors degree\n",
      "there are 5355 persons with bachelors degree, that represent a 16.45 % of the\n"
     ]
    }
   ],
   "source": [
    " # What is the percentage of people who have a Bachelor's degree?\n",
    "bachelors=df['education'].value_counts()\n",
    "bachelors=bachelors['Bachelors']\n",
    "print(\"there are\",bachelors,\"persons with bachelors degree\")\n",
    "pepelewbachelors= round(bachelors/df['education'].value_counts().sum() *100,2)\n",
    "print(\"there are\",bachelors,\"persons with bachelors degree, that represent a\", pepelewbachelors,\"% of the\")\n",
    "\n"
   ]
  },
  {
   "cell_type": "code",
   "execution_count": 5,
   "id": "3df3383f",
   "metadata": {},
   "outputs": [
    {
     "ename": "NameError",
     "evalue": "name 'more50kp' is not defined",
     "output_type": "error",
     "traceback": [
      "\u001b[1;31m---------------------------------------------------------------------------\u001b[0m",
      "\u001b[1;31mNameError\u001b[0m                                 Traceback (most recent call last)",
      "Cell \u001b[1;32mIn[5], line 2\u001b[0m\n\u001b[0;32m      1\u001b[0m \u001b[38;5;66;03m# What percentage of people with advanced education (`Bachelors`, `Masters`, or `Doctorate`) make more than 50K?\u001b[39;00m\n\u001b[1;32m----> 2\u001b[0m data\u001b[38;5;241m=\u001b[39mmore50kp\u001b[38;5;241m.\u001b[39mloc[more50kp[\u001b[38;5;124m'\u001b[39m\u001b[38;5;124meducation\u001b[39m\u001b[38;5;124m'\u001b[39m]\u001b[38;5;241m.\u001b[39misin({\u001b[38;5;124m'\u001b[39m\u001b[38;5;124mBachelors\u001b[39m\u001b[38;5;124m'\u001b[39m, \u001b[38;5;124m'\u001b[39m\u001b[38;5;124mMasters\u001b[39m\u001b[38;5;124m'\u001b[39m, \u001b[38;5;124m'\u001b[39m\u001b[38;5;124mDoctorate\u001b[39m\u001b[38;5;124m'\u001b[39m})]\n\u001b[0;32m      3\u001b[0m qst31\u001b[38;5;241m=\u001b[39m\u001b[38;5;28mround\u001b[39m(data[\u001b[38;5;124m'\u001b[39m\u001b[38;5;124meducation\u001b[39m\u001b[38;5;124m'\u001b[39m]\u001b[38;5;241m.\u001b[39mvalue_counts()\u001b[38;5;241m.\u001b[39msum()\u001b[38;5;241m/\u001b[39mdf\u001b[38;5;241m.\u001b[39mloc[df[\u001b[38;5;124m'\u001b[39m\u001b[38;5;124meducation\u001b[39m\u001b[38;5;124m'\u001b[39m]\u001b[38;5;241m.\u001b[39misin({\u001b[38;5;124m'\u001b[39m\u001b[38;5;124mBachelors\u001b[39m\u001b[38;5;124m'\u001b[39m, \u001b[38;5;124m'\u001b[39m\u001b[38;5;124mMasters\u001b[39m\u001b[38;5;124m'\u001b[39m, \u001b[38;5;124m'\u001b[39m\u001b[38;5;124mDoctorate\u001b[39m\u001b[38;5;124m'\u001b[39m})]\u001b[38;5;241m.\u001b[39mvalue_counts()\u001b[38;5;241m.\u001b[39msum() \u001b[38;5;241m*\u001b[39m\u001b[38;5;241m100\u001b[39m,\u001b[38;5;241m1\u001b[39m)\n\u001b[0;32m      4\u001b[0m \u001b[38;5;28mprint\u001b[39m(qst31,\u001b[38;5;124m\"\u001b[39m\u001b[38;5;124m%\u001b[39m\u001b[38;5;124m Of the people that have advanced education make more than 50 k\u001b[39m\u001b[38;5;124m\"\u001b[39m )\n",
      "\u001b[1;31mNameError\u001b[0m: name 'more50kp' is not defined"
     ]
    }
   ],
   "source": [
    "# What percentage of people with advanced education (`Bachelors`, `Masters`, or `Doctorate`) make more than 50K?\n",
    "data=more50kp.loc[more50kp['education'].isin({'Bachelors', 'Masters', 'Doctorate'})]\n",
    "qst31=round(data['education'].value_counts().sum()/df.loc[df['education'].isin({'Bachelors', 'Masters', 'Doctorate'})].value_counts().sum() *100,1)\n",
    "print(qst31,\"% Of the people that have advanced education make more than 50 k\" )\n"
   ]
  },
  {
   "cell_type": "code",
   "execution_count": null,
   "id": "e6aa3f35",
   "metadata": {},
   "outputs": [
    {
     "data": {
      "text/plain": [
       "17.3713601914639"
      ]
     },
     "execution_count": 5,
     "metadata": {},
     "output_type": "execute_result"
    }
   ],
   "source": [
    "\n",
    "<img src=\"./assets/ollama.png\" width=\"500\" alt=\"Select Ollama models\" />"
   ]
  },
  {
   "cell_type": "code",
   "execution_count": null,
   "id": "3e23f750",
   "metadata": {},
   "outputs": [
    {
     "name": "stdout",
     "output_type": "stream",
     "text": [
      "1 is the minimum hours a person work per week\n"
     ]
    }
   ],
   "source": [
    "# What is the minimum number of hours a person works per week (hours-per-week feature)?\n",
    "print(df['hours-per-week'].min(),\"is the minimum hours a person work per week\")\n"
   ]
  },
  {
   "cell_type": "code",
   "execution_count": null,
   "id": "fc895d53",
   "metadata": {},
   "outputs": [
    {
     "name": "stdout",
     "output_type": "stream",
     "text": [
      "10.0 % Of people that work the minimum hours per week win more tan 50k\n"
     ]
    }
   ],
   "source": [
    "# What percentage of the people who work the minimum number of hours per week have a salary of >50K?\n",
    "more50kp=df[df['salary']=='>50K']\n",
    "#round(more50kp['hours-per-week'].value_counts().min()/more50kp['hours-per-week'].value_counts().sum()*100,3)\n",
    "len(more50kp[more50kp['hours-per-week']== 1])\n",
    "#df[df['hours-per-week']==1]\n",
    "data4=len(more50kp[more50kp['hours-per-week']== 1])/len(df[df['hours-per-week']==1])*100\n",
    "print(data4,\"% Of people that work the minimum hours per week win more tan 50k\")"
   ]
  },
  {
   "cell_type": "code",
   "execution_count": null,
   "id": "6955f916",
   "metadata": {},
   "outputs": [
    {
     "name": "stdout",
     "output_type": "stream",
     "text": [
      "United-States have the most percentage of people working that earn more than 50k, with a precentage of  91.46 %\n"
     ]
    }
   ],
   "source": [
    "# What country has the highest percentage of people that earn >50K?\n",
    "\n",
    "countrys=more50kp['native-country'].value_counts().reset_index().rename(columns={'index':'native-country','native-country':'count'})\n",
    "p=countrys.loc[0]\n",
    "p['native-country']\n",
    "countryper= round(more50kp['native-country'].value_counts().max()/more50kp['native-country'].value_counts().sum()*100,2)\n",
    "print(p['native-country'],\"have the most percentage of people working that earn more than 50k, with a precentage of \",countryper,\"%\")"
   ]
  },
  {
   "cell_type": "code",
   "execution_count": null,
   "id": "802f3554",
   "metadata": {},
   "outputs": [
    {
     "name": "stdout",
     "output_type": "stream",
     "text": [
      "Prof-specialty is the most common occupation of the people who make more than 50k in india\n"
     ]
    }
   ],
   "source": [
    " # Identify the most popular occupation for those who earn >50K in India.\n",
    "india=more50kp[more50kp['native-country']=='India']\n",
    "india=india['occupation'].value_counts().reset_index().rename(columns={'index':'occupation','occupation':'count'})\n",
    "occupation=india.loc[0]\n",
    "occupation['occupation']\n",
    "print(occupation['occupation'],\"is the most common occupation of the people who make more than 50k in india\")"
   ]
  }
 ],
 "metadata": {
  "kernelspec": {
   "display_name": "Python 3 (ipykernel)",
   "language": "python",
   "name": "python3"
  },
  "language_info": {
   "codemirror_mode": {
    "name": "ipython",
    "version": 3
   },
   "file_extension": ".py",
   "mimetype": "text/x-python",
   "name": "python",
   "nbconvert_exporter": "python",
   "pygments_lexer": "ipython3",
   "version": "3.11.7"
  }
 },
 "nbformat": 4,
 "nbformat_minor": 5
}
