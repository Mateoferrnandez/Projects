{
  "cells": [
    {
      "cell_type": "code",
      "execution_count": null,
      "id": "9caa4cd8",
      "metadata": {
        "id": "9caa4cd8"
      },
      "outputs": [],
      "source": [
        "import pandas as pd\n",
        "import numpy as np\n",
        "import matplotlib.pyplot as plt"
      ]
    },
    {
      "cell_type": "code",
      "source": [],
      "metadata": {
        "colab": {
          "base_uri": "https://localhost:8080/",
          "height": 304
        },
        "id": "alCP6eMe4IoT",
        "outputId": "29199b96-6058-436b-81e9-0648e9b3fa9c"
      },
      "id": "alCP6eMe4IoT",
      "execution_count": null,
      "outputs": [
        {
          "output_type": "error",
          "ename": "MessageError",
          "evalue": "Error: credential propagation was unsuccessful",
          "traceback": [
            "\u001b[0;31m---------------------------------------------------------------------------\u001b[0m",
            "\u001b[0;31mMessageError\u001b[0m                              Traceback (most recent call last)",
            "\u001b[0;32m<ipython-input-2-d5df0069828e>\u001b[0m in \u001b[0;36m<cell line: 2>\u001b[0;34m()\u001b[0m\n\u001b[1;32m      1\u001b[0m \u001b[0;32mfrom\u001b[0m \u001b[0mgoogle\u001b[0m\u001b[0;34m.\u001b[0m\u001b[0mcolab\u001b[0m \u001b[0;32mimport\u001b[0m \u001b[0mdrive\u001b[0m\u001b[0;34m\u001b[0m\u001b[0;34m\u001b[0m\u001b[0m\n\u001b[0;32m----> 2\u001b[0;31m \u001b[0mdrive\u001b[0m\u001b[0;34m.\u001b[0m\u001b[0mmount\u001b[0m\u001b[0;34m(\u001b[0m\u001b[0;34m'/content/drive'\u001b[0m\u001b[0;34m)\u001b[0m\u001b[0;34m\u001b[0m\u001b[0;34m\u001b[0m\u001b[0m\n\u001b[0m",
            "\u001b[0;32m/usr/local/lib/python3.10/dist-packages/google/colab/drive.py\u001b[0m in \u001b[0;36mmount\u001b[0;34m(mountpoint, force_remount, timeout_ms, readonly)\u001b[0m\n\u001b[1;32m     98\u001b[0m \u001b[0;32mdef\u001b[0m \u001b[0mmount\u001b[0m\u001b[0;34m(\u001b[0m\u001b[0mmountpoint\u001b[0m\u001b[0;34m,\u001b[0m \u001b[0mforce_remount\u001b[0m\u001b[0;34m=\u001b[0m\u001b[0;32mFalse\u001b[0m\u001b[0;34m,\u001b[0m \u001b[0mtimeout_ms\u001b[0m\u001b[0;34m=\u001b[0m\u001b[0;36m120000\u001b[0m\u001b[0;34m,\u001b[0m \u001b[0mreadonly\u001b[0m\u001b[0;34m=\u001b[0m\u001b[0;32mFalse\u001b[0m\u001b[0;34m)\u001b[0m\u001b[0;34m:\u001b[0m\u001b[0;34m\u001b[0m\u001b[0;34m\u001b[0m\u001b[0m\n\u001b[1;32m     99\u001b[0m   \u001b[0;34m\"\"\"Mount your Google Drive at the specified mountpoint path.\"\"\"\u001b[0m\u001b[0;34m\u001b[0m\u001b[0;34m\u001b[0m\u001b[0m\n\u001b[0;32m--> 100\u001b[0;31m   return _mount(\n\u001b[0m\u001b[1;32m    101\u001b[0m       \u001b[0mmountpoint\u001b[0m\u001b[0;34m,\u001b[0m\u001b[0;34m\u001b[0m\u001b[0;34m\u001b[0m\u001b[0m\n\u001b[1;32m    102\u001b[0m       \u001b[0mforce_remount\u001b[0m\u001b[0;34m=\u001b[0m\u001b[0mforce_remount\u001b[0m\u001b[0;34m,\u001b[0m\u001b[0;34m\u001b[0m\u001b[0;34m\u001b[0m\u001b[0m\n",
            "\u001b[0;32m/usr/local/lib/python3.10/dist-packages/google/colab/drive.py\u001b[0m in \u001b[0;36m_mount\u001b[0;34m(mountpoint, force_remount, timeout_ms, ephemeral, readonly)\u001b[0m\n\u001b[1;32m    127\u001b[0m   )\n\u001b[1;32m    128\u001b[0m   \u001b[0;32mif\u001b[0m \u001b[0mephemeral\u001b[0m\u001b[0;34m:\u001b[0m\u001b[0;34m\u001b[0m\u001b[0;34m\u001b[0m\u001b[0m\n\u001b[0;32m--> 129\u001b[0;31m     _message.blocking_request(\n\u001b[0m\u001b[1;32m    130\u001b[0m         \u001b[0;34m'request_auth'\u001b[0m\u001b[0;34m,\u001b[0m \u001b[0mrequest\u001b[0m\u001b[0;34m=\u001b[0m\u001b[0;34m{\u001b[0m\u001b[0;34m'authType'\u001b[0m\u001b[0;34m:\u001b[0m \u001b[0;34m'dfs_ephemeral'\u001b[0m\u001b[0;34m}\u001b[0m\u001b[0;34m,\u001b[0m \u001b[0mtimeout_sec\u001b[0m\u001b[0;34m=\u001b[0m\u001b[0;32mNone\u001b[0m\u001b[0;34m\u001b[0m\u001b[0;34m\u001b[0m\u001b[0m\n\u001b[1;32m    131\u001b[0m     )\n",
            "\u001b[0;32m/usr/local/lib/python3.10/dist-packages/google/colab/_message.py\u001b[0m in \u001b[0;36mblocking_request\u001b[0;34m(request_type, request, timeout_sec, parent)\u001b[0m\n\u001b[1;32m    174\u001b[0m       \u001b[0mrequest_type\u001b[0m\u001b[0;34m,\u001b[0m \u001b[0mrequest\u001b[0m\u001b[0;34m,\u001b[0m \u001b[0mparent\u001b[0m\u001b[0;34m=\u001b[0m\u001b[0mparent\u001b[0m\u001b[0;34m,\u001b[0m \u001b[0mexpect_reply\u001b[0m\u001b[0;34m=\u001b[0m\u001b[0;32mTrue\u001b[0m\u001b[0;34m\u001b[0m\u001b[0;34m\u001b[0m\u001b[0m\n\u001b[1;32m    175\u001b[0m   )\n\u001b[0;32m--> 176\u001b[0;31m   \u001b[0;32mreturn\u001b[0m \u001b[0mread_reply_from_input\u001b[0m\u001b[0;34m(\u001b[0m\u001b[0mrequest_id\u001b[0m\u001b[0;34m,\u001b[0m \u001b[0mtimeout_sec\u001b[0m\u001b[0;34m)\u001b[0m\u001b[0;34m\u001b[0m\u001b[0;34m\u001b[0m\u001b[0m\n\u001b[0m",
            "\u001b[0;32m/usr/local/lib/python3.10/dist-packages/google/colab/_message.py\u001b[0m in \u001b[0;36mread_reply_from_input\u001b[0;34m(message_id, timeout_sec)\u001b[0m\n\u001b[1;32m    101\u001b[0m     ):\n\u001b[1;32m    102\u001b[0m       \u001b[0;32mif\u001b[0m \u001b[0;34m'error'\u001b[0m \u001b[0;32min\u001b[0m \u001b[0mreply\u001b[0m\u001b[0;34m:\u001b[0m\u001b[0;34m\u001b[0m\u001b[0;34m\u001b[0m\u001b[0m\n\u001b[0;32m--> 103\u001b[0;31m         \u001b[0;32mraise\u001b[0m \u001b[0mMessageError\u001b[0m\u001b[0;34m(\u001b[0m\u001b[0mreply\u001b[0m\u001b[0;34m[\u001b[0m\u001b[0;34m'error'\u001b[0m\u001b[0;34m]\u001b[0m\u001b[0;34m)\u001b[0m\u001b[0;34m\u001b[0m\u001b[0;34m\u001b[0m\u001b[0m\n\u001b[0m\u001b[1;32m    104\u001b[0m       \u001b[0;32mreturn\u001b[0m \u001b[0mreply\u001b[0m\u001b[0;34m.\u001b[0m\u001b[0mget\u001b[0m\u001b[0;34m(\u001b[0m\u001b[0;34m'data'\u001b[0m\u001b[0;34m,\u001b[0m \u001b[0;32mNone\u001b[0m\u001b[0;34m)\u001b[0m\u001b[0;34m\u001b[0m\u001b[0;34m\u001b[0m\u001b[0m\n\u001b[1;32m    105\u001b[0m \u001b[0;34m\u001b[0m\u001b[0m\n",
            "\u001b[0;31mMessageError\u001b[0m: Error: credential propagation was unsuccessful"
          ]
        }
      ]
    },
    {
      "cell_type": "markdown",
      "source": [
        "# Nueva sección"
      ],
      "metadata": {
        "id": "KruZU9PG4XDe"
      },
      "id": "KruZU9PG4XDe"
    },
    {
      "cell_type": "code",
      "execution_count": null,
      "id": "d7e237b6",
      "metadata": {
        "id": "d7e237b6"
      },
      "outputs": [],
      "source": [
        "df=pd.read_csv('/Carbon Dioxide Emission Estimates.csv')\n",
        "dfl=pd.read_csv('/Land.csv')\n"
      ]
    },
    {
      "cell_type": "code",
      "execution_count": null,
      "id": "e62a837a",
      "metadata": {
        "id": "e62a837a"
      },
      "outputs": [],
      "source": [
        "AñosE = df['Year'].unique()\n",
        "AñosL = dfl['Year'].unique()\n",
        "\n",
        "# Encontrar los años coincidentes\n",
        "años_coincidentes = np.intersect1d(AñosE, AñosL)\n",
        "DFETCO2 = df[(df['Year'].isin(años_coincidentes))]\n",
        "DFLand=dfl[(dfl['Year'].isin(años_coincidentes))]\n",
        "DFETCO2.columns=['Country','Year','Type','Value']\n",
        "DFLand.columns=['Country','Year','Type','Value']\n",
        "#OTRA MANERA\n",
        "#AñosE = set(df['Year'].unique())\n",
        "#AñosL = set(dfl['Year'].unique())\n",
        "#años_coincidentes = list(AñosE.intersection(AñosL))\n",
        "#print(años_coincidentes)\n",
        "#Este código utiliza set() para convertir los arrays de años únicos en conjuntos y luego aplica la función intersection() para encontrar la intersección de los conjuntos, es decir, los años que son comunes en ambos DataFrames. La lista resultante, años_coincidentes, contendrá esos años.\n",
        "#DFETCO2 = df[(df['Year'].isin(años_coincidentes))]\n",
        "#DFLand=dfl[(dfl['Year'].isin(años_coincidentes))]"
      ]
    },
    {
      "cell_type": "code",
      "execution_count": null,
      "id": "9ea11afc",
      "metadata": {
        "colab": {
          "base_uri": "https://localhost:8080/"
        },
        "id": "9ea11afc",
        "outputId": "df62318e-6cbf-4893-a17c-c97b4bb2d571"
      },
      "outputs": [
        {
          "output_type": "execute_result",
          "data": {
            "text/plain": [
              "array(['Argentina', 'Bolivia', 'Brazil', 'Chile', 'Colombia', 'Ecuador',\n",
              "       'Guyana', 'Paraguay', 'Peru', 'Suriname', 'Uruguay', 'Venezuela'],\n",
              "      dtype='<U13')"
            ]
          },
          "metadata": {},
          "execution_count": 14
        }
      ],
      "source": [
        "\n",
        "paises=DFLand['Country'].unique()\n",
        "paises=[(pais.split(' ')[0]) for pais in paises] #1.pais.split(): Para cada pais en paises_sudamerica, pais.split() divide la cadena pais en palabras (separadas por espacios) y devuelve una lista con estas palabras.\n",
        "#2 pais.split()[0]: Después de dividir la cadena pais en palabras, [0] se agrega para seleccionar solo el primer elemento de esta lista (es decir, la primera palabra de pais).}\n",
        "#3 [pais.split()[0] for pais in paises_sudamerica]: Esto es una comprensión de lista, que combina un bucle for con una expresión de lista. En cada iteración del bucle for, se ejecuta la expresión pais.split()[0], que toma la lista de palabras generada por pais.split() y selecciona solo el primer elemento de esta lista. El resultado es una nueva lista que contiene solo las primeras palabras de cada elemento en la lista paises_sudamerica.\n",
        "paises_sudamerica = [\n",
        "    \"Argentina\",\n",
        "    \"Bolivia\",\n",
        "    \"Brazil\",\n",
        "    \"Chile\",\n",
        "    \"Colombia\",\n",
        "    \"Ecuador\",\n",
        "    \"Guyana\",\n",
        "    \"Paraguay\",\n",
        "    \"Peru\",\n",
        "    \"Suriname\",\n",
        "    \"Uruguay\",\n",
        "    \"Venezuela\"\n",
        "]\n",
        "paises_coincidentes = np.intersect1d(paises, paises_sudamerica)\n",
        "paises_coincidentes"
      ]
    },
    {
      "cell_type": "code",
      "execution_count": null,
      "id": "b50ad7d3",
      "metadata": {
        "colab": {
          "base_uri": "https://localhost:8080/"
        },
        "id": "b50ad7d3",
        "outputId": "83c82690-31d4-4d52-8ef8-925c784a19de"
      },
      "outputs": [
        {
          "output_type": "stream",
          "name": "stderr",
          "text": [
            "<ipython-input-15-a34a1c2bfd4b>:10: SettingWithCopyWarning: \n",
            "A value is trying to be set on a copy of a slice from a DataFrame.\n",
            "Try using .loc[row_indexer,col_indexer] = value instead\n",
            "\n",
            "See the caveats in the documentation: https://pandas.pydata.org/pandas-docs/stable/user_guide/indexing.html#returning-a-view-versus-a-copy\n",
            "  DFLand['Country_processed'] = DFLand['Country'].apply(lambda x: x.split()[0])\n"
          ]
        },
        {
          "output_type": "execute_result",
          "data": {
            "text/plain": [
              "array(['Argentina', 'Bolivia (Plurin. State of)', 'Brazil', 'Chile',\n",
              "       'Colombia', 'Ecuador', 'Guyana', 'Paraguay', 'Peru', 'Suriname',\n",
              "       'Uruguay', 'Venezuela (Boliv. Rep. of)'], dtype=object)"
            ]
          },
          "metadata": {},
          "execution_count": 15
        }
      ],
      "source": [
        "#SI HAGO COPIA DEL DF:\n",
        "#DFLandcopy=DFLand.copy()\n",
        "#DFLandcopy['Country_processed'] = DFLandcopy['Country'].apply(lambda x: x.split()[0])#si quiero volver todo minusculas uso .str.lower\n",
        "#DFLandcopy\n",
        "#dfpaisesañosL = DFLandcopy[DFLandcopy['Country_processed'].isin(paises_coincidentes)]\n",
        "#dfpaisesañosL=dfpaisesañosL.drop(columns=['Country_processed'])\n",
        "#dfpaisesañosL\n",
        "#DFLandcopy.loc[DFLandcopy['Country_processed']== \"Bolivia\"]\n",
        "#SI NO HAGO COPIA DEL DF:\n",
        "DFLand['Country_processed'] = DFLand['Country'].apply(lambda x: x.split()[0])\n",
        "#si quiero volver todo minusculas uso .str.lower. lambda x equivale a:  [pais.split()[0] for pais in paises]\n",
        "dfpaisesañosL = DFLand[DFLand['Country_processed'].isin(paises_coincidentes)]\n",
        "dfpaisesañosL=dfpaisesañosL.drop(columns=['Country_processed'])\n",
        "dfpaisesañosL['Country'].unique()"
      ]
    },
    {
      "cell_type": "code",
      "execution_count": null,
      "id": "3753430f",
      "metadata": {
        "colab": {
          "base_uri": "https://localhost:8080/"
        },
        "id": "3753430f",
        "outputId": "d723fcc5-7fb2-4c3a-8483-5f299f32765b"
      },
      "outputs": [
        {
          "output_type": "stream",
          "name": "stderr",
          "text": [
            "<ipython-input-12-e887b4ba9934>:1: SettingWithCopyWarning: \n",
            "A value is trying to be set on a copy of a slice from a DataFrame.\n",
            "Try using .loc[row_indexer,col_indexer] = value instead\n",
            "\n",
            "See the caveats in the documentation: https://pandas.pydata.org/pandas-docs/stable/user_guide/indexing.html#returning-a-view-versus-a-copy\n",
            "  DFETCO2['Country_processed'] = DFETCO2['Country'].apply(lambda x: x.split()[0])\n"
          ]
        },
        {
          "output_type": "execute_result",
          "data": {
            "text/plain": [
              "array(['Argentina', 'Bolivia (Plurin. State of)', 'Brazil', 'Chile',\n",
              "       'Colombia', 'Ecuador', 'Paraguay', 'Peru', 'Suriname', 'Uruguay',\n",
              "       'Venezuela (Boliv. Rep. of)'], dtype=object)"
            ]
          },
          "metadata": {},
          "execution_count": 12
        }
      ],
      "source": [
        "DFETCO2['Country_processed'] = DFETCO2['Country'].apply(lambda x: x.split()[0])\n",
        "dfpaisesañosE = DFETCO2[DFETCO2['Country_processed'].isin(paises_coincidentes)]\n",
        "dfpaisesañosE=dfpaisesañosE.drop(columns=['Country_processed'])\n",
        "dfpaisesañosE['Country'].unique()"
      ]
    },
    {
      "cell_type": "code",
      "execution_count": null,
      "id": "bfb8ab99",
      "metadata": {
        "colab": {
          "base_uri": "https://localhost:8080/"
        },
        "id": "bfb8ab99",
        "outputId": "8803c378-a4c7-440b-cb86-d66a14cbe9a7"
      },
      "outputs": [
        {
          "output_type": "stream",
          "name": "stdout",
          "text": [
            "<class 'pandas.core.frame.DataFrame'>\n",
            "Int64Index: 66 entries, 51 to 2067\n",
            "Data columns (total 4 columns):\n",
            " #   Column   Non-Null Count  Dtype  \n",
            "---  ------   --------------  -----  \n",
            " 0   Country  66 non-null     object \n",
            " 1   Year     66 non-null     int64  \n",
            " 2   Type     66 non-null     object \n",
            " 3   Value    66 non-null     float64\n",
            "dtypes: float64(1), int64(1), object(2)\n",
            "memory usage: 2.6+ KB\n",
            "<class 'pandas.core.frame.DataFrame'>\n",
            "Int64Index: 285 entries, 864 to 6021\n",
            "Data columns (total 4 columns):\n",
            " #   Column   Non-Null Count  Dtype  \n",
            "---  ------   --------------  -----  \n",
            " 0   Country  285 non-null    object \n",
            " 1   Year     285 non-null    int64  \n",
            " 2   Type     285 non-null    object \n",
            " 3   Value    285 non-null    float64\n",
            "dtypes: float64(1), int64(1), object(2)\n",
            "memory usage: 11.1+ KB\n"
          ]
        },
        {
          "output_type": "execute_result",
          "data": {
            "text/plain": [
              "array(['Land area (thousand hectares)', 'Arable land (thousand hectares)',\n",
              "       'Permanent crops (thousand hectares)',\n",
              "       'Forest cover (thousand hectares)',\n",
              "       'Arable land (% of total land area)',\n",
              "       'Permanent crops (% of total land area)',\n",
              "       'Forest cover (% of total land area)',\n",
              "       'Important sites for terrestrial biodiversity protected (% of total sites protected)'],\n",
              "      dtype=object)"
            ]
          },
          "metadata": {},
          "execution_count": 85
        }
      ],
      "source": [
        "dfpaisesañosE.info()\n",
        "dfpaisesañosL.info()\n",
        "dfpaisesañosL['Type'].unique()"
      ]
    },
    {
      "cell_type": "code",
      "source": [
        "#dividir dataframes por type\n",
        "#Emissions\n",
        "datae_a=dfpaisesañosE[dfpaisesañosE['Type']=='Emissions per capita (metric tons of carbon dioxide)']\n",
        "datae_b=dfpaisesañosE[dfpaisesañosE['Type']=='Emissions (thousand metric tons of carbon dioxide)']\n",
        "#Land\n",
        "datal_a=dfpaisesañosL[dfpaisesañosL['Type']=='Land area (thousand hectares)']\n",
        "datal_b=dfpaisesañosL[dfpaisesañosL['Type']=='Permanent crops (thousand hectares)']\n",
        "datal_c=dfpaisesañosL[dfpaisesañosL['Type']=='Forest cover (thousand hectares)']\n",
        "datal_d=dfpaisesañosL[dfpaisesañosL['Type']=='Arable land (thousand hectares)']"
      ],
      "metadata": {
        "id": "G-y01t8NeGwh"
      },
      "id": "G-y01t8NeGwh",
      "execution_count": null,
      "outputs": []
    },
    {
      "cell_type": "code",
      "source": [
        "#Escribir datos en excel\n",
        "#Emisiones\n",
        "from pandas import ExcelWriter\n",
        "with pd.ExcelWriter('/Carbon Dioxide Emission Estimates1.xlsx') as writer:\n",
        "  datae_a.to_excel(writer,sheet_name='Emissions per capita',index=False)\n",
        "  datae_b.to_excel(writer ,sheet_name='Emissions',index=False)\n",
        "\n"
      ],
      "metadata": {
        "id": "z1_jmViJgKjo"
      },
      "id": "z1_jmViJgKjo",
      "execution_count": 107,
      "outputs": []
    },
    {
      "cell_type": "code",
      "source": [
        "#Escribir datos en excel\n",
        "#Land\n",
        "with pd.ExcelWriter('/Land1.xlsx') as writer:\n",
        "  datal_a.to_excel(writer,sheet_name='Land area',index=False)\n",
        "  datal_b.to_excel(writer ,sheet_name='Permanent crops',index=False)\n",
        "  datal_c.to_excel(writer ,sheet_name='Forest cover',index=False)\n",
        "  datal_d.to_excel(writer ,sheet_name='Arable land',index=False)"
      ],
      "metadata": {
        "id": "bHK-rYPTh7jh"
      },
      "id": "bHK-rYPTh7jh",
      "execution_count": 109,
      "outputs": []
    },
    {
      "cell_type": "code",
      "source": [
        "#Escribir datos en excel\n",
        "#Todos en uno\n",
        "with pd.ExcelWriter('/Dataclean.xlsx') as writer:\n",
        "  datae_a.to_excel(writer,sheet_name='Emissions per capita',index=False)\n",
        "  datae_b.to_excel(writer ,sheet_name='Emissions',index=False)\n",
        "  datal_a.to_excel(writer,sheet_name='Land area',index=False)\n",
        "  datal_b.to_excel(writer ,sheet_name='Permanent crops',index=False)\n",
        "  datal_c.to_excel(writer ,sheet_name='Forest cover',index=False)\n",
        "  datal_d.to_excel(writer ,sheet_name='Arable land',index=False)\n"
      ],
      "metadata": {
        "id": "hQgTjHAjlVh2"
      },
      "id": "hQgTjHAjlVh2",
      "execution_count": 110,
      "outputs": []
    },
    {
      "cell_type": "code",
      "execution_count": null,
      "id": "b91ed0a6",
      "metadata": {
        "id": "b91ed0a6"
      },
      "outputs": [],
      "source": [
        "import seaborn as sns"
      ]
    },
    {
      "cell_type": "code",
      "source": [
        "plt.figure(figsize=(20, 6))\n",
        "data_a=dfpaisesañosE[dfpaisesañosE['Type']=='Emissions per capita (metric tons of carbon dioxide)']\n",
        "datasorted=data_a.sort_values(by='Value',ascending=False)\n",
        "sns.barplot(x='Country',y='Value',hue='Country', ci=None, data=datasorted,order=None)"
      ],
      "metadata": {
        "colab": {
          "base_uri": "https://localhost:8080/",
          "height": 452
        },
        "id": "YlAIWHOk6Gb2",
        "outputId": "83962815-d66b-4d18-aecf-ad518eecbd23"
      },
      "id": "YlAIWHOk6Gb2",
      "execution_count": null,
      "outputs": [
        {
          "output_type": "stream",
          "name": "stderr",
          "text": [
            "<ipython-input-82-42c0036f2ee0>:4: FutureWarning: \n",
            "\n",
            "The `ci` parameter is deprecated. Use `errorbar=None` for the same effect.\n",
            "\n",
            "  sns.barplot(x='Country',y='Value',hue='Country', ci=None, data=datasorted,order=None)\n"
          ]
        },
        {
          "output_type": "execute_result",
          "data": {
            "text/plain": [
              "<Axes: xlabel='Country', ylabel='Value'>"
            ]
          },
          "metadata": {},
          "execution_count": 82
        },
        {
          "output_type": "display_data",
          "data": {
            "text/plain": [
              "<Figure size 2000x600 with 1 Axes>"
            ],
            "image/png": "[encoded data removed]"
          },
          "metadata": {}
        }
      ]
    },
    {
      "cell_type": "code",
      "source": [],
      "metadata": {
        "id": "qfiKY7W07LLU"
      },
      "id": "qfiKY7W07LLU",
      "execution_count": null,
      "outputs": []
    }
  ],
  "metadata": {
    "kernelspec": {
      "display_name": "Python 3 (ipykernel)",
      "language": "python",
      "name": "python3"
    },
    "language_info": {
      "codemirror_mode": {
        "name": "ipython",
        "version": 3
      },
      "file_extension": ".py",
      "mimetype": "text/x-python",
      "name": "python",
      "nbconvert_exporter": "python",
      "pygments_lexer": "ipython3",
      "version": "3.9.13"
    },
    "colab": {
      "provenance": []
    }
  },
  "nbformat": 4,
  "nbformat_minor": 5
}