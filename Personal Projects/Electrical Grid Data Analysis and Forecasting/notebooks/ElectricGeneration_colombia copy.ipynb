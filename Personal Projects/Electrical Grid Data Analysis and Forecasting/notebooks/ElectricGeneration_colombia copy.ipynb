{
 "cells": [
  {
   "cell_type": "markdown",
   "metadata": {},
   "source": [
    "# Analysis and Forecast of Electricity Generation in Colombia's National Interconnected System (SIN)"
   ]
  },
  {
   "cell_type": "markdown",
   "metadata": {},
   "source": [
    "## Data\n",
    "### About Data\n",
    "\n",
    "This project utilizes hourly generation data from the National Interconnected System (SIN), spanning from 1995 to 2022. The data is categorized by generating plant and type of generation\n",
    "Obtained from: [SINERGOX DATASET](https://sinergox.xm.com.co/oferta/Paginas/Historicos/Historicos.aspx?RootFolder=%2Foferta%2FHistricos%2FGeneraci%C3%B3n&FolderCTID=0x012000B3FC86CB37661147B52CAE93637C1249&View=%7B946210C0%2D4071%2D4173%2D964C%2DED5BCCE4E66C%7D)"
   ]
  },
  {
   "cell_type": "code",
   "execution_count": 1,
   "metadata": {},
   "outputs": [
    {
     "name": "stdout",
     "output_type": "stream",
     "text": [
      "Requirement already satisfied: unidecode in c:\\users\\mateo\\anaconda3\\lib\\site-packages (1.2.0)\n",
      "Note: you may need to restart the kernel to use updated packages.\n"
     ]
    },
    {
     "name": "stderr",
     "output_type": "stream",
     "text": [
      "\n",
      "[notice] A new release of pip is available: 24.0 -> 24.1\n",
      "[notice] To update, run: python.exe -m pip install --upgrade pip\n"
     ]
    }
   ],
   "source": [
    "pip install unidecode"
   ]
  },
  {
   "cell_type": "code",
   "execution_count": 2,
   "metadata": {},
   "outputs": [],
   "source": [
    "import pandas as pd\n",
    "from sklearn.linear_model import LinearRegression\n",
    "import numpy as np\n",
    "import matplotlib.pyplot as plt\n",
    "from unidecode import unidecode\n",
    "import seaborn as sns\n",
    "import plotly.express as px\n",
    "import plotly.graph_objects as go\n",
    "pd.options.mode.chained_assignment = None  # default='warn'\n",
    "%matplotlib inline\n"
   ]
  },
  {
   "cell_type": "markdown",
   "metadata": {},
   "source": [
    "### Reading the data"
   ]
  },
  {
   "cell_type": "code",
   "execution_count": 3,
   "metadata": {},
   "outputs": [
    {
     "name": "stdout",
     "output_type": "stream",
     "text": [
      "1\n"
     ]
    }
   ],
   "source": [
    "dataframes=[]\n",
    "df1=pd.read_excel(\"D:\\Documentos\\Github\\Projects\\Personal Projects\\Electrical Grid Data Analysis and Forecasting\\Dataa\\Generacion_(kWh)_1995.xlsx\",header=2)\n",
    "dataframes.append(df1)\n",
    "#print(1)\n",
    "df2=pd.read_excel(\"D:\\Documentos\\Github\\Projects\\Personal Projects\\Electrical Grid Data Analysis and Forecasting\\Dataa\\Generacion_(kWh)_1996.xlsx\",header=0)\n",
    "dataframes.append(df2)\n",
    "#print(1)\n",
    "df3=pd.read_excel(\"D:\\Documentos\\Github\\Projects\\Personal Projects\\Electrical Grid Data Analysis and Forecasting\\Dataa\\Generacion_(kWh)_1997.xlsx\",header=1)\n",
    "dataframes.append(df3)\n",
    "#print(1)\n",
    "df4=pd.read_excel(\"D:\\Documentos\\Github\\Projects\\Personal Projects\\Electrical Grid Data Analysis and Forecasting\\Dataa\\Generacion_(kWh)_1998.xlsx\",header=1)\n",
    "dataframes.append(df4)\n",
    "#print(1)\n",
    "df5=pd.read_excel(\"D:\\Documentos\\Github\\Projects\\Personal Projects\\Electrical Grid Data Analysis and Forecasting\\Dataa\\Generacion_(kWh)_1999.xlsx\",header=1)\n",
    "dataframes.append(df5)\n",
    "#print(1)\n",
    "df6=pd.read_excel(\"D:\\Documentos\\Github\\Projects\\Personal Projects\\Electrical Grid Data Analysis and Forecasting\\Dataa\\Generacion_(kWh)_2000.xlsx\",header=2)\n",
    "dataframes.append(df6)\n",
    "#print(1)\n",
    "df7=pd.read_excel(\"D:\\Documentos\\Github\\Projects\\Personal Projects\\Electrical Grid Data Analysis and Forecasting\\Dataa\\Generacion_(kWh)_2001.xlsx\",header=1)\n",
    "dataframes.append(df7)\n",
    "#print(1)\n",
    "df8=pd.read_excel(\"D:\\Documentos\\Github\\Projects\\Personal Projects\\Electrical Grid Data Analysis and Forecasting\\Dataa\\Generacion_(kWh)_2002.xlsx\",header=1)\n",
    "dataframes.append(df8)\n",
    "#print(1)\n",
    "df9=pd.read_excel(\"D:\\Documentos\\Github\\Projects\\Personal Projects\\Electrical Grid Data Analysis and Forecasting\\Dataa\\Generacion_(kWh)_2003.xlsx\",header=2)\n",
    "dataframes.append(df9)\n",
    "#print(1)\n",
    "df10=pd.read_excel(\"D:\\Documentos\\Github\\Projects\\Personal Projects\\Electrical Grid Data Analysis and Forecasting\\Dataa\\Generacion_(kWh)_2004.xlsx\",header=1)\n",
    "dataframes.append(df10)\n",
    "#print(1)\n",
    "df11=pd.read_excel(\"D:\\Documentos\\Github\\Projects\\Personal Projects\\Electrical Grid Data Analysis and Forecasting\\Dataa\\Generacion_(kWh)_2005.xlsx\",header=1)\n",
    "dataframes.append(df11)\n",
    "#print(1)\n",
    "df12=pd.read_excel(\"D:\\Documentos\\Github\\Projects\\Personal Projects\\Electrical Grid Data Analysis and Forecasting\\Dataa\\Generacion_(kWh)_2006.xlsx\",header=2)\n",
    "dataframes.append(df12)\n",
    "#print(1)\n",
    "df13=pd.read_excel(\"D:\\Documentos\\Github\\Projects\\Personal Projects\\Electrical Grid Data Analysis and Forecasting\\Dataa\\Generacion_(kWh)_2007.xlsx\",header=2)\n",
    "dataframes.append(df13)\n",
    "#print(1)\n",
    "df14=pd.read_excel(\"D:\\Documentos\\Github\\Projects\\Personal Projects\\Electrical Grid Data Analysis and Forecasting\\Dataa\\Generacion_(kWh)_2008.xlsx\",header=2)\n",
    "dataframes.append(df14)\n",
    "#print(1)\n",
    "df15=pd.read_excel(\"D:\\Documentos\\Github\\Projects\\Personal Projects\\Electrical Grid Data Analysis and Forecasting\\Dataa\\Generacion_(kWh)_2009.xlsx\",header=2)\n",
    "dataframes.append(df15)\n",
    "#print(1)\n",
    "df16=pd.read_excel(\"D:\\Documentos\\Github\\Projects\\Personal Projects\\Electrical Grid Data Analysis and Forecasting\\Dataa\\Generacion_(kWh)_2010.xlsx\",header=2)\n",
    "dataframes.append(df16)\n",
    "#print(1)\n",
    "df17=pd.read_excel(\"D:\\Documentos\\Github\\Projects\\Personal Projects\\Electrical Grid Data Analysis and Forecasting\\Dataa\\Generacion_(kWh)_2011.xlsx\",header=2)\n",
    "dataframes.append(df17)\n",
    "#print(1)\n",
    "df18=pd.read_excel(\"D:\\Documentos\\Github\\Projects\\Personal Projects\\Electrical Grid Data Analysis and Forecasting\\Dataa\\Generacion_(kWh)_2012.xlsx\",header=2)\n",
    "dataframes.append(df18)\n",
    "#print(1)\n",
    "df19=pd.read_excel(\"D:\\Documentos\\Github\\Projects\\Personal Projects\\Electrical Grid Data Analysis and Forecasting\\Dataa\\Generacion_(kWh)_2013.xlsx\",header=2)\n",
    "dataframes.append(df19)\n",
    "#print(1)\n",
    "df20=pd.read_excel(\"D:\\Documentos\\Github\\Projects\\Personal Projects\\Electrical Grid Data Analysis and Forecasting\\Dataa\\Generacion_(kWh)_2014.xlsx\",header=2)\n",
    "dataframes.append(df20)\n",
    "#print(1)\n",
    "df21=pd.read_excel(\"D:\\Documentos\\Github\\Projects\\Personal Projects\\Electrical Grid Data Analysis and Forecasting\\Dataa\\Generacion_(kWh)_2015.xlsx\",header=2)\n",
    "dataframes.append(df21)\n",
    "#print(1)\n",
    "df22=pd.read_excel(\"D:\\Documentos\\Github\\Projects\\Personal Projects\\Electrical Grid Data Analysis and Forecasting\\Dataa\\Generacion_(kWh)_2016.xlsx\",header=2)\n",
    "dataframes.append(df22)\n",
    "#print(1)\n",
    "df23=pd.read_excel(\"D:\\Documentos\\Github\\Projects\\Personal Projects\\Electrical Grid Data Analysis and Forecasting\\Dataa\\Generacion_(kWh)_2017 .xlsx\",header=2)\n",
    "dataframes.append(df23)\n",
    "#print(1)\n",
    "df24=pd.read_excel(\"D:\\Documentos\\Github\\Projects\\Personal Projects\\Electrical Grid Data Analysis and Forecasting\\Dataa\\Generacion_(kWh)_2018.xlsx\",header=2)\n",
    "dataframes.append(df24)\n",
    "#print(1)\n",
    "df25=pd.read_excel(\"D:\\Documentos\\Github\\Projects\\Personal Projects\\Electrical Grid Data Analysis and Forecasting\\Dataa\\Generacion_(kWh)_2019.xlsx\",header=2)\n",
    "dataframes.append(df25)\n",
    "#print(1)\n",
    "df26=pd.read_excel(\"D:\\Documentos\\Github\\Projects\\Personal Projects\\Electrical Grid Data Analysis and Forecasting\\Dataa\\Generacion_(kWh)_2020.xlsx\",header=2)\n",
    "dataframes.append(df26)\n",
    "#print(1)\n",
    "df27=pd.read_excel(\"D:\\Documentos\\Github\\Projects\\Personal Projects\\Electrical Grid Data Analysis and Forecasting\\Dataa\\Generacion_(kWh)_2021.xlsx\",header=2)\n",
    "dataframes.append(df27)\n",
    "print(1)\n",
    "df28=pd.read_excel(\"D:\\Documentos\\Github\\Projects\\Personal Projects\\Electrical Grid Data Analysis and Forecasting\\Dataa\\Generacion_(kWh)_2022.xlsx\",header=2)\n",
    "dataframes.append(df28)\n",
    "#print(1)\n",
    "\n",
    "              "
   ]
  },
  {
   "cell_type": "markdown",
   "metadata": {},
   "source": [
    "# Data Integration into a Single DataFrame"
   ]
  },
  {
   "cell_type": "markdown",
   "metadata": {},
   "source": [
    "### Normalization of DataFrame Columns\n",
    "The column names of most dataframes are similar, but there are cases where some contain Spanish diacritical marks or numbers formatted as integers. Therefore, it is necessary to remove the diacritical marks (using the unidecode library) and convert all dataframe column names to strings."
   ]
  },
  {
   "cell_type": "code",
   "execution_count": 35,
   "metadata": {},
   "outputs": [
    {
     "name": "stdout",
     "output_type": "stream",
     "text": [
      "Before: Index(['Fecha', 'Recurso', 'Codigo Agente', 'Tipo Generacion', 'Tipo Despacho',\n",
      "       '0', '1', '2', '3', '4', '5', '6', '7', '8', '9', '10', '11', '12',\n",
      "       '13', '14', '15', '16', '17', '18', '19', '20', '21', '22', '23'],\n",
      "      dtype='object')\n",
      "After : Index(['Fecha', 'Recurso', 'Codigo Agente', 'Tipo Generacion', 'Tipo Despacho',\n",
      "       '0', '1', '2', '3', '4', '5', '6', '7', '8', '9', '10', '11', '12',\n",
      "       '13', '14', '15', '16', '17', '18', '19', '20', '21', '22', '23'],\n",
      "      dtype='object')\n"
     ]
    }
   ],
   "source": [
    "\n",
    "\n",
    "\n",
    "# Make a copy of the dataframes list to avoid modifying the original data\n",
    "dataframes1 = dataframes.copy()\n",
    "\n",
    "def columnas(df):\n",
    "    # Check if there is an integer in the column names\n",
    "    if 0 in df.columns:\n",
    "        # If there is an integer in the columns, first convert all the integers into strings\n",
    "        keys = df.columns.tolist()  # Get a list of the current column names\n",
    "        values = df.columns.astype(str)  # Convert the column names to strings\n",
    "        dic = dict(zip(keys, values))  # Create a dictionary to map old column names to new string column names\n",
    "        df.rename(columns=dic, inplace=True)  # Rename the columns using the dictionary\n",
    "\n",
    "        # Remove diacritical marks from the column names\n",
    "        keys1 = df.columns.tolist()  # Get the updated list of column names\n",
    "        values2 = [unidecode(value) for value in df.columns.tolist()]  # Remove diacritical marks from the column names\n",
    "        df.rename(columns=dict(zip(keys1, values2)), inplace=True)  # Rename the columns using the updated names\n",
    "    else:\n",
    "        # If there are no integers in the columns, just remove the diacritical marks from the column names\n",
    "        values = df.columns.astype(str)  # Convert the column names to strings\n",
    "        keys = df.columns.tolist()  # Get the list of current column names\n",
    "        values = [unidecode(value) for value in df.columns.tolist()]  # Remove diacritical marks from the column names\n",
    "        dic = dict(zip(keys, values))  # Create a dictionary to map old column names to new names without diacritical marks\n",
    "        df.rename(columns=dic, inplace=True)  # Rename the columns using the dictionary\n",
    "\n",
    "# Apply the column normalization function to each dataframe in the list\n",
    "for i in range(len(dataframes1)):\n",
    "    columnas(dataframes1[i])\n",
    "\n",
    "# Display the columns of the 22nd dataframe to verify the changes\n",
    "print(\"Before:\",dataframes[4].columns)\n",
    "print(\"After :\",dataframes1[4].columns)\n"
   ]
  },
  {
   "cell_type": "markdown",
   "metadata": {},
   "source": [
    "### Merge of the dataframes"
   ]
  },
  {
   "cell_type": "code",
   "execution_count": 5,
   "metadata": {},
   "outputs": [
    {
     "name": "stderr",
     "output_type": "stream",
     "text": [
      "C:\\Users\\mateo\\AppData\\Local\\Temp\\ipykernel_20792\\3461175847.py:19: UserWarning: You are merging on int and float columns where the float values are not equal to their int representation.\n",
      "  union = union.merge(dataframes1[i], how=\"outer\", on=common)\n"
     ]
    }
   ],
   "source": [
    "# Merge of the dataframes\n",
    "\n",
    "# Create an empty list to store common column names\n",
    "common = []\n",
    "\n",
    "# Identify common columns between the first two dataframes\n",
    "for i in dataframes1[0].columns:\n",
    "    if i in dataframes1[1].columns:\n",
    "        common.append(i)\n",
    "\n",
    "# Merge the first two dataframes on the common columns using an outer join\n",
    "union = dataframes1[0].merge(dataframes1[1], how=\"outer\", on=common)\n",
    "\n",
    "# Loop through the remaining dataframes in the list and merge them with the union dataframe\n",
    "for i in range(len(dataframes1)):\n",
    "    if i < 2:\n",
    "        # Skip the first two dataframes as they are already merged\n",
    "        pass \n",
    "    else:\n",
    "        # Reset the common list for the next iteration\n",
    "        common = []\n",
    "        \n",
    "        # Identify common columns between the current union dataframe and the next dataframe in the list\n",
    "        for b in union.columns:\n",
    "            if b in dataframes1[i].columns:\n",
    "                common.append(b)\n",
    "        \n",
    "        # Ensure the 'Fecha' column is in datetime format for both dataframes before merging\n",
    "        union['Fecha'] = pd.to_datetime(union['Fecha'])\n",
    "        dataframes1[i]['Fecha'] = pd.to_datetime(dataframes1[i]['Fecha'])\n",
    "        \n",
    "        # Merge the current union dataframe with the next dataframe in the list on the common columns using an outer join\n",
    "        union = union.merge(dataframes1[i], how=\"outer\", on=common)\n",
    "\n",
    "# At this point, 'union' contains the merged data from all dataframes in 'dataframes1'\n"
   ]
  },
  {
   "cell_type": "markdown",
   "metadata": {},
   "source": [
    "# Data Preparation and Cleaning\n",
    "\n"
   ]
  },
  {
   "cell_type": "markdown",
   "metadata": {},
   "source": [
    "#### Verification of Data Integrity \n",
    "Considering the key objectives of the project, data quality is crucial. Therefore, the types of generation will undergo thorough verification."
   ]
  },
  {
   "cell_type": "code",
   "execution_count": null,
   "metadata": {},
   "outputs": [],
   "source": [
    "\n"
   ]
  },
  {
   "cell_type": "code",
   "execution_count": 6,
   "metadata": {},
   "outputs": [
    {
     "data": {
      "text/plain": [
       "Tipo Generacion\n",
       "HIDRAULICA     820333\n",
       "TERMICA        257401\n",
       "COGENERADOR     76728\n",
       "SOLAR           13047\n",
       "EOLICA           6687\n",
       "Solar              14\n",
       "Name: count, dtype: int64"
      ]
     },
     "execution_count": 6,
     "metadata": {},
     "output_type": "execute_result"
    }
   ],
   "source": [
    "# Display the count of unique values in the \"Tipo Generacion\" column\n",
    "print(union[\"Tipo Generacion\"].value_counts())"
   ]
  },
  {
   "cell_type": "markdown",
   "metadata": {},
   "source": [
    "There is a discrepancy in the categorization of solar power plants, so it will be corrected.\n",
    "\n"
   ]
  },
  {
   "cell_type": "code",
   "execution_count": 7,
   "metadata": {},
   "outputs": [
    {
     "data": {
      "text/plain": [
       "Tipo Generacion\n",
       "HIDRAULICA     820333\n",
       "TERMICA        257401\n",
       "COGENERADOR     76728\n",
       "SOLAR           13061\n",
       "EOLICA           6687\n",
       "Name: count, dtype: int64"
      ]
     },
     "execution_count": 7,
     "metadata": {},
     "output_type": "execute_result"
    }
   ],
   "source": [
    "# Replace \"Solar\" with \"SOLAR\" in the \"Tipo Generacion\" column\n",
    "union[\"Tipo Generacion\"] = union[\"Tipo Generacion\"].replace(\"Solar\", \"SOLAR\")\n",
    "\n",
    "# Display the count of unique values in the \"Tipo Generacion\" column after the replacement\n",
    "print(union[\"Tipo Generacion\"].value_counts())\n"
   ]
  },
  {
   "cell_type": "markdown",
   "metadata": {},
   "source": [
    "The data for generation is in KWH. For the purpose of easier understanding, this will be transformed to GWH. Additionally, the dataframe will be reorganized.\n",
    "\n",
    "\n",
    "\n",
    "\n",
    "\n"
   ]
  },
  {
   "cell_type": "code",
   "execution_count": 8,
   "metadata": {},
   "outputs": [
    {
     "data": {
      "text/html": [
       "<div>\n",
       "<style scoped>\n",
       "    .dataframe tbody tr th:only-of-type {\n",
       "        vertical-align: middle;\n",
       "    }\n",
       "\n",
       "    .dataframe tbody tr th {\n",
       "        vertical-align: top;\n",
       "    }\n",
       "\n",
       "    .dataframe thead th {\n",
       "        text-align: right;\n",
       "    }\n",
       "</style>\n",
       "<table border=\"1\" class=\"dataframe\">\n",
       "  <thead>\n",
       "    <tr style=\"text-align: right;\">\n",
       "      <th></th>\n",
       "      <th>Fecha</th>\n",
       "      <th>Recurso</th>\n",
       "      <th>Codigo Agente</th>\n",
       "      <th>Tipo Generacion</th>\n",
       "      <th>Tipo Despacho</th>\n",
       "      <th>Combustible</th>\n",
       "      <th>Version</th>\n",
       "      <th>Es Menor</th>\n",
       "      <th>Es Autogenerador</th>\n",
       "      <th>Codigo Recurso</th>\n",
       "      <th>...</th>\n",
       "      <th>15</th>\n",
       "      <th>16</th>\n",
       "      <th>17</th>\n",
       "      <th>18</th>\n",
       "      <th>19</th>\n",
       "      <th>20</th>\n",
       "      <th>21</th>\n",
       "      <th>22</th>\n",
       "      <th>23</th>\n",
       "      <th>Total</th>\n",
       "    </tr>\n",
       "  </thead>\n",
       "  <tbody>\n",
       "    <tr>\n",
       "      <th>0</th>\n",
       "      <td>1995-07-20</td>\n",
       "      <td>EL RIO 6</td>\n",
       "      <td>ATLG</td>\n",
       "      <td>TERMICA</td>\n",
       "      <td>DESPACHADO CENTRALMENTE</td>\n",
       "      <td>NaN</td>\n",
       "      <td>NaN</td>\n",
       "      <td>NaN</td>\n",
       "      <td>NaN</td>\n",
       "      <td>NaN</td>\n",
       "      <td>...</td>\n",
       "      <td>0.00881</td>\n",
       "      <td>0.00881</td>\n",
       "      <td>0.00882</td>\n",
       "      <td>0.00882</td>\n",
       "      <td>0.00886</td>\n",
       "      <td>0.00887</td>\n",
       "      <td>0.00889</td>\n",
       "      <td>0.00892</td>\n",
       "      <td>0.00878</td>\n",
       "      <td>0.21302</td>\n",
       "    </tr>\n",
       "    <tr>\n",
       "      <th>1</th>\n",
       "      <td>1995-07-20</td>\n",
       "      <td>EL RIO 2</td>\n",
       "      <td>ATLG</td>\n",
       "      <td>TERMICA</td>\n",
       "      <td>DESPACHADO CENTRALMENTE</td>\n",
       "      <td>NaN</td>\n",
       "      <td>NaN</td>\n",
       "      <td>NaN</td>\n",
       "      <td>NaN</td>\n",
       "      <td>NaN</td>\n",
       "      <td>...</td>\n",
       "      <td>0.00000</td>\n",
       "      <td>0.00000</td>\n",
       "      <td>0.00000</td>\n",
       "      <td>0.00000</td>\n",
       "      <td>0.00000</td>\n",
       "      <td>0.00000</td>\n",
       "      <td>0.00000</td>\n",
       "      <td>0.00000</td>\n",
       "      <td>0.00000</td>\n",
       "      <td>0.00000</td>\n",
       "    </tr>\n",
       "    <tr>\n",
       "      <th>2</th>\n",
       "      <td>1995-07-20</td>\n",
       "      <td>LA UNION 3</td>\n",
       "      <td>ATLG</td>\n",
       "      <td>TERMICA</td>\n",
       "      <td>DESPACHADO CENTRALMENTE</td>\n",
       "      <td>NaN</td>\n",
       "      <td>NaN</td>\n",
       "      <td>NaN</td>\n",
       "      <td>NaN</td>\n",
       "      <td>NaN</td>\n",
       "      <td>...</td>\n",
       "      <td>0.00000</td>\n",
       "      <td>0.00000</td>\n",
       "      <td>0.00000</td>\n",
       "      <td>0.00000</td>\n",
       "      <td>0.00000</td>\n",
       "      <td>0.00000</td>\n",
       "      <td>0.00000</td>\n",
       "      <td>0.00000</td>\n",
       "      <td>0.00000</td>\n",
       "      <td>0.00000</td>\n",
       "    </tr>\n",
       "    <tr>\n",
       "      <th>3</th>\n",
       "      <td>1995-07-20</td>\n",
       "      <td>EL RIO 7</td>\n",
       "      <td>ATLG</td>\n",
       "      <td>TERMICA</td>\n",
       "      <td>DESPACHADO CENTRALMENTE</td>\n",
       "      <td>NaN</td>\n",
       "      <td>NaN</td>\n",
       "      <td>NaN</td>\n",
       "      <td>NaN</td>\n",
       "      <td>NaN</td>\n",
       "      <td>...</td>\n",
       "      <td>0.00919</td>\n",
       "      <td>0.00926</td>\n",
       "      <td>0.00931</td>\n",
       "      <td>0.00932</td>\n",
       "      <td>0.00929</td>\n",
       "      <td>0.00924</td>\n",
       "      <td>0.00926</td>\n",
       "      <td>0.00935</td>\n",
       "      <td>0.00918</td>\n",
       "      <td>0.21973</td>\n",
       "    </tr>\n",
       "    <tr>\n",
       "      <th>4</th>\n",
       "      <td>1995-07-20</td>\n",
       "      <td>LA UNION 4</td>\n",
       "      <td>ATLG</td>\n",
       "      <td>TERMICA</td>\n",
       "      <td>DESPACHADO CENTRALMENTE</td>\n",
       "      <td>NaN</td>\n",
       "      <td>NaN</td>\n",
       "      <td>NaN</td>\n",
       "      <td>NaN</td>\n",
       "      <td>NaN</td>\n",
       "      <td>...</td>\n",
       "      <td>0.00000</td>\n",
       "      <td>0.00000</td>\n",
       "      <td>0.00000</td>\n",
       "      <td>0.00000</td>\n",
       "      <td>0.00000</td>\n",
       "      <td>0.00000</td>\n",
       "      <td>0.00000</td>\n",
       "      <td>0.00000</td>\n",
       "      <td>0.00000</td>\n",
       "      <td>0.00000</td>\n",
       "    </tr>\n",
       "  </tbody>\n",
       "</table>\n",
       "<p>5 rows × 36 columns</p>\n",
       "</div>"
      ],
      "text/plain": [
       "       Fecha     Recurso Codigo Agente Tipo Generacion  \\\n",
       "0 1995-07-20    EL RIO 6          ATLG         TERMICA   \n",
       "1 1995-07-20    EL RIO 2          ATLG         TERMICA   \n",
       "2 1995-07-20  LA UNION 3          ATLG         TERMICA   \n",
       "3 1995-07-20    EL RIO 7          ATLG         TERMICA   \n",
       "4 1995-07-20  LA UNION 4          ATLG         TERMICA   \n",
       "\n",
       "             Tipo Despacho Combustible Version Es Menor Es Autogenerador  \\\n",
       "0  DESPACHADO CENTRALMENTE         NaN     NaN      NaN              NaN   \n",
       "1  DESPACHADO CENTRALMENTE         NaN     NaN      NaN              NaN   \n",
       "2  DESPACHADO CENTRALMENTE         NaN     NaN      NaN              NaN   \n",
       "3  DESPACHADO CENTRALMENTE         NaN     NaN      NaN              NaN   \n",
       "4  DESPACHADO CENTRALMENTE         NaN     NaN      NaN              NaN   \n",
       "\n",
       "  Codigo Recurso  ...       15       16       17       18       19       20  \\\n",
       "0            NaN  ...  0.00881  0.00881  0.00882  0.00882  0.00886  0.00887   \n",
       "1            NaN  ...  0.00000  0.00000  0.00000  0.00000  0.00000  0.00000   \n",
       "2            NaN  ...  0.00000  0.00000  0.00000  0.00000  0.00000  0.00000   \n",
       "3            NaN  ...  0.00919  0.00926  0.00931  0.00932  0.00929  0.00924   \n",
       "4            NaN  ...  0.00000  0.00000  0.00000  0.00000  0.00000  0.00000   \n",
       "\n",
       "        21       22       23    Total  \n",
       "0  0.00889  0.00892  0.00878  0.21302  \n",
       "1  0.00000  0.00000  0.00000  0.00000  \n",
       "2  0.00000  0.00000  0.00000  0.00000  \n",
       "3  0.00926  0.00935  0.00918  0.21973  \n",
       "4  0.00000  0.00000  0.00000  0.00000  \n",
       "\n",
       "[5 rows x 36 columns]"
      ]
     },
     "execution_count": 8,
     "metadata": {},
     "output_type": "execute_result"
    }
   ],
   "source": [
    "\n",
    "\n",
    "# Calculate a new column \"Total\" that is the sum of all numeric columns for each row\n",
    "union[\"Total\"] = union.sum(numeric_only=True, axis=1)\n",
    "\n",
    "# Rearrange the columns of the DataFrame 'union' selecting only the specified columns\n",
    "union = union[['Fecha', 'Recurso', 'Codigo Agente', 'Tipo Generacion', 'Tipo Despacho', 'Combustible', 'Version', \n",
    "               'Es Menor', 'Es Autogenerador', 'Codigo Recurso', 'Clasificacion', '0', '1', '2', '3', '4', '5', '6', \n",
    "               '7', '8', '9', '10', '11', '12', '13', '14', '15', '16', '17', '18', '19', '20', '21', '22', '23', 'Total']]\n",
    "\n",
    "# Convert numeric values from KWH to GWH by dividing each value by 1,000,000\n",
    "for i in union.columns:\n",
    "    try:\n",
    "        # Try to apply the division only to numeric columns\n",
    "        union[i] = union[i].apply(lambda x: x / 1000000)\n",
    "    except:\n",
    "        # If an error occurs (e.g., if the column is not numeric), skip to the next column\n",
    "        pass\n",
    "\n",
    "# Display the first few rows of the DataFrame to verify the changes\n",
    "print(union.head())"
   ]
  },
  {
   "cell_type": "markdown",
   "metadata": {},
   "source": [
    "Now the missing values for generation type will be adressed "
   ]
  },
  {
   "cell_type": "code",
   "execution_count": 9,
   "metadata": {},
   "outputs": [
    {
     "data": {
      "text/plain": [
       "Recurso\n",
       "COGENERADOR INGENIO    176\n",
       "GUALANDAY              147\n",
       "GUALANDAY 166            1\n",
       "GUALANDAY 172            1\n",
       "BARRANCA 157             1\n",
       "                      ... \n",
       "BARRANCA 73              1\n",
       "GUALANDAY 87             1\n",
       "BARRANCA 72              1\n",
       "GUALANDAY 86             1\n",
       "GUALANDAY 129            1\n",
       "Name: count, Length: 472, dtype: int64"
      ]
     },
     "execution_count": 9,
     "metadata": {},
     "output_type": "execute_result"
    }
   ],
   "source": [
    "# Find rows containing infinite values (inf or -inf)\n",
    "inf_values = union[union.isin([np.inf, -np.inf])]\n",
    "\n",
    "# Check for missing values (NaNs) in the union DataFrame\n",
    "is_na = union.isna()\n",
    "\n",
    "# Filter rows where \"Tipo Generacion\" column is NaN (missing)\n",
    "missing_type_generation = union[union[\"Tipo Generacion\"].isna()]\n",
    "\n",
    "# Count the occurrences of each \"Recurso\" in rows where \"Tipo Generacion\" is missing\n",
    "missing_type_generation = missing_type_generation[\"Recurso\"].value_counts()\n",
    "\n",
    "# Print the counts of missing \"Tipo Generacion\" values grouped by \"Recurso\"\n",
    "print(missing_type_generation)\n"
   ]
  },
  {
   "cell_type": "markdown",
   "metadata": {},
   "source": [
    "The plant named \"COGENERADOR INGENIO\" is inferred to be a cogeneration plant from its name. Additionally, a brief search on Google confirms that the plant named \"GUALANDAY\" is/was a thermal plant. Therefore, these entries will be corrected accordingly. However, the types of the other plants cannot be determined, so they will be removed from the dataframe."
   ]
  },
  {
   "cell_type": "code",
   "execution_count": 10,
   "metadata": {},
   "outputs": [],
   "source": [
    "# Update \"Tipo Generacion\" values based on specific conditions\n",
    "union.loc[union[\"Recurso\"] == \"COGENERADOR INGENIO\", \"Tipo Generacion\"] = \"COGENERADOR\"\n",
    "union.loc[union[\"Recurso\"] == \"GUALANDAY\", \"Tipo Generacion\"] = \"TERMICA\"\n",
    "\n",
    "# Drop rows where \"Tipo Generacion\" is NaN\n",
    "union = union.dropna(subset=[\"Tipo Generacion\"])\n"
   ]
  },
  {
   "cell_type": "markdown",
   "metadata": {},
   "source": [
    "\n",
    "The forthcoming analysis and visualizations will focus on the total generation for each year, categorized by type of generation. Consequently, a new dataframe named \"yearlygeneration\" will be created for this purpose"
   ]
  },
  {
   "cell_type": "code",
   "execution_count": 11,
   "metadata": {},
   "outputs": [
    {
     "data": {
      "text/html": [
       "<div>\n",
       "<style scoped>\n",
       "    .dataframe tbody tr th:only-of-type {\n",
       "        vertical-align: middle;\n",
       "    }\n",
       "\n",
       "    .dataframe tbody tr th {\n",
       "        vertical-align: top;\n",
       "    }\n",
       "\n",
       "    .dataframe thead th {\n",
       "        text-align: right;\n",
       "    }\n",
       "</style>\n",
       "<table border=\"1\" class=\"dataframe\">\n",
       "  <thead>\n",
       "    <tr style=\"text-align: right;\">\n",
       "      <th></th>\n",
       "      <th></th>\n",
       "      <th>0</th>\n",
       "      <th>1</th>\n",
       "      <th>2</th>\n",
       "      <th>3</th>\n",
       "      <th>4</th>\n",
       "      <th>5</th>\n",
       "      <th>6</th>\n",
       "      <th>7</th>\n",
       "      <th>8</th>\n",
       "      <th>9</th>\n",
       "      <th>...</th>\n",
       "      <th>15</th>\n",
       "      <th>16</th>\n",
       "      <th>17</th>\n",
       "      <th>18</th>\n",
       "      <th>19</th>\n",
       "      <th>20</th>\n",
       "      <th>21</th>\n",
       "      <th>22</th>\n",
       "      <th>23</th>\n",
       "      <th>Total</th>\n",
       "    </tr>\n",
       "    <tr>\n",
       "      <th>Fecha</th>\n",
       "      <th>Tipo Generacion</th>\n",
       "      <th></th>\n",
       "      <th></th>\n",
       "      <th></th>\n",
       "      <th></th>\n",
       "      <th></th>\n",
       "      <th></th>\n",
       "      <th></th>\n",
       "      <th></th>\n",
       "      <th></th>\n",
       "      <th></th>\n",
       "      <th></th>\n",
       "      <th></th>\n",
       "      <th></th>\n",
       "      <th></th>\n",
       "      <th></th>\n",
       "      <th></th>\n",
       "      <th></th>\n",
       "      <th></th>\n",
       "      <th></th>\n",
       "      <th></th>\n",
       "      <th></th>\n",
       "    </tr>\n",
       "  </thead>\n",
       "  <tbody>\n",
       "    <tr>\n",
       "      <th rowspan=\"2\" valign=\"top\">1995-12-31</th>\n",
       "      <th>HIDRAULICA</th>\n",
       "      <td>400</td>\n",
       "      <td>378</td>\n",
       "      <td>371</td>\n",
       "      <td>376</td>\n",
       "      <td>416</td>\n",
       "      <td>520</td>\n",
       "      <td>619</td>\n",
       "      <td>649</td>\n",
       "      <td>687</td>\n",
       "      <td>702</td>\n",
       "      <td>...</td>\n",
       "      <td>594</td>\n",
       "      <td>612</td>\n",
       "      <td>671</td>\n",
       "      <td>851</td>\n",
       "      <td>864</td>\n",
       "      <td>791</td>\n",
       "      <td>689</td>\n",
       "      <td>551</td>\n",
       "      <td>444</td>\n",
       "      <td>14537</td>\n",
       "    </tr>\n",
       "    <tr>\n",
       "      <th>TERMICA</th>\n",
       "      <td>137</td>\n",
       "      <td>132</td>\n",
       "      <td>131</td>\n",
       "      <td>131</td>\n",
       "      <td>136</td>\n",
       "      <td>141</td>\n",
       "      <td>147</td>\n",
       "      <td>151</td>\n",
       "      <td>151</td>\n",
       "      <td>149</td>\n",
       "      <td>...</td>\n",
       "      <td>149</td>\n",
       "      <td>151</td>\n",
       "      <td>163</td>\n",
       "      <td>175</td>\n",
       "      <td>177</td>\n",
       "      <td>172</td>\n",
       "      <td>164</td>\n",
       "      <td>155</td>\n",
       "      <td>146</td>\n",
       "      <td>3611</td>\n",
       "    </tr>\n",
       "    <tr>\n",
       "      <th rowspan=\"2\" valign=\"top\">1996-12-31</th>\n",
       "      <th>HIDRAULICA</th>\n",
       "      <td>964</td>\n",
       "      <td>919</td>\n",
       "      <td>900</td>\n",
       "      <td>910</td>\n",
       "      <td>1005</td>\n",
       "      <td>1243</td>\n",
       "      <td>1438</td>\n",
       "      <td>1514</td>\n",
       "      <td>1592</td>\n",
       "      <td>1620</td>\n",
       "      <td>...</td>\n",
       "      <td>1379</td>\n",
       "      <td>1401</td>\n",
       "      <td>1498</td>\n",
       "      <td>1906</td>\n",
       "      <td>2003</td>\n",
       "      <td>1844</td>\n",
       "      <td>1612</td>\n",
       "      <td>1296</td>\n",
       "      <td>1068</td>\n",
       "      <td>33947</td>\n",
       "    </tr>\n",
       "    <tr>\n",
       "      <th>TERMICA</th>\n",
       "      <td>228</td>\n",
       "      <td>222</td>\n",
       "      <td>220</td>\n",
       "      <td>220</td>\n",
       "      <td>225</td>\n",
       "      <td>235</td>\n",
       "      <td>247</td>\n",
       "      <td>256</td>\n",
       "      <td>261</td>\n",
       "      <td>260</td>\n",
       "      <td>...</td>\n",
       "      <td>264</td>\n",
       "      <td>267</td>\n",
       "      <td>292</td>\n",
       "      <td>329</td>\n",
       "      <td>333</td>\n",
       "      <td>321</td>\n",
       "      <td>301</td>\n",
       "      <td>274</td>\n",
       "      <td>247</td>\n",
       "      <td>6302</td>\n",
       "    </tr>\n",
       "    <tr>\n",
       "      <th>1997-12-31</th>\n",
       "      <th>HIDRAULICA</th>\n",
       "      <td>818</td>\n",
       "      <td>774</td>\n",
       "      <td>753</td>\n",
       "      <td>763</td>\n",
       "      <td>851</td>\n",
       "      <td>1075</td>\n",
       "      <td>1249</td>\n",
       "      <td>1332</td>\n",
       "      <td>1413</td>\n",
       "      <td>1444</td>\n",
       "      <td>...</td>\n",
       "      <td>1238</td>\n",
       "      <td>1251</td>\n",
       "      <td>1347</td>\n",
       "      <td>1771</td>\n",
       "      <td>1873</td>\n",
       "      <td>1726</td>\n",
       "      <td>1482</td>\n",
       "      <td>1164</td>\n",
       "      <td>929</td>\n",
       "      <td>30275</td>\n",
       "    </tr>\n",
       "  </tbody>\n",
       "</table>\n",
       "<p>5 rows × 25 columns</p>\n",
       "</div>"
      ],
      "text/plain": [
       "                              0    1    2    3     4     5     6     7     8  \\\n",
       "Fecha      Tipo Generacion                                                     \n",
       "1995-12-31 HIDRAULICA       400  378  371  376   416   520   619   649   687   \n",
       "           TERMICA          137  132  131  131   136   141   147   151   151   \n",
       "1996-12-31 HIDRAULICA       964  919  900  910  1005  1243  1438  1514  1592   \n",
       "           TERMICA          228  222  220  220   225   235   247   256   261   \n",
       "1997-12-31 HIDRAULICA       818  774  753  763   851  1075  1249  1332  1413   \n",
       "\n",
       "                               9  ...    15    16    17    18    19    20  \\\n",
       "Fecha      Tipo Generacion        ...                                       \n",
       "1995-12-31 HIDRAULICA        702  ...   594   612   671   851   864   791   \n",
       "           TERMICA           149  ...   149   151   163   175   177   172   \n",
       "1996-12-31 HIDRAULICA       1620  ...  1379  1401  1498  1906  2003  1844   \n",
       "           TERMICA           260  ...   264   267   292   329   333   321   \n",
       "1997-12-31 HIDRAULICA       1444  ...  1238  1251  1347  1771  1873  1726   \n",
       "\n",
       "                              21    22    23  Total  \n",
       "Fecha      Tipo Generacion                           \n",
       "1995-12-31 HIDRAULICA        689   551   444  14537  \n",
       "           TERMICA           164   155   146   3611  \n",
       "1996-12-31 HIDRAULICA       1612  1296  1068  33947  \n",
       "           TERMICA           301   274   247   6302  \n",
       "1997-12-31 HIDRAULICA       1482  1164   929  30275  \n",
       "\n",
       "[5 rows x 25 columns]"
      ]
     },
     "execution_count": 11,
     "metadata": {},
     "output_type": "execute_result"
    }
   ],
   "source": [
    "grouped=union.groupby([pd.Grouper(key='Fecha', freq='Y'),\"Tipo Generacion\"])\n",
    "yearlygeneration = grouped.sum(numeric_only=True)\n",
    "def redondeo_(df,i):\n",
    "    try:\n",
    "            #df[i]=df[i].apply(lambda x: x/1000000 )\n",
    "            df[i]=df[i].apply(lambda x: round(x,0))\n",
    "            df[i]=df[i].apply(lambda x: int(x))\n",
    "    except:\n",
    "        pass\n",
    "for i in yearlygeneration.columns:\n",
    "    redondeo_(yearlygeneration,i)\n",
    "yearlygeneration.head()"
   ]
  },
  {
   "cell_type": "code",
   "execution_count": 12,
   "metadata": {},
   "outputs": [
    {
     "name": "stdout",
     "output_type": "stream",
     "text": [
      "1534424\n"
     ]
    }
   ],
   "source": [
    "yearlygeneration=yearlygeneration.reset_index()\n",
    "yearlygeneration[\"Fecha\"]=yearlygeneration[\"Fecha\"].dt.year\n",
    "print(yearlygeneration[\"Total\"].sum())\n",
    "yearlygeneration.to_csv(\"EnergiaElectricaColombia.csv\")"
   ]
  },
  {
   "cell_type": "markdown",
   "metadata": {},
   "source": [
    "# Evolution of Electricity Generation in the Country between 1995 and 2022"
   ]
  },
  {
   "cell_type": "markdown",
   "metadata": {},
   "source": [
    "## Electricity generation evolution in GWh/Year"
   ]
  },
  {
   "cell_type": "code",
   "execution_count": 13,
   "metadata": {},
   "outputs": [
    {
     "data": {
      "application/vnd.plotly.v1+json": {
       "config": {
        "plotlyServerURL": "https://plot.ly"
       },
       "data": [
        {
         "hovertemplate": "Years=%{x}<br>Generation (GWH)=%{y}<extra></extra>",
         "legendgroup": "",
         "line": {
          "color": "#636efa",
          "dash": "solid"
         },
         "marker": {
          "color": "#EBA02E",
          "symbol": "circle"
         },
         "mode": "markers+lines",
         "name": "",
         "orientation": "v",
         "showlegend": false,
         "type": "scatter",
         "x": [
          1995,
          1996,
          1997,
          1998,
          1999,
          2000,
          2001,
          2002,
          2003,
          2004,
          2005,
          2006,
          2007,
          2008,
          2009,
          2010,
          2011,
          2012,
          2013,
          2014,
          2015,
          2016,
          2017,
          2018,
          2019,
          2020,
          2021,
          2022
         ],
         "xaxis": "x",
         "y": [
          18148,
          40249,
          41768,
          42422,
          40514,
          41277,
          43048,
          44734,
          46735,
          48563,
          50431,
          52340,
          53627,
          54395,
          55965,
          56787,
          58621,
          59891,
          62197,
          64328,
          66548,
          65943,
          66667,
          68947,
          70114,
          69324,
          73933,
          76908
         ],
         "yaxis": "y"
        }
       ],
       "layout": {
        "height": 550,
        "legend": {
         "font": {
          "size": 12
         },
         "tracegroupgap": 0
        },
        "template": {
         "data": {
          "bar": [
           {
            "error_x": {
             "color": "#2a3f5f"
            },
            "error_y": {
             "color": "#2a3f5f"
            },
            "marker": {
             "line": {
              "color": "white",
              "width": 0.5
             },
             "pattern": {
              "fillmode": "overlay",
              "size": 10,
              "solidity": 0.2
             }
            },
            "type": "bar"
           }
          ],
          "barpolar": [
           {
            "marker": {
             "line": {
              "color": "white",
              "width": 0.5
             },
             "pattern": {
              "fillmode": "overlay",
              "size": 10,
              "solidity": 0.2
             }
            },
            "type": "barpolar"
           }
          ],
          "carpet": [
           {
            "aaxis": {
             "endlinecolor": "#2a3f5f",
             "gridcolor": "#C8D4E3",
             "linecolor": "#C8D4E3",
             "minorgridcolor": "#C8D4E3",
             "startlinecolor": "#2a3f5f"
            },
            "baxis": {
             "endlinecolor": "#2a3f5f",
             "gridcolor": "#C8D4E3",
             "linecolor": "#C8D4E3",
             "minorgridcolor": "#C8D4E3",
             "startlinecolor": "#2a3f5f"
            },
            "type": "carpet"
           }
          ],
          "choropleth": [
           {
            "colorbar": {
             "outlinewidth": 0,
             "ticks": ""
            },
            "type": "choropleth"
           }
          ],
          "contour": [
           {
            "colorbar": {
             "outlinewidth": 0,
             "ticks": ""
            },
            "colorscale": [
             [
              0,
              "#0d0887"
             ],
             [
              0.1111111111111111,
              "#46039f"
             ],
             [
              0.2222222222222222,
              "#7201a8"
             ],
             [
              0.3333333333333333,
              "#9c179e"
             ],
             [
              0.4444444444444444,
              "#bd3786"
             ],
             [
              0.5555555555555556,
              "#d8576b"
             ],
             [
              0.6666666666666666,
              "#ed7953"
             ],
             [
              0.7777777777777778,
              "#fb9f3a"
             ],
             [
              0.8888888888888888,
              "#fdca26"
             ],
             [
              1,
              "#f0f921"
             ]
            ],
            "type": "contour"
           }
          ],
          "contourcarpet": [
           {
            "colorbar": {
             "outlinewidth": 0,
             "ticks": ""
            },
            "type": "contourcarpet"
           }
          ],
          "heatmap": [
           {
            "colorbar": {
             "outlinewidth": 0,
             "ticks": ""
            },
            "colorscale": [
             [
              0,
              "#0d0887"
             ],
             [
              0.1111111111111111,
              "#46039f"
             ],
             [
              0.2222222222222222,
              "#7201a8"
             ],
             [
              0.3333333333333333,
              "#9c179e"
             ],
             [
              0.4444444444444444,
              "#bd3786"
             ],
             [
              0.5555555555555556,
              "#d8576b"
             ],
             [
              0.6666666666666666,
              "#ed7953"
             ],
             [
              0.7777777777777778,
              "#fb9f3a"
             ],
             [
              0.8888888888888888,
              "#fdca26"
             ],
             [
              1,
              "#f0f921"
             ]
            ],
            "type": "heatmap"
           }
          ],
          "heatmapgl": [
           {
            "colorbar": {
             "outlinewidth": 0,
             "ticks": ""
            },
            "colorscale": [
             [
              0,
              "#0d0887"
             ],
             [
              0.1111111111111111,
              "#46039f"
             ],
             [
              0.2222222222222222,
              "#7201a8"
             ],
             [
              0.3333333333333333,
              "#9c179e"
             ],
             [
              0.4444444444444444,
              "#bd3786"
             ],
             [
              0.5555555555555556,
              "#d8576b"
             ],
             [
              0.6666666666666666,
              "#ed7953"
             ],
             [
              0.7777777777777778,
              "#fb9f3a"
             ],
             [
              0.8888888888888888,
              "#fdca26"
             ],
             [
              1,
              "#f0f921"
             ]
            ],
            "type": "heatmapgl"
           }
          ],
          "histogram": [
           {
            "marker": {
             "pattern": {
              "fillmode": "overlay",
              "size": 10,
              "solidity": 0.2
             }
            },
            "type": "histogram"
           }
          ],
          "histogram2d": [
           {
            "colorbar": {
             "outlinewidth": 0,
             "ticks": ""
            },
            "colorscale": [
             [
              0,
              "#0d0887"
             ],
             [
              0.1111111111111111,
              "#46039f"
             ],
             [
              0.2222222222222222,
              "#7201a8"
             ],
             [
              0.3333333333333333,
              "#9c179e"
             ],
             [
              0.4444444444444444,
              "#bd3786"
             ],
             [
              0.5555555555555556,
              "#d8576b"
             ],
             [
              0.6666666666666666,
              "#ed7953"
             ],
             [
              0.7777777777777778,
              "#fb9f3a"
             ],
             [
              0.8888888888888888,
              "#fdca26"
             ],
             [
              1,
              "#f0f921"
             ]
            ],
            "type": "histogram2d"
           }
          ],
          "histogram2dcontour": [
           {
            "colorbar": {
             "outlinewidth": 0,
             "ticks": ""
            },
            "colorscale": [
             [
              0,
              "#0d0887"
             ],
             [
              0.1111111111111111,
              "#46039f"
             ],
             [
              0.2222222222222222,
              "#7201a8"
             ],
             [
              0.3333333333333333,
              "#9c179e"
             ],
             [
              0.4444444444444444,
              "#bd3786"
             ],
             [
              0.5555555555555556,
              "#d8576b"
             ],
             [
              0.6666666666666666,
              "#ed7953"
             ],
             [
              0.7777777777777778,
              "#fb9f3a"
             ],
             [
              0.8888888888888888,
              "#fdca26"
             ],
             [
              1,
              "#f0f921"
             ]
            ],
            "type": "histogram2dcontour"
           }
          ],
          "mesh3d": [
           {
            "colorbar": {
             "outlinewidth": 0,
             "ticks": ""
            },
            "type": "mesh3d"
           }
          ],
          "parcoords": [
           {
            "line": {
             "colorbar": {
              "outlinewidth": 0,
              "ticks": ""
             }
            },
            "type": "parcoords"
           }
          ],
          "pie": [
           {
            "automargin": true,
            "type": "pie"
           }
          ],
          "scatter": [
           {
            "fillpattern": {
             "fillmode": "overlay",
             "size": 10,
             "solidity": 0.2
            },
            "type": "scatter"
           }
          ],
          "scatter3d": [
           {
            "line": {
             "colorbar": {
              "outlinewidth": 0,
              "ticks": ""
             }
            },
            "marker": {
             "colorbar": {
              "outlinewidth": 0,
              "ticks": ""
             }
            },
            "type": "scatter3d"
           }
          ],
          "scattercarpet": [
           {
            "marker": {
             "colorbar": {
              "outlinewidth": 0,
              "ticks": ""
             }
            },
            "type": "scattercarpet"
           }
          ],
          "scattergeo": [
           {
            "marker": {
             "colorbar": {
              "outlinewidth": 0,
              "ticks": ""
             }
            },
            "type": "scattergeo"
           }
          ],
          "scattergl": [
           {
            "marker": {
             "colorbar": {
              "outlinewidth": 0,
              "ticks": ""
             }
            },
            "type": "scattergl"
           }
          ],
          "scattermapbox": [
           {
            "marker": {
             "colorbar": {
              "outlinewidth": 0,
              "ticks": ""
             }
            },
            "type": "scattermapbox"
           }
          ],
          "scatterpolar": [
           {
            "marker": {
             "colorbar": {
              "outlinewidth": 0,
              "ticks": ""
             }
            },
            "type": "scatterpolar"
           }
          ],
          "scatterpolargl": [
           {
            "marker": {
             "colorbar": {
              "outlinewidth": 0,
              "ticks": ""
             }
            },
            "type": "scatterpolargl"
           }
          ],
          "scatterternary": [
           {
            "marker": {
             "colorbar": {
              "outlinewidth": 0,
              "ticks": ""
             }
            },
            "type": "scatterternary"
           }
          ],
          "surface": [
           {
            "colorbar": {
             "outlinewidth": 0,
             "ticks": ""
            },
            "colorscale": [
             [
              0,
              "#0d0887"
             ],
             [
              0.1111111111111111,
              "#46039f"
             ],
             [
              0.2222222222222222,
              "#7201a8"
             ],
             [
              0.3333333333333333,
              "#9c179e"
             ],
             [
              0.4444444444444444,
              "#bd3786"
             ],
             [
              0.5555555555555556,
              "#d8576b"
             ],
             [
              0.6666666666666666,
              "#ed7953"
             ],
             [
              0.7777777777777778,
              "#fb9f3a"
             ],
             [
              0.8888888888888888,
              "#fdca26"
             ],
             [
              1,
              "#f0f921"
             ]
            ],
            "type": "surface"
           }
          ],
          "table": [
           {
            "cells": {
             "fill": {
              "color": "#EBF0F8"
             },
             "line": {
              "color": "white"
             }
            },
            "header": {
             "fill": {
              "color": "#C8D4E3"
             },
             "line": {
              "color": "white"
             }
            },
            "type": "table"
           }
          ]
         },
         "layout": {
          "annotationdefaults": {
           "arrowcolor": "#2a3f5f",
           "arrowhead": 0,
           "arrowwidth": 1
          },
          "autotypenumbers": "strict",
          "coloraxis": {
           "colorbar": {
            "outlinewidth": 0,
            "ticks": ""
           }
          },
          "colorscale": {
           "diverging": [
            [
             0,
             "#8e0152"
            ],
            [
             0.1,
             "#c51b7d"
            ],
            [
             0.2,
             "#de77ae"
            ],
            [
             0.3,
             "#f1b6da"
            ],
            [
             0.4,
             "#fde0ef"
            ],
            [
             0.5,
             "#f7f7f7"
            ],
            [
             0.6,
             "#e6f5d0"
            ],
            [
             0.7,
             "#b8e186"
            ],
            [
             0.8,
             "#7fbc41"
            ],
            [
             0.9,
             "#4d9221"
            ],
            [
             1,
             "#276419"
            ]
           ],
           "sequential": [
            [
             0,
             "#0d0887"
            ],
            [
             0.1111111111111111,
             "#46039f"
            ],
            [
             0.2222222222222222,
             "#7201a8"
            ],
            [
             0.3333333333333333,
             "#9c179e"
            ],
            [
             0.4444444444444444,
             "#bd3786"
            ],
            [
             0.5555555555555556,
             "#d8576b"
            ],
            [
             0.6666666666666666,
             "#ed7953"
            ],
            [
             0.7777777777777778,
             "#fb9f3a"
            ],
            [
             0.8888888888888888,
             "#fdca26"
            ],
            [
             1,
             "#f0f921"
            ]
           ],
           "sequentialminus": [
            [
             0,
             "#0d0887"
            ],
            [
             0.1111111111111111,
             "#46039f"
            ],
            [
             0.2222222222222222,
             "#7201a8"
            ],
            [
             0.3333333333333333,
             "#9c179e"
            ],
            [
             0.4444444444444444,
             "#bd3786"
            ],
            [
             0.5555555555555556,
             "#d8576b"
            ],
            [
             0.6666666666666666,
             "#ed7953"
            ],
            [
             0.7777777777777778,
             "#fb9f3a"
            ],
            [
             0.8888888888888888,
             "#fdca26"
            ],
            [
             1,
             "#f0f921"
            ]
           ]
          },
          "colorway": [
           "#636efa",
           "#EF553B",
           "#00cc96",
           "#ab63fa",
           "#FFA15A",
           "#19d3f3",
           "#FF6692",
           "#B6E880",
           "#FF97FF",
           "#FECB52"
          ],
          "font": {
           "color": "#2a3f5f"
          },
          "geo": {
           "bgcolor": "white",
           "lakecolor": "white",
           "landcolor": "white",
           "showlakes": true,
           "showland": true,
           "subunitcolor": "#C8D4E3"
          },
          "hoverlabel": {
           "align": "left"
          },
          "hovermode": "closest",
          "mapbox": {
           "style": "light"
          },
          "paper_bgcolor": "white",
          "plot_bgcolor": "white",
          "polar": {
           "angularaxis": {
            "gridcolor": "#EBF0F8",
            "linecolor": "#EBF0F8",
            "ticks": ""
           },
           "bgcolor": "white",
           "radialaxis": {
            "gridcolor": "#EBF0F8",
            "linecolor": "#EBF0F8",
            "ticks": ""
           }
          },
          "scene": {
           "xaxis": {
            "backgroundcolor": "white",
            "gridcolor": "#DFE8F3",
            "gridwidth": 2,
            "linecolor": "#EBF0F8",
            "showbackground": true,
            "ticks": "",
            "zerolinecolor": "#EBF0F8"
           },
           "yaxis": {
            "backgroundcolor": "white",
            "gridcolor": "#DFE8F3",
            "gridwidth": 2,
            "linecolor": "#EBF0F8",
            "showbackground": true,
            "ticks": "",
            "zerolinecolor": "#EBF0F8"
           },
           "zaxis": {
            "backgroundcolor": "white",
            "gridcolor": "#DFE8F3",
            "gridwidth": 2,
            "linecolor": "#EBF0F8",
            "showbackground": true,
            "ticks": "",
            "zerolinecolor": "#EBF0F8"
           }
          },
          "shapedefaults": {
           "line": {
            "color": "#2a3f5f"
           }
          },
          "ternary": {
           "aaxis": {
            "gridcolor": "#DFE8F3",
            "linecolor": "#A2B1C6",
            "ticks": ""
           },
           "baxis": {
            "gridcolor": "#DFE8F3",
            "linecolor": "#A2B1C6",
            "ticks": ""
           },
           "bgcolor": "white",
           "caxis": {
            "gridcolor": "#DFE8F3",
            "linecolor": "#A2B1C6",
            "ticks": ""
           }
          },
          "title": {
           "x": 0.05
          },
          "xaxis": {
           "automargin": true,
           "gridcolor": "#EBF0F8",
           "linecolor": "#EBF0F8",
           "ticks": "",
           "title": {
            "standoff": 15
           },
           "zerolinecolor": "#EBF0F8",
           "zerolinewidth": 2
          },
          "yaxis": {
           "automargin": true,
           "gridcolor": "#EBF0F8",
           "linecolor": "#EBF0F8",
           "ticks": "",
           "title": {
            "standoff": 15
           },
           "zerolinecolor": "#EBF0F8",
           "zerolinewidth": 2
          }
         }
        },
        "title": {
         "font": {
          "size": 30
         },
         "text": "Evolution and prediction of Generation",
         "x": 0.5,
         "xanchor": "center"
        },
        "width": 1400,
        "xaxis": {
         "anchor": "y",
         "domain": [
          0,
          1
         ],
         "tickmode": "linear",
         "title": {
          "font": {
           "size": 15
          },
          "text": "Years"
         }
        },
        "yaxis": {
         "anchor": "x",
         "domain": [
          0,
          1
         ],
         "tickformat": ".0f",
         "title": {
          "font": {
           "size": 15
          },
          "text": "Generation (GWH)"
         }
        }
       }
      }
     },
     "metadata": {},
     "output_type": "display_data"
    }
   ],
   "source": [
    "data=yearlygeneration.groupby(\"Fecha\").sum(numeric_only=True).reset_index()\n",
    "fig =px.line(data, x='Fecha', y='Total', title='Evolution and prediction of Generation',\n",
    "                 labels={'Fecha': 'Years', 'Total': 'Generation (GWH)'},markers=True)\n",
    "fig.update_traces(marker=dict(color='#EBA02E'))\n",
    "fig.update_layout(\n",
    "    xaxis=dict(tickmode='linear'),\n",
    "    yaxis=dict(tickformat=\".0f\"),\n",
    "    template='plotly_white',\n",
    "    title=dict(font=dict(size=30), x=0.5,  # Centrar el título\n",
    "        xanchor='center',),\n",
    "    xaxis_title=dict(font=dict(size=15)),\n",
    "    yaxis_title=dict(font=dict(size=15)),\n",
    "    legend=dict(font=dict(size=12)),width=1400,height=550\n",
    ")\n",
    "fig.show()"
   ]
  },
  {
   "cell_type": "markdown",
   "metadata": {},
   "source": [
    "# Linear Regression Model for Predicting Future Generation Values"
   ]
  },
  {
   "cell_type": "code",
   "execution_count": 14,
   "metadata": {},
   "outputs": [
    {
     "data": {
      "application/vnd.plotly.v1+json": {
       "config": {
        "plotlyServerURL": "https://plot.ly"
       },
       "data": [
        {
         "hovertemplate": "Years=%{x}<br>Generation (GWH)=%{y}<extra></extra>",
         "legendgroup": "",
         "line": {
          "color": "#636efa",
          "dash": "solid"
         },
         "marker": {
          "color": "#EBA02E",
          "symbol": "circle"
         },
         "mode": "markers+lines",
         "name": "",
         "orientation": "v",
         "showlegend": false,
         "type": "scatter",
         "x": [
          1995,
          1996,
          1997,
          1998,
          1999,
          2000,
          2001,
          2002,
          2003,
          2004,
          2005,
          2006,
          2007,
          2008,
          2009,
          2010,
          2011,
          2012,
          2013,
          2014,
          2015,
          2016,
          2017,
          2018,
          2019,
          2020,
          2021,
          2022
         ],
         "xaxis": "x",
         "y": [
          18148,
          40249,
          41768,
          42422,
          40514,
          41277,
          43048,
          44734,
          46735,
          48563,
          50431,
          52340,
          53627,
          54395,
          55965,
          56787,
          58621,
          59891,
          62197,
          64328,
          66548,
          65943,
          66667,
          68947,
          70114,
          69324,
          73933,
          76908
         ],
         "yaxis": "y"
        },
        {
         "marker": {
          "color": "red",
          "size": 10
         },
         "mode": "markers",
         "name": "Prediction",
         "type": "scatter",
         "x": [
          2023
         ],
         "y": [
          77291.76190476213
         ]
        },
        {
         "marker": {
          "color": "green",
          "size": 10
         },
         "mode": "markers",
         "name": "True Value",
         "type": "scatter",
         "x": [
          2023
         ],
         "y": [
          80687.35
         ]
        }
       ],
       "layout": {
        "height": 700,
        "legend": {
         "font": {
          "size": 12
         },
         "tracegroupgap": 0
        },
        "template": {
         "data": {
          "bar": [
           {
            "error_x": {
             "color": "#2a3f5f"
            },
            "error_y": {
             "color": "#2a3f5f"
            },
            "marker": {
             "line": {
              "color": "white",
              "width": 0.5
             },
             "pattern": {
              "fillmode": "overlay",
              "size": 10,
              "solidity": 0.2
             }
            },
            "type": "bar"
           }
          ],
          "barpolar": [
           {
            "marker": {
             "line": {
              "color": "white",
              "width": 0.5
             },
             "pattern": {
              "fillmode": "overlay",
              "size": 10,
              "solidity": 0.2
             }
            },
            "type": "barpolar"
           }
          ],
          "carpet": [
           {
            "aaxis": {
             "endlinecolor": "#2a3f5f",
             "gridcolor": "#C8D4E3",
             "linecolor": "#C8D4E3",
             "minorgridcolor": "#C8D4E3",
             "startlinecolor": "#2a3f5f"
            },
            "baxis": {
             "endlinecolor": "#2a3f5f",
             "gridcolor": "#C8D4E3",
             "linecolor": "#C8D4E3",
             "minorgridcolor": "#C8D4E3",
             "startlinecolor": "#2a3f5f"
            },
            "type": "carpet"
           }
          ],
          "choropleth": [
           {
            "colorbar": {
             "outlinewidth": 0,
             "ticks": ""
            },
            "type": "choropleth"
           }
          ],
          "contour": [
           {
            "colorbar": {
             "outlinewidth": 0,
             "ticks": ""
            },
            "colorscale": [
             [
              0,
              "#0d0887"
             ],
             [
              0.1111111111111111,
              "#46039f"
             ],
             [
              0.2222222222222222,
              "#7201a8"
             ],
             [
              0.3333333333333333,
              "#9c179e"
             ],
             [
              0.4444444444444444,
              "#bd3786"
             ],
             [
              0.5555555555555556,
              "#d8576b"
             ],
             [
              0.6666666666666666,
              "#ed7953"
             ],
             [
              0.7777777777777778,
              "#fb9f3a"
             ],
             [
              0.8888888888888888,
              "#fdca26"
             ],
             [
              1,
              "#f0f921"
             ]
            ],
            "type": "contour"
           }
          ],
          "contourcarpet": [
           {
            "colorbar": {
             "outlinewidth": 0,
             "ticks": ""
            },
            "type": "contourcarpet"
           }
          ],
          "heatmap": [
           {
            "colorbar": {
             "outlinewidth": 0,
             "ticks": ""
            },
            "colorscale": [
             [
              0,
              "#0d0887"
             ],
             [
              0.1111111111111111,
              "#46039f"
             ],
             [
              0.2222222222222222,
              "#7201a8"
             ],
             [
              0.3333333333333333,
              "#9c179e"
             ],
             [
              0.4444444444444444,
              "#bd3786"
             ],
             [
              0.5555555555555556,
              "#d8576b"
             ],
             [
              0.6666666666666666,
              "#ed7953"
             ],
             [
              0.7777777777777778,
              "#fb9f3a"
             ],
             [
              0.8888888888888888,
              "#fdca26"
             ],
             [
              1,
              "#f0f921"
             ]
            ],
            "type": "heatmap"
           }
          ],
          "heatmapgl": [
           {
            "colorbar": {
             "outlinewidth": 0,
             "ticks": ""
            },
            "colorscale": [
             [
              0,
              "#0d0887"
             ],
             [
              0.1111111111111111,
              "#46039f"
             ],
             [
              0.2222222222222222,
              "#7201a8"
             ],
             [
              0.3333333333333333,
              "#9c179e"
             ],
             [
              0.4444444444444444,
              "#bd3786"
             ],
             [
              0.5555555555555556,
              "#d8576b"
             ],
             [
              0.6666666666666666,
              "#ed7953"
             ],
             [
              0.7777777777777778,
              "#fb9f3a"
             ],
             [
              0.8888888888888888,
              "#fdca26"
             ],
             [
              1,
              "#f0f921"
             ]
            ],
            "type": "heatmapgl"
           }
          ],
          "histogram": [
           {
            "marker": {
             "pattern": {
              "fillmode": "overlay",
              "size": 10,
              "solidity": 0.2
             }
            },
            "type": "histogram"
           }
          ],
          "histogram2d": [
           {
            "colorbar": {
             "outlinewidth": 0,
             "ticks": ""
            },
            "colorscale": [
             [
              0,
              "#0d0887"
             ],
             [
              0.1111111111111111,
              "#46039f"
             ],
             [
              0.2222222222222222,
              "#7201a8"
             ],
             [
              0.3333333333333333,
              "#9c179e"
             ],
             [
              0.4444444444444444,
              "#bd3786"
             ],
             [
              0.5555555555555556,
              "#d8576b"
             ],
             [
              0.6666666666666666,
              "#ed7953"
             ],
             [
              0.7777777777777778,
              "#fb9f3a"
             ],
             [
              0.8888888888888888,
              "#fdca26"
             ],
             [
              1,
              "#f0f921"
             ]
            ],
            "type": "histogram2d"
           }
          ],
          "histogram2dcontour": [
           {
            "colorbar": {
             "outlinewidth": 0,
             "ticks": ""
            },
            "colorscale": [
             [
              0,
              "#0d0887"
             ],
             [
              0.1111111111111111,
              "#46039f"
             ],
             [
              0.2222222222222222,
              "#7201a8"
             ],
             [
              0.3333333333333333,
              "#9c179e"
             ],
             [
              0.4444444444444444,
              "#bd3786"
             ],
             [
              0.5555555555555556,
              "#d8576b"
             ],
             [
              0.6666666666666666,
              "#ed7953"
             ],
             [
              0.7777777777777778,
              "#fb9f3a"
             ],
             [
              0.8888888888888888,
              "#fdca26"
             ],
             [
              1,
              "#f0f921"
             ]
            ],
            "type": "histogram2dcontour"
           }
          ],
          "mesh3d": [
           {
            "colorbar": {
             "outlinewidth": 0,
             "ticks": ""
            },
            "type": "mesh3d"
           }
          ],
          "parcoords": [
           {
            "line": {
             "colorbar": {
              "outlinewidth": 0,
              "ticks": ""
             }
            },
            "type": "parcoords"
           }
          ],
          "pie": [
           {
            "automargin": true,
            "type": "pie"
           }
          ],
          "scatter": [
           {
            "fillpattern": {
             "fillmode": "overlay",
             "size": 10,
             "solidity": 0.2
            },
            "type": "scatter"
           }
          ],
          "scatter3d": [
           {
            "line": {
             "colorbar": {
              "outlinewidth": 0,
              "ticks": ""
             }
            },
            "marker": {
             "colorbar": {
              "outlinewidth": 0,
              "ticks": ""
             }
            },
            "type": "scatter3d"
           }
          ],
          "scattercarpet": [
           {
            "marker": {
             "colorbar": {
              "outlinewidth": 0,
              "ticks": ""
             }
            },
            "type": "scattercarpet"
           }
          ],
          "scattergeo": [
           {
            "marker": {
             "colorbar": {
              "outlinewidth": 0,
              "ticks": ""
             }
            },
            "type": "scattergeo"
           }
          ],
          "scattergl": [
           {
            "marker": {
             "colorbar": {
              "outlinewidth": 0,
              "ticks": ""
             }
            },
            "type": "scattergl"
           }
          ],
          "scattermapbox": [
           {
            "marker": {
             "colorbar": {
              "outlinewidth": 0,
              "ticks": ""
             }
            },
            "type": "scattermapbox"
           }
          ],
          "scatterpolar": [
           {
            "marker": {
             "colorbar": {
              "outlinewidth": 0,
              "ticks": ""
             }
            },
            "type": "scatterpolar"
           }
          ],
          "scatterpolargl": [
           {
            "marker": {
             "colorbar": {
              "outlinewidth": 0,
              "ticks": ""
             }
            },
            "type": "scatterpolargl"
           }
          ],
          "scatterternary": [
           {
            "marker": {
             "colorbar": {
              "outlinewidth": 0,
              "ticks": ""
             }
            },
            "type": "scatterternary"
           }
          ],
          "surface": [
           {
            "colorbar": {
             "outlinewidth": 0,
             "ticks": ""
            },
            "colorscale": [
             [
              0,
              "#0d0887"
             ],
             [
              0.1111111111111111,
              "#46039f"
             ],
             [
              0.2222222222222222,
              "#7201a8"
             ],
             [
              0.3333333333333333,
              "#9c179e"
             ],
             [
              0.4444444444444444,
              "#bd3786"
             ],
             [
              0.5555555555555556,
              "#d8576b"
             ],
             [
              0.6666666666666666,
              "#ed7953"
             ],
             [
              0.7777777777777778,
              "#fb9f3a"
             ],
             [
              0.8888888888888888,
              "#fdca26"
             ],
             [
              1,
              "#f0f921"
             ]
            ],
            "type": "surface"
           }
          ],
          "table": [
           {
            "cells": {
             "fill": {
              "color": "#EBF0F8"
             },
             "line": {
              "color": "white"
             }
            },
            "header": {
             "fill": {
              "color": "#C8D4E3"
             },
             "line": {
              "color": "white"
             }
            },
            "type": "table"
           }
          ]
         },
         "layout": {
          "annotationdefaults": {
           "arrowcolor": "#2a3f5f",
           "arrowhead": 0,
           "arrowwidth": 1
          },
          "autotypenumbers": "strict",
          "coloraxis": {
           "colorbar": {
            "outlinewidth": 0,
            "ticks": ""
           }
          },
          "colorscale": {
           "diverging": [
            [
             0,
             "#8e0152"
            ],
            [
             0.1,
             "#c51b7d"
            ],
            [
             0.2,
             "#de77ae"
            ],
            [
             0.3,
             "#f1b6da"
            ],
            [
             0.4,
             "#fde0ef"
            ],
            [
             0.5,
             "#f7f7f7"
            ],
            [
             0.6,
             "#e6f5d0"
            ],
            [
             0.7,
             "#b8e186"
            ],
            [
             0.8,
             "#7fbc41"
            ],
            [
             0.9,
             "#4d9221"
            ],
            [
             1,
             "#276419"
            ]
           ],
           "sequential": [
            [
             0,
             "#0d0887"
            ],
            [
             0.1111111111111111,
             "#46039f"
            ],
            [
             0.2222222222222222,
             "#7201a8"
            ],
            [
             0.3333333333333333,
             "#9c179e"
            ],
            [
             0.4444444444444444,
             "#bd3786"
            ],
            [
             0.5555555555555556,
             "#d8576b"
            ],
            [
             0.6666666666666666,
             "#ed7953"
            ],
            [
             0.7777777777777778,
             "#fb9f3a"
            ],
            [
             0.8888888888888888,
             "#fdca26"
            ],
            [
             1,
             "#f0f921"
            ]
           ],
           "sequentialminus": [
            [
             0,
             "#0d0887"
            ],
            [
             0.1111111111111111,
             "#46039f"
            ],
            [
             0.2222222222222222,
             "#7201a8"
            ],
            [
             0.3333333333333333,
             "#9c179e"
            ],
            [
             0.4444444444444444,
             "#bd3786"
            ],
            [
             0.5555555555555556,
             "#d8576b"
            ],
            [
             0.6666666666666666,
             "#ed7953"
            ],
            [
             0.7777777777777778,
             "#fb9f3a"
            ],
            [
             0.8888888888888888,
             "#fdca26"
            ],
            [
             1,
             "#f0f921"
            ]
           ]
          },
          "colorway": [
           "#636efa",
           "#EF553B",
           "#00cc96",
           "#ab63fa",
           "#FFA15A",
           "#19d3f3",
           "#FF6692",
           "#B6E880",
           "#FF97FF",
           "#FECB52"
          ],
          "font": {
           "color": "#2a3f5f"
          },
          "geo": {
           "bgcolor": "white",
           "lakecolor": "white",
           "landcolor": "white",
           "showlakes": true,
           "showland": true,
           "subunitcolor": "#C8D4E3"
          },
          "hoverlabel": {
           "align": "left"
          },
          "hovermode": "closest",
          "mapbox": {
           "style": "light"
          },
          "paper_bgcolor": "white",
          "plot_bgcolor": "white",
          "polar": {
           "angularaxis": {
            "gridcolor": "#EBF0F8",
            "linecolor": "#EBF0F8",
            "ticks": ""
           },
           "bgcolor": "white",
           "radialaxis": {
            "gridcolor": "#EBF0F8",
            "linecolor": "#EBF0F8",
            "ticks": ""
           }
          },
          "scene": {
           "xaxis": {
            "backgroundcolor": "white",
            "gridcolor": "#DFE8F3",
            "gridwidth": 2,
            "linecolor": "#EBF0F8",
            "showbackground": true,
            "ticks": "",
            "zerolinecolor": "#EBF0F8"
           },
           "yaxis": {
            "backgroundcolor": "white",
            "gridcolor": "#DFE8F3",
            "gridwidth": 2,
            "linecolor": "#EBF0F8",
            "showbackground": true,
            "ticks": "",
            "zerolinecolor": "#EBF0F8"
           },
           "zaxis": {
            "backgroundcolor": "white",
            "gridcolor": "#DFE8F3",
            "gridwidth": 2,
            "linecolor": "#EBF0F8",
            "showbackground": true,
            "ticks": "",
            "zerolinecolor": "#EBF0F8"
           }
          },
          "shapedefaults": {
           "line": {
            "color": "#2a3f5f"
           }
          },
          "ternary": {
           "aaxis": {
            "gridcolor": "#DFE8F3",
            "linecolor": "#A2B1C6",
            "ticks": ""
           },
           "baxis": {
            "gridcolor": "#DFE8F3",
            "linecolor": "#A2B1C6",
            "ticks": ""
           },
           "bgcolor": "white",
           "caxis": {
            "gridcolor": "#DFE8F3",
            "linecolor": "#A2B1C6",
            "ticks": ""
           }
          },
          "title": {
           "x": 0.05
          },
          "xaxis": {
           "automargin": true,
           "gridcolor": "#EBF0F8",
           "linecolor": "#EBF0F8",
           "ticks": "",
           "title": {
            "standoff": 15
           },
           "zerolinecolor": "#EBF0F8",
           "zerolinewidth": 2
          },
          "yaxis": {
           "automargin": true,
           "gridcolor": "#EBF0F8",
           "linecolor": "#EBF0F8",
           "ticks": "",
           "title": {
            "standoff": 15
           },
           "zerolinecolor": "#EBF0F8",
           "zerolinewidth": 2
          }
         }
        },
        "title": {
         "font": {
          "size": 20
         },
         "text": "Evolution and prediction of Generation",
         "x": 0.5,
         "xanchor": "center"
        },
        "width": 1400,
        "xaxis": {
         "anchor": "y",
         "domain": [
          0,
          1
         ],
         "tickmode": "linear",
         "title": {
          "font": {
           "size": 15
          },
          "text": "Years"
         }
        },
        "yaxis": {
         "anchor": "x",
         "domain": [
          0,
          1
         ],
         "tickformat": ".0f",
         "title": {
          "font": {
           "size": 15
          },
          "text": "Generation (GWH)"
         }
        }
       }
      }
     },
     "metadata": {},
     "output_type": "display_data"
    },
    {
     "name": "stdout",
     "output_type": "stream",
     "text": [
      "The value predicted by the linear regression model is 77291.76 GWh (shown in red on the graph), while the actual value is 80,687.35 GWh (shown in green).\n",
      "the difference between the predicted value and the true value is: 4.21 %\n"
     ]
    }
   ],
   "source": [
    "temp_reg=LinearRegression()\n",
    "#df=df.loc[df[\"Year\"] >1995]\n",
    "data=yearlygeneration.groupby(\"Fecha\").sum(numeric_only=True).reset_index()\n",
    "temp_reg.fit(np.array(data[\"Fecha\"]).reshape(-1,1),np.array(data[\"Total\"]).reshape(-1,1))\n",
    "prediccion= temp_reg.predict(np.array(2023).reshape(1,-1)).item()\n",
    "#fig = px.scatter(data, x='Fecha', y='Total', title='Evolution and prediction of Generation',\n",
    "    #             labels={'Fecha': 'Years', 'Total': 'Generation (GWH)'})\n",
    "fig =px.line(data, x='Fecha', y='Total', title='Evolution and prediction of Generation',\n",
    "                 labels={'Fecha': 'Years', 'Total': 'Generation (GWH)'},markers=True)\n",
    "fig.update_traces(marker=dict(color='#EBA02E'))\n",
    "\n",
    "# Add the prediction point\n",
    "fig.add_trace(go.Scatter(\n",
    "    x=[2023], y=[prediccion],\n",
    "    mode='markers', name='Prediction',\n",
    "    marker=dict(color='red', size=10)\n",
    "))\n",
    "\n",
    "# Add the true value point\n",
    "fig.add_trace(go.Scatter(\n",
    "    x=[2023], y=[80687.35],\n",
    "    mode='markers', name='True Value',\n",
    "    marker=dict(color='green', size=10)\n",
    "))\n",
    "\n",
    "# Update the layout\n",
    "fig.update_layout(\n",
    "    xaxis=dict(tickmode='linear'),\n",
    "    yaxis=dict(tickformat=\".0f\"),\n",
    "    template='plotly_white',\n",
    "    title=dict(font=dict(size=20), x=0.5,  # Centrar el título\n",
    "        xanchor='center',),\n",
    "    xaxis_title=dict(font=dict(size=15)),\n",
    "    yaxis_title=dict(font=dict(size=15)),\n",
    "    legend=dict(font=dict(size=12)),width=1400,height=700\n",
    ")\n",
    "\n",
    "# Show the plot\n",
    "fig.show()\n",
    "print(f\"The value predicted by the linear regression model is {round(prediccion,2)} GWh (shown in red on the graph), while the actual value is 80,687.35 GWh (shown in green).\")\n",
    "print(f\"the difference between the predicted value and the true value is: {round((80687.35-prediccion)/80687.35*100,2)} %\")\n"
   ]
  },
  {
   "cell_type": "markdown",
   "metadata": {},
   "source": [
    "### **Conclusions:**\n",
    "- The electric  Generation of the country have been increasing in a linear way, therefore, the future generation can be predicted with linear regression models.\n",
    "- The linear regresion model made with scikitlearn predict the value of the 2023 generation with a 96.8 of accuraccy, this confirms the liena evolution of the electric generation in colombia\n",
    "\n"
   ]
  },
  {
   "cell_type": "markdown",
   "metadata": {},
   "source": [
    "# Comparation Between Types of Generation"
   ]
  },
  {
   "cell_type": "markdown",
   "metadata": {},
   "source": [
    "## Distribution of electric generation by type of generation"
   ]
  },
  {
   "cell_type": "code",
   "execution_count": 15,
   "metadata": {},
   "outputs": [
    {
     "data": {
      "text/plain": [
       "Text(0.5, 1.0, 'Yearly Distribution By Type of Generation')"
      ]
     },
     "execution_count": 15,
     "metadata": {},
     "output_type": "execute_result"
    },
    {
     "data": {
      "image/png": "[encoded data removed]",
      "text/plain": [
       "<Figure size 1359.38x600 with 1 Axes>"
      ]
     },
     "metadata": {},
     "output_type": "display_data"
    }
   ],
   "source": [
    "sns.catplot( data=yearlygeneration, kind=\"bar\", x=\"Fecha\", y=\"Total\", hue=\"Tipo Generacion\", height=6, aspect=2)\n",
    "plt.xlabel(\"Years\", fontsize=12)\n",
    "plt.ylabel(\"Generation (GWH)\", fontsize=12)\n",
    "plt.title(\"Yearly Distribution By Type of Generation\", fontsize=15)"
   ]
  },
  {
   "cell_type": "code",
   "execution_count": 16,
   "metadata": {},
   "outputs": [
    {
     "name": "stderr",
     "output_type": "stream",
     "text": [
      "c:\\Users\\mateo\\anaconda3\\Lib\\site-packages\\seaborn\\_oldcore.py:1119: FutureWarning:\n",
      "\n",
      "use_inf_as_na option is deprecated and will be removed in a future version. Convert inf values to NaN before operating instead.\n",
      "\n",
      "c:\\Users\\mateo\\anaconda3\\Lib\\site-packages\\seaborn\\_oldcore.py:1119: FutureWarning:\n",
      "\n",
      "use_inf_as_na option is deprecated and will be removed in a future version. Convert inf values to NaN before operating instead.\n",
      "\n",
      "c:\\Users\\mateo\\anaconda3\\Lib\\site-packages\\seaborn\\_oldcore.py:1119: FutureWarning:\n",
      "\n",
      "use_inf_as_na option is deprecated and will be removed in a future version. Convert inf values to NaN before operating instead.\n",
      "\n",
      "c:\\Users\\mateo\\anaconda3\\Lib\\site-packages\\seaborn\\_oldcore.py:1119: FutureWarning:\n",
      "\n",
      "use_inf_as_na option is deprecated and will be removed in a future version. Convert inf values to NaN before operating instead.\n",
      "\n"
     ]
    },
    {
     "data": {
      "image/png": "[encoded data removed]",
      "text/plain": [
       "<Figure size 1500x1000 with 3 Axes>"
      ]
     },
     "metadata": {},
     "output_type": "display_data"
    }
   ],
   "source": [
    "plt.figure(figsize=(15,10))\n",
    "\n",
    "plt.subplot(3,1,1)\n",
    "sns.lineplot(x=\"Fecha\",y=\"Total\",data=yearlygeneration.loc[(yearlygeneration[\"Tipo Generacion\"]==\"HIDRAULICA\") | (yearlygeneration[\"Tipo Generacion\"]==\"TERMICA\")],hue=\"Tipo Generacion\")\n",
    "plt.xlabel(\"Years\", fontsize=12)\n",
    "plt.ylabel(\"Generation (GWH)\", fontsize=12)\n",
    "plt.title(\"Long-Term Trends in Thermal and Hydroelectric Energy Generation\", fontsize=15)\n",
    "plt.legend(title=\"Type of Generation\", loc='upper left', fontsize=10)\n",
    "\n",
    "plt.subplot(3,1,2)\n",
    "sns.lineplot(x=\"Fecha\",y=\"Total\",data=yearlygeneration.loc[(yearlygeneration[\"Tipo Generacion\"]==\"EOLICA\") | (yearlygeneration[\"Tipo Generacion\"]==\"SOLAR\") | (yearlygeneration[\"Tipo Generacion\"]==\"COGENERADOR\") ],hue=\"Tipo Generacion\")\n",
    "plt.xlabel(\"Years\", fontsize=12)\n",
    "plt.ylabel(\"Generation (GWH)\", fontsize=12)\n",
    "plt.title(\"Long-Term Trends in Cogeneration, Solar, and Wind Energy Generation\", fontsize=15)\n",
    "plt.legend(title=\"Type of Generation\", loc='upper left', fontsize=10)\n",
    "plt.xticks(rotation=45, ha='right')\n",
    "\n",
    "plt.subplot(3,1,3)\n",
    "sns.barplot(x=\"Fecha\",y=\"Total\",data=yearlygeneration.loc[(yearlygeneration[\"Tipo Generacion\"]==\"EOLICA\") | (yearlygeneration[\"Tipo Generacion\"]==\"SOLAR\") | (yearlygeneration[\"Tipo Generacion\"]==\"COGENERADOR\")],hue=\"Tipo Generacion\")\n",
    "plt.xlabel(\"Years\", fontsize=12)\n",
    "plt.ylabel(\"Generation (GWH)\", fontsize=12)\n",
    "plt.title(\"Distribution in Cogeneration, Solar, and Wind Energy Generation\", fontsize=15)\n",
    "plt.legend(title=\"Type of Generation\", loc='upper left', fontsize=10)\n",
    "plt.xticks(rotation=45, ha='right')\n",
    "\n",
    "plt.subplots_adjust(left=0.1, right=0.9, bottom=0.1, top=0.9, wspace=0.5, hspace=0.5)\n",
    "plt.show()\n",
    "\n"
   ]
  },
  {
   "cell_type": "markdown",
   "metadata": {},
   "source": [
    "### **Conclusions:**\n",
    "1. **Energy matrix of colombia**:The country's electricity generation is primarily dominated by hydro and thermal sources. Other forms of generation represent a minimal percentage in comparison, highlighting the country's reliance on these two main sources of energy to meet electrical demand.\n",
    "1. **Hydro and Thermal Generation:** The second image clearly shows an inverse relationship between hydro and thermal energy generation. Specifically, thermal generation increases when hydro generation decreases, suggesting a compensatory mechanism to ensure a constant energy supply\n",
    "2. **Exponential Growth in Solar Generation:** Since its introduction into the National Interconnected System (SIN) in 2017, solar energy generation has experienced exponential growth. This increase reflects both greater adoption of solar technologies and increasing investment in renewable energy sources, contributing significantly to the diversification of the energy matrix."
   ]
  },
  {
   "cell_type": "markdown",
   "metadata": {},
   "source": [
    "# Relationship Between El Niño and La Niña Episodes and Renewable Generation in Colombia"
   ]
  },
  {
   "cell_type": "markdown",
   "metadata": {},
   "source": [
    "## Renewable Generation by year"
   ]
  },
  {
   "cell_type": "code",
   "execution_count": 17,
   "metadata": {},
   "outputs": [
    {
     "data": {
      "text/html": [
       "<div>\n",
       "<style scoped>\n",
       "    .dataframe tbody tr th:only-of-type {\n",
       "        vertical-align: middle;\n",
       "    }\n",
       "\n",
       "    .dataframe tbody tr th {\n",
       "        vertical-align: top;\n",
       "    }\n",
       "\n",
       "    .dataframe thead th {\n",
       "        text-align: right;\n",
       "    }\n",
       "</style>\n",
       "<table border=\"1\" class=\"dataframe\">\n",
       "  <thead>\n",
       "    <tr style=\"text-align: right;\">\n",
       "      <th>Tipo Generacion</th>\n",
       "      <th>COGENERADOR</th>\n",
       "      <th>EOLICA</th>\n",
       "      <th>HIDRAULICA</th>\n",
       "      <th>SOLAR</th>\n",
       "      <th>TERMICA</th>\n",
       "      <th>Total</th>\n",
       "      <th>Renovable(%)</th>\n",
       "    </tr>\n",
       "    <tr>\n",
       "      <th>Fecha</th>\n",
       "      <th></th>\n",
       "      <th></th>\n",
       "      <th></th>\n",
       "      <th></th>\n",
       "      <th></th>\n",
       "      <th></th>\n",
       "      <th></th>\n",
       "    </tr>\n",
       "  </thead>\n",
       "  <tbody>\n",
       "    <tr>\n",
       "      <th>1995</th>\n",
       "      <td>0</td>\n",
       "      <td>0</td>\n",
       "      <td>14537</td>\n",
       "      <td>0</td>\n",
       "      <td>3611</td>\n",
       "      <td>18148</td>\n",
       "      <td>80</td>\n",
       "    </tr>\n",
       "    <tr>\n",
       "      <th>1996</th>\n",
       "      <td>0</td>\n",
       "      <td>0</td>\n",
       "      <td>33947</td>\n",
       "      <td>0</td>\n",
       "      <td>6302</td>\n",
       "      <td>40249</td>\n",
       "      <td>84</td>\n",
       "    </tr>\n",
       "    <tr>\n",
       "      <th>1997</th>\n",
       "      <td>0</td>\n",
       "      <td>0</td>\n",
       "      <td>30275</td>\n",
       "      <td>0</td>\n",
       "      <td>11493</td>\n",
       "      <td>41768</td>\n",
       "      <td>72</td>\n",
       "    </tr>\n",
       "    <tr>\n",
       "      <th>1998</th>\n",
       "      <td>33</td>\n",
       "      <td>0</td>\n",
       "      <td>29678</td>\n",
       "      <td>0</td>\n",
       "      <td>12711</td>\n",
       "      <td>42422</td>\n",
       "      <td>69</td>\n",
       "    </tr>\n",
       "    <tr>\n",
       "      <th>1999</th>\n",
       "      <td>112</td>\n",
       "      <td>0</td>\n",
       "      <td>32637</td>\n",
       "      <td>0</td>\n",
       "      <td>7765</td>\n",
       "      <td>40514</td>\n",
       "      <td>80</td>\n",
       "    </tr>\n",
       "    <tr>\n",
       "      <th>2000</th>\n",
       "      <td>108</td>\n",
       "      <td>0</td>\n",
       "      <td>31074</td>\n",
       "      <td>0</td>\n",
       "      <td>10095</td>\n",
       "      <td>41277</td>\n",
       "      <td>75</td>\n",
       "    </tr>\n",
       "    <tr>\n",
       "      <th>2001</th>\n",
       "      <td>103</td>\n",
       "      <td>0</td>\n",
       "      <td>32439</td>\n",
       "      <td>0</td>\n",
       "      <td>10506</td>\n",
       "      <td>43048</td>\n",
       "      <td>75</td>\n",
       "    </tr>\n",
       "    <tr>\n",
       "      <th>2002</th>\n",
       "      <td>107</td>\n",
       "      <td>0</td>\n",
       "      <td>34670</td>\n",
       "      <td>0</td>\n",
       "      <td>9957</td>\n",
       "      <td>44734</td>\n",
       "      <td>77</td>\n",
       "    </tr>\n",
       "    <tr>\n",
       "      <th>2003</th>\n",
       "      <td>108</td>\n",
       "      <td>0</td>\n",
       "      <td>37197</td>\n",
       "      <td>0</td>\n",
       "      <td>9430</td>\n",
       "      <td>46735</td>\n",
       "      <td>79</td>\n",
       "    </tr>\n",
       "    <tr>\n",
       "      <th>2004</th>\n",
       "      <td>120</td>\n",
       "      <td>51</td>\n",
       "      <td>39849</td>\n",
       "      <td>0</td>\n",
       "      <td>8543</td>\n",
       "      <td>48563</td>\n",
       "      <td>82</td>\n",
       "    </tr>\n",
       "  </tbody>\n",
       "</table>\n",
       "</div>"
      ],
      "text/plain": [
       "Tipo Generacion  COGENERADOR  EOLICA  HIDRAULICA  SOLAR  TERMICA  Total  \\\n",
       "Fecha                                                                     \n",
       "1995                       0       0       14537      0     3611  18148   \n",
       "1996                       0       0       33947      0     6302  40249   \n",
       "1997                       0       0       30275      0    11493  41768   \n",
       "1998                      33       0       29678      0    12711  42422   \n",
       "1999                     112       0       32637      0     7765  40514   \n",
       "2000                     108       0       31074      0    10095  41277   \n",
       "2001                     103       0       32439      0    10506  43048   \n",
       "2002                     107       0       34670      0     9957  44734   \n",
       "2003                     108       0       37197      0     9430  46735   \n",
       "2004                     120      51       39849      0     8543  48563   \n",
       "\n",
       "Tipo Generacion  Renovable(%)  \n",
       "Fecha                          \n",
       "1995                       80  \n",
       "1996                       84  \n",
       "1997                       72  \n",
       "1998                       69  \n",
       "1999                       80  \n",
       "2000                       75  \n",
       "2001                       75  \n",
       "2002                       77  \n",
       "2003                       79  \n",
       "2004                       82  "
      ]
     },
     "execution_count": 17,
     "metadata": {},
     "output_type": "execute_result"
    }
   ],
   "source": [
    "renewableyear=yearlygeneration.pivot(index=\"Fecha\",columns='Tipo Generacion',values='Total')\n",
    "renewableyear=renewableyear.replace(np.nan,0)\n",
    "renewableyear[\"Total\"]=renewableyear[renewableyear.columns].sum(numeric_only=True,axis=1)\n",
    "renewableyear[\"Renovable(%)\"]=round(renewableyear[[\"EOLICA\",\"HIDRAULICA\",\"SOLAR\"]].sum(numeric_only=True,axis=1)/renewableyear[\"Total\"] *100,2)\n",
    "for i in renewableyear.columns:\n",
    "     renewableyear[i]=renewableyear[i].apply(lambda x: int(x))\n",
    "renewableyear.head(10)\n",
    "\n"
   ]
  },
  {
   "cell_type": "code",
   "execution_count": 18,
   "metadata": {},
   "outputs": [
    {
     "data": {
      "text/html": [
       "<div>\n",
       "<style scoped>\n",
       "    .dataframe tbody tr th:only-of-type {\n",
       "        vertical-align: middle;\n",
       "    }\n",
       "\n",
       "    .dataframe tbody tr th {\n",
       "        vertical-align: top;\n",
       "    }\n",
       "\n",
       "    .dataframe thead th {\n",
       "        text-align: right;\n",
       "    }\n",
       "</style>\n",
       "<table border=\"1\" class=\"dataframe\">\n",
       "  <thead>\n",
       "    <tr style=\"text-align: right;\">\n",
       "      <th>MON</th>\n",
       "      <th>Fecha</th>\n",
       "      <th>1</th>\n",
       "      <th>2</th>\n",
       "      <th>3</th>\n",
       "      <th>4</th>\n",
       "      <th>5</th>\n",
       "      <th>6</th>\n",
       "      <th>7</th>\n",
       "      <th>8</th>\n",
       "      <th>9</th>\n",
       "      <th>10</th>\n",
       "      <th>11</th>\n",
       "      <th>12</th>\n",
       "      <th>Mean</th>\n",
       "      <th>Niño/a</th>\n",
       "    </tr>\n",
       "  </thead>\n",
       "  <tbody>\n",
       "    <tr>\n",
       "      <th>0</th>\n",
       "      <td>1995</td>\n",
       "      <td>0.98</td>\n",
       "      <td>0.71</td>\n",
       "      <td>0.48</td>\n",
       "      <td>0.41</td>\n",
       "      <td>0.02</td>\n",
       "      <td>-0.01</td>\n",
       "      <td>-0.11</td>\n",
       "      <td>-0.61</td>\n",
       "      <td>-0.90</td>\n",
       "      <td>-0.92</td>\n",
       "      <td>-1.10</td>\n",
       "      <td>-1.00</td>\n",
       "      <td>-0.170833</td>\n",
       "      <td>Neutral</td>\n",
       "    </tr>\n",
       "    <tr>\n",
       "      <th>1</th>\n",
       "      <td>1996</td>\n",
       "      <td>-0.86</td>\n",
       "      <td>-0.85</td>\n",
       "      <td>-0.56</td>\n",
       "      <td>-0.36</td>\n",
       "      <td>-0.26</td>\n",
       "      <td>-0.30</td>\n",
       "      <td>-0.32</td>\n",
       "      <td>-0.20</td>\n",
       "      <td>-0.45</td>\n",
       "      <td>-0.40</td>\n",
       "      <td>-0.34</td>\n",
       "      <td>-0.61</td>\n",
       "      <td>-0.459167</td>\n",
       "      <td>Neutral</td>\n",
       "    </tr>\n",
       "    <tr>\n",
       "      <th>2</th>\n",
       "      <td>1997</td>\n",
       "      <td>-0.54</td>\n",
       "      <td>-0.36</td>\n",
       "      <td>-0.20</td>\n",
       "      <td>0.27</td>\n",
       "      <td>0.76</td>\n",
       "      <td>1.22</td>\n",
       "      <td>1.67</td>\n",
       "      <td>1.91</td>\n",
       "      <td>2.12</td>\n",
       "      <td>2.40</td>\n",
       "      <td>2.48</td>\n",
       "      <td>2.32</td>\n",
       "      <td>1.170833</td>\n",
       "      <td>El Niño</td>\n",
       "    </tr>\n",
       "    <tr>\n",
       "      <th>3</th>\n",
       "      <td>1998</td>\n",
       "      <td>2.37</td>\n",
       "      <td>2.03</td>\n",
       "      <td>1.38</td>\n",
       "      <td>0.90</td>\n",
       "      <td>0.70</td>\n",
       "      <td>-0.24</td>\n",
       "      <td>-0.86</td>\n",
       "      <td>-1.25</td>\n",
       "      <td>-1.26</td>\n",
       "      <td>-1.41</td>\n",
       "      <td>-1.38</td>\n",
       "      <td>-1.64</td>\n",
       "      <td>-0.055000</td>\n",
       "      <td>Neutral</td>\n",
       "    </tr>\n",
       "    <tr>\n",
       "      <th>4</th>\n",
       "      <td>1999</td>\n",
       "      <td>-1.69</td>\n",
       "      <td>-1.31</td>\n",
       "      <td>-0.90</td>\n",
       "      <td>-1.00</td>\n",
       "      <td>-1.02</td>\n",
       "      <td>-1.05</td>\n",
       "      <td>-1.05</td>\n",
       "      <td>-1.19</td>\n",
       "      <td>-1.09</td>\n",
       "      <td>-1.19</td>\n",
       "      <td>-1.50</td>\n",
       "      <td>-1.70</td>\n",
       "      <td>-1.224167</td>\n",
       "      <td>La Niña</td>\n",
       "    </tr>\n",
       "  </tbody>\n",
       "</table>\n",
       "</div>"
      ],
      "text/plain": [
       "MON  Fecha     1     2     3     4     5     6     7     8     9    10    11  \\\n",
       "0     1995  0.98  0.71  0.48  0.41  0.02 -0.01 -0.11 -0.61 -0.90 -0.92 -1.10   \n",
       "1     1996 -0.86 -0.85 -0.56 -0.36 -0.26 -0.30 -0.32 -0.20 -0.45 -0.40 -0.34   \n",
       "2     1997 -0.54 -0.36 -0.20  0.27  0.76  1.22  1.67  1.91  2.12  2.40  2.48   \n",
       "3     1998  2.37  2.03  1.38  0.90  0.70 -0.24 -0.86 -1.25 -1.26 -1.41 -1.38   \n",
       "4     1999 -1.69 -1.31 -0.90 -1.00 -1.02 -1.05 -1.05 -1.19 -1.09 -1.19 -1.50   \n",
       "\n",
       "MON    12      Mean   Niño/a  \n",
       "0   -1.00 -0.170833  Neutral  \n",
       "1   -0.61 -0.459167  Neutral  \n",
       "2    2.32  1.170833  El Niño  \n",
       "3   -1.64 -0.055000  Neutral  \n",
       "4   -1.70 -1.224167  La Niña  "
      ]
     },
     "execution_count": 18,
     "metadata": {},
     "output_type": "execute_result"
    }
   ],
   "source": [
    "url = 'https://origin.cpc.ncep.noaa.gov/products/analysis_monitoring/ensostuff/detrend.nino34.ascii.txt'\n",
    "oni = pd.read_csv(url, delim_whitespace=True, header=0)\n",
    "oni=oni.loc[oni[\"YR\"]>=1995]\n",
    "oni=oni.pivot(index=\"YR\",columns='MON',values='ANOM')\n",
    "oni[\"Mean\"]=oni.mean(numeric_only=True,axis=1)\n",
    "#oni[\"Prom\"]=oni[\"Total\"].apply(lambda x: \"Niño\" if x/12 > 0 else \"Niña\")\n",
    "oni[\"Niño/a\"]=oni[\"Mean\"].apply(lambda promedio: \"El Niño\" if promedio > 0.5 else \"La Niña\" if promedio < -0.5 else \"Neutral\")\n",
    "oni.reset_index(inplace=True)\n",
    "oni.rename(columns={\"YR\": \"Fecha\"}, inplace=True)\n",
    "oni.head()"
   ]
  },
  {
   "cell_type": "code",
   "execution_count": 19,
   "metadata": {},
   "outputs": [],
   "source": [
    "oni2=oni[[\"Fecha\",\"Mean\",\"Niño/a\"]]\n",
    "renewableyear_oni=renewableyear.merge(oni2,how=\"inner\",on=\"Fecha\")\n",
    "#renewablemonth_oni.head()\n",
    "#\n"
   ]
  },
  {
   "cell_type": "code",
   "execution_count": 20,
   "metadata": {},
   "outputs": [
    {
     "data": {
      "image/png": "[encoded data removed]",
      "text/plain": [
       "<Figure size 1000x900 with 1 Axes>"
      ]
     },
     "metadata": {},
     "output_type": "display_data"
    }
   ],
   "source": [
    "plt.figure(figsize=(10,9))\n",
    "sns.barplot(x=\"Fecha\",y=\"Renovable(%)\",hue=\"Niño/a\",data=renewableyear_oni)\n",
    "plt.title(\"Yearly Renewable Energy Percentage: Comparison between El Niño and La Niña years\",fontsize=15)\n",
    "plt.legend(loc=\"best\")\n",
    "plt.ylabel(\"Renwable Energy (%)\")\n",
    "plt.xlabel(\"Years\")\n",
    "plt.xticks(rotation=45)\n",
    "plt.show()\n",
    "renewableyear_oni.to_csv(\"Renewable_year.csv\")"
   ]
  },
  {
   "cell_type": "markdown",
   "metadata": {},
   "source": [
    "### Conclusions:\n",
    "- There is a noticeable pattern where La Niña years are associated with higher renewable energy generation. This suggests a potential positive impact of La Niña on renewable energy resources.\n",
    "- El Niño years often show lower renewable energy generation, indicating a potential negative impact on renewable resources.\n",
    "- The neutral years wide range of renewable generation percentages highlights that other climatic and non-climatic factors play significant roles in the the renewable generation of colombia."
   ]
  },
  {
   "cell_type": "markdown",
   "metadata": {},
   "source": [
    "## Renewable Generation by month"
   ]
  },
  {
   "cell_type": "markdown",
   "metadata": {},
   "source": [
    "For the monthly analysis, it is necessary to group the generation by month using the union dataframe."
   ]
  },
  {
   "cell_type": "code",
   "execution_count": 21,
   "metadata": {},
   "outputs": [
    {
     "data": {
      "text/html": [
       "<div>\n",
       "<style scoped>\n",
       "    .dataframe tbody tr th:only-of-type {\n",
       "        vertical-align: middle;\n",
       "    }\n",
       "\n",
       "    .dataframe tbody tr th {\n",
       "        vertical-align: top;\n",
       "    }\n",
       "\n",
       "    .dataframe thead th {\n",
       "        text-align: right;\n",
       "    }\n",
       "</style>\n",
       "<table border=\"1\" class=\"dataframe\">\n",
       "  <thead>\n",
       "    <tr style=\"text-align: right;\">\n",
       "      <th></th>\n",
       "      <th>Fecha</th>\n",
       "      <th>Tipo Generacion</th>\n",
       "      <th>0</th>\n",
       "      <th>1</th>\n",
       "      <th>2</th>\n",
       "      <th>3</th>\n",
       "      <th>4</th>\n",
       "      <th>5</th>\n",
       "      <th>6</th>\n",
       "      <th>7</th>\n",
       "      <th>...</th>\n",
       "      <th>16</th>\n",
       "      <th>17</th>\n",
       "      <th>18</th>\n",
       "      <th>19</th>\n",
       "      <th>20</th>\n",
       "      <th>21</th>\n",
       "      <th>22</th>\n",
       "      <th>23</th>\n",
       "      <th>Total</th>\n",
       "      <th>Month</th>\n",
       "    </tr>\n",
       "  </thead>\n",
       "  <tbody>\n",
       "    <tr>\n",
       "      <th>0</th>\n",
       "      <td>1995-07-31</td>\n",
       "      <td>HIDRAULICA</td>\n",
       "      <td>30</td>\n",
       "      <td>27</td>\n",
       "      <td>27</td>\n",
       "      <td>27</td>\n",
       "      <td>30</td>\n",
       "      <td>37</td>\n",
       "      <td>45</td>\n",
       "      <td>47</td>\n",
       "      <td>...</td>\n",
       "      <td>43</td>\n",
       "      <td>45</td>\n",
       "      <td>57</td>\n",
       "      <td>63</td>\n",
       "      <td>59</td>\n",
       "      <td>51</td>\n",
       "      <td>40</td>\n",
       "      <td>32</td>\n",
       "      <td>1051</td>\n",
       "      <td>7</td>\n",
       "    </tr>\n",
       "    <tr>\n",
       "      <th>1</th>\n",
       "      <td>1995-07-31</td>\n",
       "      <td>TERMICA</td>\n",
       "      <td>9</td>\n",
       "      <td>9</td>\n",
       "      <td>8</td>\n",
       "      <td>8</td>\n",
       "      <td>9</td>\n",
       "      <td>9</td>\n",
       "      <td>9</td>\n",
       "      <td>9</td>\n",
       "      <td>...</td>\n",
       "      <td>10</td>\n",
       "      <td>11</td>\n",
       "      <td>12</td>\n",
       "      <td>12</td>\n",
       "      <td>11</td>\n",
       "      <td>10</td>\n",
       "      <td>10</td>\n",
       "      <td>9</td>\n",
       "      <td>229</td>\n",
       "      <td>7</td>\n",
       "    </tr>\n",
       "    <tr>\n",
       "      <th>2</th>\n",
       "      <td>1995-08-31</td>\n",
       "      <td>HIDRAULICA</td>\n",
       "      <td>76</td>\n",
       "      <td>72</td>\n",
       "      <td>71</td>\n",
       "      <td>72</td>\n",
       "      <td>80</td>\n",
       "      <td>101</td>\n",
       "      <td>120</td>\n",
       "      <td>125</td>\n",
       "      <td>...</td>\n",
       "      <td>117</td>\n",
       "      <td>121</td>\n",
       "      <td>153</td>\n",
       "      <td>164</td>\n",
       "      <td>151</td>\n",
       "      <td>134</td>\n",
       "      <td>107</td>\n",
       "      <td>85</td>\n",
       "      <td>2781</td>\n",
       "      <td>8</td>\n",
       "    </tr>\n",
       "    <tr>\n",
       "      <th>3</th>\n",
       "      <td>1995-08-31</td>\n",
       "      <td>TERMICA</td>\n",
       "      <td>21</td>\n",
       "      <td>21</td>\n",
       "      <td>21</td>\n",
       "      <td>21</td>\n",
       "      <td>21</td>\n",
       "      <td>22</td>\n",
       "      <td>23</td>\n",
       "      <td>24</td>\n",
       "      <td>...</td>\n",
       "      <td>24</td>\n",
       "      <td>26</td>\n",
       "      <td>28</td>\n",
       "      <td>29</td>\n",
       "      <td>28</td>\n",
       "      <td>26</td>\n",
       "      <td>24</td>\n",
       "      <td>23</td>\n",
       "      <td>575</td>\n",
       "      <td>8</td>\n",
       "    </tr>\n",
       "    <tr>\n",
       "      <th>4</th>\n",
       "      <td>1995-09-30</td>\n",
       "      <td>HIDRAULICA</td>\n",
       "      <td>74</td>\n",
       "      <td>70</td>\n",
       "      <td>69</td>\n",
       "      <td>70</td>\n",
       "      <td>77</td>\n",
       "      <td>97</td>\n",
       "      <td>117</td>\n",
       "      <td>120</td>\n",
       "      <td>...</td>\n",
       "      <td>111</td>\n",
       "      <td>119</td>\n",
       "      <td>153</td>\n",
       "      <td>156</td>\n",
       "      <td>143</td>\n",
       "      <td>124</td>\n",
       "      <td>99</td>\n",
       "      <td>81</td>\n",
       "      <td>2651</td>\n",
       "      <td>9</td>\n",
       "    </tr>\n",
       "  </tbody>\n",
       "</table>\n",
       "<p>5 rows × 28 columns</p>\n",
       "</div>"
      ],
      "text/plain": [
       "       Fecha Tipo Generacion   0   1   2   3   4    5    6    7  ...   16  \\\n",
       "0 1995-07-31      HIDRAULICA  30  27  27  27  30   37   45   47  ...   43   \n",
       "1 1995-07-31         TERMICA   9   9   8   8   9    9    9    9  ...   10   \n",
       "2 1995-08-31      HIDRAULICA  76  72  71  72  80  101  120  125  ...  117   \n",
       "3 1995-08-31         TERMICA  21  21  21  21  21   22   23   24  ...   24   \n",
       "4 1995-09-30      HIDRAULICA  74  70  69  70  77   97  117  120  ...  111   \n",
       "\n",
       "    17   18   19   20   21   22  23  Total  Month  \n",
       "0   45   57   63   59   51   40  32   1051      7  \n",
       "1   11   12   12   11   10   10   9    229      7  \n",
       "2  121  153  164  151  134  107  85   2781      8  \n",
       "3   26   28   29   28   26   24  23    575      8  \n",
       "4  119  153  156  143  124   99  81   2651      9  \n",
       "\n",
       "[5 rows x 28 columns]"
      ]
     },
     "execution_count": 21,
     "metadata": {},
     "output_type": "execute_result"
    }
   ],
   "source": [
    "grouped=union.groupby([pd.Grouper(key='Fecha', freq='M'),\"Tipo Generacion\"])\n",
    "renewablemonth= grouped.sum(numeric_only=True)\n",
    "for i in renewablemonth.columns:\n",
    "    redondeo_(renewablemonth,i)\n",
    "renewablemonth.reset_index(inplace=True)\n",
    "renewablemonth[\"Month\"]=renewablemonth[\"Fecha\"].dt.month\n",
    "renewablemonth.head()\n"
   ]
  },
  {
   "cell_type": "code",
   "execution_count": 22,
   "metadata": {},
   "outputs": [
    {
     "data": {
      "text/html": [
       "<div>\n",
       "<style scoped>\n",
       "    .dataframe tbody tr th:only-of-type {\n",
       "        vertical-align: middle;\n",
       "    }\n",
       "\n",
       "    .dataframe tbody tr th {\n",
       "        vertical-align: top;\n",
       "    }\n",
       "\n",
       "    .dataframe thead th {\n",
       "        text-align: right;\n",
       "    }\n",
       "</style>\n",
       "<table border=\"1\" class=\"dataframe\">\n",
       "  <thead>\n",
       "    <tr style=\"text-align: right;\">\n",
       "      <th>Tipo Generacion</th>\n",
       "      <th>Fecha</th>\n",
       "      <th>Month</th>\n",
       "      <th>COGENERADOR</th>\n",
       "      <th>EOLICA</th>\n",
       "      <th>HIDRAULICA</th>\n",
       "      <th>SOLAR</th>\n",
       "      <th>TERMICA</th>\n",
       "      <th>Sum</th>\n",
       "      <th>Renovable(%)</th>\n",
       "      <th>Fecha_merge</th>\n",
       "    </tr>\n",
       "  </thead>\n",
       "  <tbody>\n",
       "    <tr>\n",
       "      <th>0</th>\n",
       "      <td>1995-07-31</td>\n",
       "      <td>7</td>\n",
       "      <td>0</td>\n",
       "      <td>0</td>\n",
       "      <td>1051</td>\n",
       "      <td>0</td>\n",
       "      <td>229</td>\n",
       "      <td>1280</td>\n",
       "      <td>82</td>\n",
       "      <td>1995</td>\n",
       "    </tr>\n",
       "    <tr>\n",
       "      <th>1</th>\n",
       "      <td>1995-08-31</td>\n",
       "      <td>8</td>\n",
       "      <td>0</td>\n",
       "      <td>0</td>\n",
       "      <td>2781</td>\n",
       "      <td>0</td>\n",
       "      <td>575</td>\n",
       "      <td>3356</td>\n",
       "      <td>82</td>\n",
       "      <td>1995</td>\n",
       "    </tr>\n",
       "    <tr>\n",
       "      <th>2</th>\n",
       "      <td>1995-09-30</td>\n",
       "      <td>9</td>\n",
       "      <td>0</td>\n",
       "      <td>0</td>\n",
       "      <td>2651</td>\n",
       "      <td>0</td>\n",
       "      <td>671</td>\n",
       "      <td>3322</td>\n",
       "      <td>79</td>\n",
       "      <td>1995</td>\n",
       "    </tr>\n",
       "    <tr>\n",
       "      <th>3</th>\n",
       "      <td>1995-10-31</td>\n",
       "      <td>10</td>\n",
       "      <td>0</td>\n",
       "      <td>0</td>\n",
       "      <td>2804</td>\n",
       "      <td>0</td>\n",
       "      <td>635</td>\n",
       "      <td>3439</td>\n",
       "      <td>81</td>\n",
       "      <td>1995</td>\n",
       "    </tr>\n",
       "    <tr>\n",
       "      <th>4</th>\n",
       "      <td>1995-11-30</td>\n",
       "      <td>11</td>\n",
       "      <td>0</td>\n",
       "      <td>0</td>\n",
       "      <td>2719</td>\n",
       "      <td>0</td>\n",
       "      <td>654</td>\n",
       "      <td>3373</td>\n",
       "      <td>80</td>\n",
       "      <td>1995</td>\n",
       "    </tr>\n",
       "    <tr>\n",
       "      <th>5</th>\n",
       "      <td>1995-12-31</td>\n",
       "      <td>12</td>\n",
       "      <td>0</td>\n",
       "      <td>0</td>\n",
       "      <td>2530</td>\n",
       "      <td>0</td>\n",
       "      <td>848</td>\n",
       "      <td>3378</td>\n",
       "      <td>74</td>\n",
       "      <td>1995</td>\n",
       "    </tr>\n",
       "    <tr>\n",
       "      <th>6</th>\n",
       "      <td>1996-01-31</td>\n",
       "      <td>1</td>\n",
       "      <td>0</td>\n",
       "      <td>0</td>\n",
       "      <td>2449</td>\n",
       "      <td>0</td>\n",
       "      <td>853</td>\n",
       "      <td>3302</td>\n",
       "      <td>74</td>\n",
       "      <td>1996</td>\n",
       "    </tr>\n",
       "    <tr>\n",
       "      <th>7</th>\n",
       "      <td>1996-02-29</td>\n",
       "      <td>2</td>\n",
       "      <td>0</td>\n",
       "      <td>0</td>\n",
       "      <td>2717</td>\n",
       "      <td>0</td>\n",
       "      <td>506</td>\n",
       "      <td>3223</td>\n",
       "      <td>84</td>\n",
       "      <td>1996</td>\n",
       "    </tr>\n",
       "    <tr>\n",
       "      <th>8</th>\n",
       "      <td>1996-03-31</td>\n",
       "      <td>3</td>\n",
       "      <td>0</td>\n",
       "      <td>0</td>\n",
       "      <td>2968</td>\n",
       "      <td>0</td>\n",
       "      <td>469</td>\n",
       "      <td>3437</td>\n",
       "      <td>86</td>\n",
       "      <td>1996</td>\n",
       "    </tr>\n",
       "    <tr>\n",
       "      <th>9</th>\n",
       "      <td>1996-04-30</td>\n",
       "      <td>4</td>\n",
       "      <td>0</td>\n",
       "      <td>0</td>\n",
       "      <td>2874</td>\n",
       "      <td>0</td>\n",
       "      <td>405</td>\n",
       "      <td>3279</td>\n",
       "      <td>87</td>\n",
       "      <td>1996</td>\n",
       "    </tr>\n",
       "  </tbody>\n",
       "</table>\n",
       "</div>"
      ],
      "text/plain": [
       "Tipo Generacion      Fecha  Month  COGENERADOR  EOLICA  HIDRAULICA  SOLAR  \\\n",
       "0               1995-07-31      7            0       0        1051      0   \n",
       "1               1995-08-31      8            0       0        2781      0   \n",
       "2               1995-09-30      9            0       0        2651      0   \n",
       "3               1995-10-31     10            0       0        2804      0   \n",
       "4               1995-11-30     11            0       0        2719      0   \n",
       "5               1995-12-31     12            0       0        2530      0   \n",
       "6               1996-01-31      1            0       0        2449      0   \n",
       "7               1996-02-29      2            0       0        2717      0   \n",
       "8               1996-03-31      3            0       0        2968      0   \n",
       "9               1996-04-30      4            0       0        2874      0   \n",
       "\n",
       "Tipo Generacion  TERMICA   Sum  Renovable(%)  Fecha_merge  \n",
       "0                    229  1280            82         1995  \n",
       "1                    575  3356            82         1995  \n",
       "2                    671  3322            79         1995  \n",
       "3                    635  3439            81         1995  \n",
       "4                    654  3373            80         1995  \n",
       "5                    848  3378            74         1995  \n",
       "6                    853  3302            74         1996  \n",
       "7                    506  3223            84         1996  \n",
       "8                    469  3437            86         1996  \n",
       "9                    405  3279            87         1996  "
      ]
     },
     "execution_count": 22,
     "metadata": {},
     "output_type": "execute_result"
    }
   ],
   "source": [
    "result3=renewablemonth.pivot(index=[\"Fecha\",\"Month\"],columns='Tipo Generacion',values='Total')\n",
    "result3=result3.replace(np.nan,0)\n",
    "result3[\"Sum\"]=result3[result3.columns].sum(numeric_only=True,axis=1)\n",
    "result3[\"Renovable(%)\"]=round(result3[[\"EOLICA\",\"HIDRAULICA\",\"SOLAR\"]].sum(numeric_only=True,axis=1)/result3[\"Sum\"] *100,2)\n",
    "for i in result3.columns:\n",
    "     result3[i]=result3[i].apply(lambda x: int(x))\n",
    "result3.reset_index(inplace=True)\n",
    "#year_merge is used for the merge \n",
    "result3['Fecha_merge']=result3[\"Fecha\"].dt.year\n",
    "result3.head(10)"
   ]
  },
  {
   "cell_type": "code",
   "execution_count": 23,
   "metadata": {},
   "outputs": [
    {
     "data": {
      "text/html": [
       "<div>\n",
       "<style scoped>\n",
       "    .dataframe tbody tr th:only-of-type {\n",
       "        vertical-align: middle;\n",
       "    }\n",
       "\n",
       "    .dataframe tbody tr th {\n",
       "        vertical-align: top;\n",
       "    }\n",
       "\n",
       "    .dataframe thead th {\n",
       "        text-align: right;\n",
       "    }\n",
       "</style>\n",
       "<table border=\"1\" class=\"dataframe\">\n",
       "  <thead>\n",
       "    <tr style=\"text-align: right;\">\n",
       "      <th></th>\n",
       "      <th>Fecha_merge</th>\n",
       "      <th>Month</th>\n",
       "      <th>TOTAL</th>\n",
       "      <th>ClimAdjust</th>\n",
       "      <th>ANOM</th>\n",
       "      <th>Niño/a</th>\n",
       "    </tr>\n",
       "  </thead>\n",
       "  <tbody>\n",
       "    <tr>\n",
       "      <th>540</th>\n",
       "      <td>1995</td>\n",
       "      <td>1</td>\n",
       "      <td>27.57</td>\n",
       "      <td>26.59</td>\n",
       "      <td>0.98</td>\n",
       "      <td>El Niño</td>\n",
       "    </tr>\n",
       "    <tr>\n",
       "      <th>541</th>\n",
       "      <td>1995</td>\n",
       "      <td>2</td>\n",
       "      <td>27.49</td>\n",
       "      <td>26.79</td>\n",
       "      <td>0.71</td>\n",
       "      <td>El Niño</td>\n",
       "    </tr>\n",
       "    <tr>\n",
       "      <th>542</th>\n",
       "      <td>1995</td>\n",
       "      <td>3</td>\n",
       "      <td>27.76</td>\n",
       "      <td>27.28</td>\n",
       "      <td>0.48</td>\n",
       "      <td>Neutral</td>\n",
       "    </tr>\n",
       "    <tr>\n",
       "      <th>543</th>\n",
       "      <td>1995</td>\n",
       "      <td>4</td>\n",
       "      <td>28.11</td>\n",
       "      <td>27.70</td>\n",
       "      <td>0.41</td>\n",
       "      <td>Neutral</td>\n",
       "    </tr>\n",
       "    <tr>\n",
       "      <th>544</th>\n",
       "      <td>1995</td>\n",
       "      <td>5</td>\n",
       "      <td>27.83</td>\n",
       "      <td>27.80</td>\n",
       "      <td>0.02</td>\n",
       "      <td>Neutral</td>\n",
       "    </tr>\n",
       "    <tr>\n",
       "      <th>545</th>\n",
       "      <td>1995</td>\n",
       "      <td>6</td>\n",
       "      <td>27.59</td>\n",
       "      <td>27.60</td>\n",
       "      <td>-0.01</td>\n",
       "      <td>Neutral</td>\n",
       "    </tr>\n",
       "    <tr>\n",
       "      <th>546</th>\n",
       "      <td>1995</td>\n",
       "      <td>7</td>\n",
       "      <td>27.08</td>\n",
       "      <td>27.19</td>\n",
       "      <td>-0.11</td>\n",
       "      <td>Neutral</td>\n",
       "    </tr>\n",
       "    <tr>\n",
       "      <th>547</th>\n",
       "      <td>1995</td>\n",
       "      <td>8</td>\n",
       "      <td>26.23</td>\n",
       "      <td>26.84</td>\n",
       "      <td>-0.61</td>\n",
       "      <td>La Niña</td>\n",
       "    </tr>\n",
       "    <tr>\n",
       "      <th>548</th>\n",
       "      <td>1995</td>\n",
       "      <td>9</td>\n",
       "      <td>25.88</td>\n",
       "      <td>26.78</td>\n",
       "      <td>-0.90</td>\n",
       "      <td>La Niña</td>\n",
       "    </tr>\n",
       "    <tr>\n",
       "      <th>549</th>\n",
       "      <td>1995</td>\n",
       "      <td>10</td>\n",
       "      <td>25.84</td>\n",
       "      <td>26.76</td>\n",
       "      <td>-0.92</td>\n",
       "      <td>La Niña</td>\n",
       "    </tr>\n",
       "    <tr>\n",
       "      <th>550</th>\n",
       "      <td>1995</td>\n",
       "      <td>11</td>\n",
       "      <td>25.61</td>\n",
       "      <td>26.70</td>\n",
       "      <td>-1.10</td>\n",
       "      <td>La Niña</td>\n",
       "    </tr>\n",
       "    <tr>\n",
       "      <th>551</th>\n",
       "      <td>1995</td>\n",
       "      <td>12</td>\n",
       "      <td>25.66</td>\n",
       "      <td>26.66</td>\n",
       "      <td>-1.00</td>\n",
       "      <td>La Niña</td>\n",
       "    </tr>\n",
       "    <tr>\n",
       "      <th>552</th>\n",
       "      <td>1996</td>\n",
       "      <td>1</td>\n",
       "      <td>25.70</td>\n",
       "      <td>26.56</td>\n",
       "      <td>-0.86</td>\n",
       "      <td>La Niña</td>\n",
       "    </tr>\n",
       "    <tr>\n",
       "      <th>553</th>\n",
       "      <td>1996</td>\n",
       "      <td>2</td>\n",
       "      <td>25.91</td>\n",
       "      <td>26.75</td>\n",
       "      <td>-0.85</td>\n",
       "      <td>La Niña</td>\n",
       "    </tr>\n",
       "    <tr>\n",
       "      <th>554</th>\n",
       "      <td>1996</td>\n",
       "      <td>3</td>\n",
       "      <td>26.69</td>\n",
       "      <td>27.24</td>\n",
       "      <td>-0.56</td>\n",
       "      <td>La Niña</td>\n",
       "    </tr>\n",
       "  </tbody>\n",
       "</table>\n",
       "</div>"
      ],
      "text/plain": [
       "     Fecha_merge  Month  TOTAL  ClimAdjust  ANOM   Niño/a\n",
       "540         1995      1  27.57       26.59  0.98  El Niño\n",
       "541         1995      2  27.49       26.79  0.71  El Niño\n",
       "542         1995      3  27.76       27.28  0.48  Neutral\n",
       "543         1995      4  28.11       27.70  0.41  Neutral\n",
       "544         1995      5  27.83       27.80  0.02  Neutral\n",
       "545         1995      6  27.59       27.60 -0.01  Neutral\n",
       "546         1995      7  27.08       27.19 -0.11  Neutral\n",
       "547         1995      8  26.23       26.84 -0.61  La Niña\n",
       "548         1995      9  25.88       26.78 -0.90  La Niña\n",
       "549         1995     10  25.84       26.76 -0.92  La Niña\n",
       "550         1995     11  25.61       26.70 -1.10  La Niña\n",
       "551         1995     12  25.66       26.66 -1.00  La Niña\n",
       "552         1996      1  25.70       26.56 -0.86  La Niña\n",
       "553         1996      2  25.91       26.75 -0.85  La Niña\n",
       "554         1996      3  26.69       27.24 -0.56  La Niña"
      ]
     },
     "execution_count": 23,
     "metadata": {},
     "output_type": "execute_result"
    }
   ],
   "source": [
    "url = 'https://origin.cpc.ncep.noaa.gov/products/analysis_monitoring/ensostuff/detrend.nino34.ascii.txt'\n",
    "oni = pd.read_csv(url, delim_whitespace=True, header=0)\n",
    "oni=oni.loc[(oni[\"YR\"]>=1995 )]\n",
    "oni[\"Niño/a\"]=oni[\"ANOM\"].apply(lambda promedio: \"El Niño\" if promedio > 0.5 else \"La Niña\" if promedio < -0.5 else \"Neutral\")\n",
    "oni.rename(columns={\"YR\":\"Fecha_merge\",\"MON\":\"Month\"},inplace=True)\n",
    "oni.head(15)\n"
   ]
  },
  {
   "cell_type": "code",
   "execution_count": 24,
   "metadata": {},
   "outputs": [
    {
     "data": {
      "text/html": [
       "<div>\n",
       "<style scoped>\n",
       "    .dataframe tbody tr th:only-of-type {\n",
       "        vertical-align: middle;\n",
       "    }\n",
       "\n",
       "    .dataframe tbody tr th {\n",
       "        vertical-align: top;\n",
       "    }\n",
       "\n",
       "    .dataframe thead th {\n",
       "        text-align: right;\n",
       "    }\n",
       "</style>\n",
       "<table border=\"1\" class=\"dataframe\">\n",
       "  <thead>\n",
       "    <tr style=\"text-align: right;\">\n",
       "      <th></th>\n",
       "      <th>Fecha</th>\n",
       "      <th>Month</th>\n",
       "      <th>COGENERADOR</th>\n",
       "      <th>EOLICA</th>\n",
       "      <th>HIDRAULICA</th>\n",
       "      <th>SOLAR</th>\n",
       "      <th>TERMICA</th>\n",
       "      <th>Sum</th>\n",
       "      <th>Renovable(%)</th>\n",
       "      <th>ANOM</th>\n",
       "      <th>Niño/a</th>\n",
       "    </tr>\n",
       "  </thead>\n",
       "  <tbody>\n",
       "    <tr>\n",
       "      <th>315</th>\n",
       "      <td>2021-10-31</td>\n",
       "      <td>10</td>\n",
       "      <td>68</td>\n",
       "      <td>3</td>\n",
       "      <td>5599</td>\n",
       "      <td>31</td>\n",
       "      <td>920</td>\n",
       "      <td>6621</td>\n",
       "      <td>85</td>\n",
       "      <td>-0.94</td>\n",
       "      <td>La Niña</td>\n",
       "    </tr>\n",
       "    <tr>\n",
       "      <th>316</th>\n",
       "      <td>2021-11-30</td>\n",
       "      <td>11</td>\n",
       "      <td>55</td>\n",
       "      <td>3</td>\n",
       "      <td>5346</td>\n",
       "      <td>34</td>\n",
       "      <td>853</td>\n",
       "      <td>6291</td>\n",
       "      <td>85</td>\n",
       "      <td>-0.94</td>\n",
       "      <td>La Niña</td>\n",
       "    </tr>\n",
       "    <tr>\n",
       "      <th>317</th>\n",
       "      <td>2021-12-31</td>\n",
       "      <td>12</td>\n",
       "      <td>84</td>\n",
       "      <td>5</td>\n",
       "      <td>4835</td>\n",
       "      <td>36</td>\n",
       "      <td>1359</td>\n",
       "      <td>6319</td>\n",
       "      <td>77</td>\n",
       "      <td>-1.06</td>\n",
       "      <td>La Niña</td>\n",
       "    </tr>\n",
       "    <tr>\n",
       "      <th>318</th>\n",
       "      <td>2022-01-31</td>\n",
       "      <td>1</td>\n",
       "      <td>86</td>\n",
       "      <td>4</td>\n",
       "      <td>4788</td>\n",
       "      <td>38</td>\n",
       "      <td>1361</td>\n",
       "      <td>6277</td>\n",
       "      <td>76</td>\n",
       "      <td>-0.95</td>\n",
       "      <td>La Niña</td>\n",
       "    </tr>\n",
       "    <tr>\n",
       "      <th>319</th>\n",
       "      <td>2022-02-28</td>\n",
       "      <td>2</td>\n",
       "      <td>81</td>\n",
       "      <td>4</td>\n",
       "      <td>4376</td>\n",
       "      <td>32</td>\n",
       "      <td>1390</td>\n",
       "      <td>5883</td>\n",
       "      <td>75</td>\n",
       "      <td>-0.89</td>\n",
       "      <td>La Niña</td>\n",
       "    </tr>\n",
       "    <tr>\n",
       "      <th>320</th>\n",
       "      <td>2022-03-31</td>\n",
       "      <td>3</td>\n",
       "      <td>67</td>\n",
       "      <td>5</td>\n",
       "      <td>5395</td>\n",
       "      <td>35</td>\n",
       "      <td>965</td>\n",
       "      <td>6467</td>\n",
       "      <td>84</td>\n",
       "      <td>-0.97</td>\n",
       "      <td>La Niña</td>\n",
       "    </tr>\n",
       "    <tr>\n",
       "      <th>321</th>\n",
       "      <td>2022-04-30</td>\n",
       "      <td>4</td>\n",
       "      <td>55</td>\n",
       "      <td>4</td>\n",
       "      <td>5290</td>\n",
       "      <td>33</td>\n",
       "      <td>857</td>\n",
       "      <td>6239</td>\n",
       "      <td>85</td>\n",
       "      <td>-1.11</td>\n",
       "      <td>La Niña</td>\n",
       "    </tr>\n",
       "    <tr>\n",
       "      <th>322</th>\n",
       "      <td>2022-05-31</td>\n",
       "      <td>5</td>\n",
       "      <td>37</td>\n",
       "      <td>3</td>\n",
       "      <td>5600</td>\n",
       "      <td>31</td>\n",
       "      <td>885</td>\n",
       "      <td>6556</td>\n",
       "      <td>85</td>\n",
       "      <td>-1.11</td>\n",
       "      <td>La Niña</td>\n",
       "    </tr>\n",
       "    <tr>\n",
       "      <th>323</th>\n",
       "      <td>2022-06-30</td>\n",
       "      <td>6</td>\n",
       "      <td>50</td>\n",
       "      <td>4</td>\n",
       "      <td>5281</td>\n",
       "      <td>30</td>\n",
       "      <td>838</td>\n",
       "      <td>6203</td>\n",
       "      <td>85</td>\n",
       "      <td>-0.75</td>\n",
       "      <td>La Niña</td>\n",
       "    </tr>\n",
       "    <tr>\n",
       "      <th>324</th>\n",
       "      <td>2022-07-31</td>\n",
       "      <td>7</td>\n",
       "      <td>64</td>\n",
       "      <td>8</td>\n",
       "      <td>5523</td>\n",
       "      <td>40</td>\n",
       "      <td>927</td>\n",
       "      <td>6562</td>\n",
       "      <td>84</td>\n",
       "      <td>-0.70</td>\n",
       "      <td>La Niña</td>\n",
       "    </tr>\n",
       "    <tr>\n",
       "      <th>325</th>\n",
       "      <td>2022-08-31</td>\n",
       "      <td>8</td>\n",
       "      <td>69</td>\n",
       "      <td>9</td>\n",
       "      <td>5671</td>\n",
       "      <td>47</td>\n",
       "      <td>817</td>\n",
       "      <td>6613</td>\n",
       "      <td>86</td>\n",
       "      <td>-0.97</td>\n",
       "      <td>La Niña</td>\n",
       "    </tr>\n",
       "    <tr>\n",
       "      <th>326</th>\n",
       "      <td>2022-09-30</td>\n",
       "      <td>9</td>\n",
       "      <td>70</td>\n",
       "      <td>4</td>\n",
       "      <td>5475</td>\n",
       "      <td>50</td>\n",
       "      <td>819</td>\n",
       "      <td>6418</td>\n",
       "      <td>86</td>\n",
       "      <td>-1.07</td>\n",
       "      <td>La Niña</td>\n",
       "    </tr>\n",
       "    <tr>\n",
       "      <th>327</th>\n",
       "      <td>2022-10-31</td>\n",
       "      <td>10</td>\n",
       "      <td>66</td>\n",
       "      <td>5</td>\n",
       "      <td>5823</td>\n",
       "      <td>53</td>\n",
       "      <td>686</td>\n",
       "      <td>6633</td>\n",
       "      <td>88</td>\n",
       "      <td>-0.99</td>\n",
       "      <td>La Niña</td>\n",
       "    </tr>\n",
       "    <tr>\n",
       "      <th>328</th>\n",
       "      <td>2022-11-30</td>\n",
       "      <td>11</td>\n",
       "      <td>48</td>\n",
       "      <td>7</td>\n",
       "      <td>5635</td>\n",
       "      <td>48</td>\n",
       "      <td>692</td>\n",
       "      <td>6430</td>\n",
       "      <td>88</td>\n",
       "      <td>-0.90</td>\n",
       "      <td>La Niña</td>\n",
       "    </tr>\n",
       "    <tr>\n",
       "      <th>329</th>\n",
       "      <td>2022-12-31</td>\n",
       "      <td>12</td>\n",
       "      <td>72</td>\n",
       "      <td>16</td>\n",
       "      <td>5481</td>\n",
       "      <td>66</td>\n",
       "      <td>992</td>\n",
       "      <td>6627</td>\n",
       "      <td>83</td>\n",
       "      <td>-0.86</td>\n",
       "      <td>La Niña</td>\n",
       "    </tr>\n",
       "  </tbody>\n",
       "</table>\n",
       "</div>"
      ],
      "text/plain": [
       "         Fecha  Month  COGENERADOR  EOLICA  HIDRAULICA  SOLAR  TERMICA   Sum  \\\n",
       "315 2021-10-31     10           68       3        5599     31      920  6621   \n",
       "316 2021-11-30     11           55       3        5346     34      853  6291   \n",
       "317 2021-12-31     12           84       5        4835     36     1359  6319   \n",
       "318 2022-01-31      1           86       4        4788     38     1361  6277   \n",
       "319 2022-02-28      2           81       4        4376     32     1390  5883   \n",
       "320 2022-03-31      3           67       5        5395     35      965  6467   \n",
       "321 2022-04-30      4           55       4        5290     33      857  6239   \n",
       "322 2022-05-31      5           37       3        5600     31      885  6556   \n",
       "323 2022-06-30      6           50       4        5281     30      838  6203   \n",
       "324 2022-07-31      7           64       8        5523     40      927  6562   \n",
       "325 2022-08-31      8           69       9        5671     47      817  6613   \n",
       "326 2022-09-30      9           70       4        5475     50      819  6418   \n",
       "327 2022-10-31     10           66       5        5823     53      686  6633   \n",
       "328 2022-11-30     11           48       7        5635     48      692  6430   \n",
       "329 2022-12-31     12           72      16        5481     66      992  6627   \n",
       "\n",
       "     Renovable(%)  ANOM   Niño/a  \n",
       "315            85 -0.94  La Niña  \n",
       "316            85 -0.94  La Niña  \n",
       "317            77 -1.06  La Niña  \n",
       "318            76 -0.95  La Niña  \n",
       "319            75 -0.89  La Niña  \n",
       "320            84 -0.97  La Niña  \n",
       "321            85 -1.11  La Niña  \n",
       "322            85 -1.11  La Niña  \n",
       "323            85 -0.75  La Niña  \n",
       "324            84 -0.70  La Niña  \n",
       "325            86 -0.97  La Niña  \n",
       "326            86 -1.07  La Niña  \n",
       "327            88 -0.99  La Niña  \n",
       "328            88 -0.90  La Niña  \n",
       "329            83 -0.86  La Niña  "
      ]
     },
     "execution_count": 24,
     "metadata": {},
     "output_type": "execute_result"
    }
   ],
   "source": [
    "oni2=oni[[\"Fecha_merge\",\"Month\",\"ANOM\",\"Niño/a\"]]\n",
    "renewablemonth_oni=result3.merge(oni2,how=\"inner\",on=[\"Fecha_merge\",\"Month\"])\n",
    "renewablemonth_oni=renewablemonth_oni.drop(columns=\"Fecha_merge\")\n",
    "renewablemonth_oni.to_csv(\"Renwable_month.csv\")\n",
    "renewablemonth_oni.tail(15)"
   ]
  },
  {
   "cell_type": "code",
   "execution_count": 25,
   "metadata": {},
   "outputs": [
    {
     "name": "stdout",
     "output_type": "stream",
     "text": [
      "Hola\n"
     ]
    }
   ],
   "source": [
    "print(\"Hola\")"
   ]
  },
  {
   "cell_type": "code",
   "execution_count": 26,
   "metadata": {},
   "outputs": [
    {
     "name": "stderr",
     "output_type": "stream",
     "text": [
      "c:\\Users\\mateo\\anaconda3\\Lib\\site-packages\\seaborn\\_oldcore.py:1119: FutureWarning:\n",
      "\n",
      "use_inf_as_na option is deprecated and will be removed in a future version. Convert inf values to NaN before operating instead.\n",
      "\n",
      "c:\\Users\\mateo\\anaconda3\\Lib\\site-packages\\seaborn\\_oldcore.py:1119: FutureWarning:\n",
      "\n",
      "use_inf_as_na option is deprecated and will be removed in a future version. Convert inf values to NaN before operating instead.\n",
      "\n"
     ]
    },
    {
     "data": {
      "image/png": "[encoded data removed]",
      "text/plain": [
       "<Figure size 1400x1200 with 3 Axes>"
      ]
     },
     "metadata": {},
     "output_type": "display_data"
    }
   ],
   "source": [
    "\n",
    "\n",
    "plt.figure(figsize=(14, 12))\n",
    "\n",
    "# Subplot 1: % Renewable Energy vs Years with Niño/a categories\n",
    "plt.subplot(3, 1, 1)\n",
    "sns.set_style(\"whitegrid\")\n",
    "sns.scatterplot(x=\"Fecha\", y=\"Renovable(%)\", data=renewablemonth_oni, hue=\"Niño/a\", palette=\"deep\", s=50)\n",
    "plt.xlabel(\"Years\", fontsize=12)\n",
    "plt.ylabel(\"Renwable Energy (%)\", fontsize=12)\n",
    "plt.title(\"Monthly Renewable Energy Percentage: Analysis by El Niño, La Niña, and Neutral Conditions\", fontsize=15)\n",
    "plt.legend(title=\"Niño/a\", loc='best', fontsize=10)\n",
    "plt.grid( linestyle='-', linewidth=1)\n",
    "\n",
    "# Subplot 2: Generation (GWH) vs Years by Tipo Generacion\n",
    "plt.subplot(3, 1, 2)\n",
    "sns.lineplot(x=\"Fecha\", y=\"Total\", data=yearlygeneration.loc[(yearlygeneration[\"Tipo Generacion\"]==\"HIDRAULICA\") | (yearlygeneration[\"Tipo Generacion\"]==\"TERMICA\")], hue=\"Tipo Generacion\", palette=\"Set1\", linewidth=2.5)\n",
    "plt.xlabel(\"Years\", fontsize=12)\n",
    "plt.ylabel(\"Generation (GWH)\", fontsize=12)\n",
    "plt.title(\"Long-Term Trends in Energy Generation by Type\", fontsize=15)\n",
    "plt.legend(title=\"Type of Generation\", loc='upper left', fontsize=10)\n",
    "\n",
    "# Subplot 3: % Renewable Energy vs Years with El Niño and La Niña\n",
    "plt.subplot(3, 1, 3)\n",
    "sns.set_style(\"whitegrid\")\n",
    "sns.scatterplot(x=\"Fecha\", y=\"Renovable(%)\", data=renewablemonth_oni.loc[(renewablemonth_oni[\"Niño/a\"]==\"El Niño\") | (renewablemonth_oni[\"Niño/a\"]==\"La Niña\")], hue=\"Niño/a\", palette=\"deep\", s=50)\n",
    "plt.xlabel(\"Years\", fontsize=12)\n",
    "plt.ylabel(\"Renwable Energy (%)\", fontsize=12)\n",
    "plt.title(\"Monthly Renewable Energy Percentage: Comparison between El Niño and La Niña Months\", fontsize=15)\n",
    "plt.legend(title=\"Niño/a\", loc='best', fontsize=10)\n",
    "\n",
    "plt.tight_layout()\n",
    "plt.show()\n"
   ]
  },
  {
   "cell_type": "markdown",
   "metadata": {},
   "source": [
    "### Conclusions:\n",
    "- The monthly analysis consistently reinforces the findings of the yearly analysis, highlighting a distinct pattern where La Niña months correlate with increased renewable energy generation. This pattern further solidifies the understanding that environmental factors, such as La Niña, play a significant role in shaping energy production trends in colombia \n",
    "- It's evident that during El Niño months, there is a notable decrease in the percentage of renewable energy generation. This observation aligns seamlessly with our earlier project analysis, where periods of El Niño often coincide with reduced hydroelectric output due to water scarcity. Consequently, thermal power plants step in to meet the energy demand vacuum left by hydroelectric limitations, further emphasizing the importance of understanding and adapting to climatic fluctuations in energy planning and management strategies."
   ]
  },
  {
   "cell_type": "code",
   "execution_count": 27,
   "metadata": {},
   "outputs": [
    {
     "data": {
      "text/html": [
       "\n",
       "<iframe title=\"GeneracionElectricaencolombia\" width=\"1300\" height=\"800\" src=\"https://app.powerbi.com/view?r=eyJrIjoiYWZkNDYzYjctMzNhNC00YzY0LTk0ZGMtMjFhMWY3YjcwNjRmIiwidCI6IjUwNjQwNTg0LTJhNDAtNDIxNi1hODRiLTliM2VlMGYzZjZjZiIsImMiOjR9\" frameborder=\"0\" allowFullScreen=\"true\"></iframe>\n"
      ],
      "text/plain": [
       "<IPython.core.display.HTML object>"
      ]
     },
     "metadata": {},
     "output_type": "display_data"
    }
   ],
   "source": [
    "from IPython.display import HTML\n",
    "\n",
    "# Código HTML del Dashboard de Power BI\n",
    "html_code_powerbi_dashboard = \"\"\"\n",
    "<iframe title=\"GeneracionElectricaencolombia\" width=\"1300\" height=\"800\" src=\"https://app.powerbi.com/view?r=eyJrIjoiYWZkNDYzYjctMzNhNC00YzY0LTk0ZGMtMjFhMWY3YjcwNjRmIiwidCI6IjUwNjQwNTg0LTJhNDAtNDIxNi1hODRiLTliM2VlMGYzZjZjZiIsImMiOjR9\" frameborder=\"0\" allowFullScreen=\"true\"></iframe>\n",
    "\"\"\"\n",
    "\n",
    "# Mostrar el Dashboard dentro del notebook\n",
    "display(HTML(html_code_powerbi_dashboard))"
   ]
  },
  {
   "cell_type": "code",
   "execution_count": null,
   "metadata": {},
   "outputs": [],
   "source": [
    "print(\"Prueba\")"
   ]
  },
  {
   "cell_type": "code",
   "execution_count": null,
   "metadata": {},
   "outputs": [],
   "source": [
    "union_prueba=union.copy()"
   ]
  },
  {
   "cell_type": "code",
   "execution_count": null,
   "metadata": {},
   "outputs": [],
   "source": [
    "#VERSIONS POCO EFICIENTES EN RENDIMIENTO\n",
    "#def renovable(row):\n",
    "#   if (row[\"Tipo Generacion\"]=='HIDRAULICA') or (row[\"Tipo Generacion\"]=='EOLICA') or (row[\"Tipo Generacion\"]=='SOLAR'):\n",
    "#       x=row[\"Total\"]/union_prueba[\"Total\"].sum()\n",
    "#       return x\n",
    "#    else:\n",
    "#        return 0\n",
    "#union_prueba[\"Renovable\"] = union_prueba.apply(renovable, axis=1)\n",
    "#union_prueba[\"Renovable\"]=union_prueba[\"Tipo Generacion\"].apply(lambda x: union[\"Total\"]/union_prueba[\"Total\"].sum() if (x =='HIDRAULICA') | (x=='EOLICA')|(x=='SOLAR') else 0)"
   ]
  },
  {
   "cell_type": "code",
   "execution_count": 30,
   "metadata": {},
   "outputs": [
    {
     "data": {
      "text/plain": [
       "array(['TERMICA', 'HIDRAULICA', 'COGENERADOR', 'EOLICA', 'SOLAR'],\n",
       "      dtype=object)"
      ]
     },
     "execution_count": 30,
     "metadata": {},
     "output_type": "execute_result"
    }
   ],
   "source": [
    "union[\"Tipo Generacion\"].unique()"
   ]
  },
  {
   "cell_type": "code",
   "execution_count": 31,
   "metadata": {},
   "outputs": [],
   "source": [
    "#Usando numpy\n",
    "# Sumar el total una vez para evitar recalcularlo en cada iteración\n",
    "total_sum = union_prueba[\"Total\"].sum()\n",
    "\n",
    "# Crear una máscara booleana para las condiciones\n",
    "mask = union_prueba[\"Tipo Generacion\"].isin(['HIDRAULICA', 'EOLICA', 'SOLAR'])\n",
    "\n",
    "union_prueba[\"Renovable\"] = np.where(mask, union_prueba[\"Total\"] / total_sum, 0)\n",
    "union_prueba[\"NO Renovable\"]=np.where((union_prueba[\"Tipo Generacion\"].isin(['COGENERADOR','TERMICA'])), union_prueba[\"Total\"] / total_sum,0)\n",
    "union_prueba[\"Participacion %\"]=union_prueba[\"Total\"] / total_sum"
   ]
  },
  {
   "cell_type": "code",
   "execution_count": 33,
   "metadata": {},
   "outputs": [
    {
     "data": {
      "text/plain": [
       "0.9999999999999999"
      ]
     },
     "execution_count": 33,
     "metadata": {},
     "output_type": "execute_result"
    }
   ],
   "source": [
    "union_prueba[\"Renovable\"].sum() + union_prueba[\"NO Renovable\"].sum()"
   ]
  },
  {
   "cell_type": "code",
   "execution_count": 34,
   "metadata": {},
   "outputs": [
    {
     "data": {
      "text/plain": [
       "1.0"
      ]
     },
     "execution_count": 34,
     "metadata": {},
     "output_type": "execute_result"
    }
   ],
   "source": [
    "union_prueba[\"Participacion %\"].sum()"
   ]
  },
  {
   "cell_type": "code",
   "execution_count": 35,
   "metadata": {},
   "outputs": [],
   "source": [
    "union_prueba.to_csv(\"Generacionelectricaprueba.csv\")"
   ]
  }
 ],
 "metadata": {
  "kernelspec": {
   "display_name": "base",
   "language": "python",
   "name": "python3"
  },
  "language_info": {
   "codemirror_mode": {
    "name": "ipython",
    "version": 3
   },
   "file_extension": ".py",
   "mimetype": "text/x-python",
   "name": "python",
   "nbconvert_exporter": "python",
   "pygments_lexer": "ipython3",
   "version": "3.11.7"
  }
 },
 "nbformat": 4,
 "nbformat_minor": 2
}
